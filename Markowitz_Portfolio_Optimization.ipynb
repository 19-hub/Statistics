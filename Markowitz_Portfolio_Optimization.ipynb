{
  "nbformat": 4,
  "nbformat_minor": 0,
  "metadata": {
    "colab": {
      "name": "Markowitz Portfolio Optimization.ipynb",
      "provenance": [],
      "collapsed_sections": [],
      "authorship_tag": "ABX9TyN22vh4dwrDDHpUS0EXPuW/",
      "include_colab_link": true
    },
    "kernelspec": {
      "name": "python3",
      "display_name": "Python 3"
    }
  },
  "cells": [
    {
      "cell_type": "markdown",
      "metadata": {
        "id": "view-in-github",
        "colab_type": "text"
      },
      "source": [
        "<a href=\"https://colab.research.google.com/github/Rioba-Ian/Statistics/blob/main/Markowitz_Portfolio_Optimization.ipynb\" target=\"_parent\"><img src=\"https://colab.research.google.com/assets/colab-badge.svg\" alt=\"Open In Colab\"/></a>"
      ]
    },
    {
      "cell_type": "code",
      "metadata": {
        "id": "vatqPdE9hOO3"
      },
      "source": [
        "import numpy as np\n",
        "import pandas as pd\n",
        "import matplotlib.pyplot as plt\n",
        "%matplotlib inline\n"
      ],
      "execution_count": 1,
      "outputs": []
    },
    {
      "cell_type": "code",
      "metadata": {
        "id": "icytXhAwp8ER"
      },
      "source": [
        "aapl = pd.read_csv('/content/sample_data/AAPL_CLOSE', index_col='Date', parse_dates=True)\n",
        "cisco = pd.read_csv('/content/sample_data/CISCO_CLOSE', index_col='Date', parse_dates=True)\n",
        "amzn = pd.read_csv('/content/sample_data/AMZN_CLOSE', index_col='Date', parse_dates=True)\n",
        "ibm = pd.read_csv('/content/sample_data/IBM_CLOSE', index_col='Date', parse_dates=True)"
      ],
      "execution_count": 2,
      "outputs": []
    },
    {
      "cell_type": "code",
      "metadata": {
        "id": "A-1gOvEUrrnv"
      },
      "source": [
        "stocks = pd.concat([aapl, cisco, amzn, ibm], axis=1)\n",
        "stocks.columns = ['aapl', 'cisco', 'ibm', 'amzn']"
      ],
      "execution_count": 3,
      "outputs": []
    },
    {
      "cell_type": "code",
      "metadata": {
        "colab": {
          "base_uri": "https://localhost:8080/",
          "height": 225
        },
        "id": "CUZDycyUspFZ",
        "outputId": "4cbf794e-67f3-4698-f2e7-e35bcc1cc3d7"
      },
      "source": [
        "stocks.head()"
      ],
      "execution_count": 4,
      "outputs": [
        {
          "output_type": "execute_result",
          "data": {
            "text/html": [
              "<div>\n",
              "<style scoped>\n",
              "    .dataframe tbody tr th:only-of-type {\n",
              "        vertical-align: middle;\n",
              "    }\n",
              "\n",
              "    .dataframe tbody tr th {\n",
              "        vertical-align: top;\n",
              "    }\n",
              "\n",
              "    .dataframe thead th {\n",
              "        text-align: right;\n",
              "    }\n",
              "</style>\n",
              "<table border=\"1\" class=\"dataframe\">\n",
              "  <thead>\n",
              "    <tr style=\"text-align: right;\">\n",
              "      <th></th>\n",
              "      <th>aapl</th>\n",
              "      <th>cisco</th>\n",
              "      <th>ibm</th>\n",
              "      <th>amzn</th>\n",
              "    </tr>\n",
              "    <tr>\n",
              "      <th>Date</th>\n",
              "      <th></th>\n",
              "      <th></th>\n",
              "      <th></th>\n",
              "      <th></th>\n",
              "    </tr>\n",
              "  </thead>\n",
              "  <tbody>\n",
              "    <tr>\n",
              "      <th>2012-01-03</th>\n",
              "      <td>53.063218</td>\n",
              "      <td>15.752778</td>\n",
              "      <td>179.03</td>\n",
              "      <td>160.830881</td>\n",
              "    </tr>\n",
              "    <tr>\n",
              "      <th>2012-01-04</th>\n",
              "      <td>53.348386</td>\n",
              "      <td>16.057180</td>\n",
              "      <td>177.51</td>\n",
              "      <td>160.174781</td>\n",
              "    </tr>\n",
              "    <tr>\n",
              "      <th>2012-01-05</th>\n",
              "      <td>53.940658</td>\n",
              "      <td>15.997991</td>\n",
              "      <td>177.61</td>\n",
              "      <td>159.415086</td>\n",
              "    </tr>\n",
              "    <tr>\n",
              "      <th>2012-01-06</th>\n",
              "      <td>54.504543</td>\n",
              "      <td>15.938801</td>\n",
              "      <td>182.61</td>\n",
              "      <td>157.584912</td>\n",
              "    </tr>\n",
              "    <tr>\n",
              "      <th>2012-01-09</th>\n",
              "      <td>54.418089</td>\n",
              "      <td>16.040268</td>\n",
              "      <td>178.56</td>\n",
              "      <td>156.764786</td>\n",
              "    </tr>\n",
              "  </tbody>\n",
              "</table>\n",
              "</div>"
            ],
            "text/plain": [
              "                 aapl      cisco     ibm        amzn\n",
              "Date                                                \n",
              "2012-01-03  53.063218  15.752778  179.03  160.830881\n",
              "2012-01-04  53.348386  16.057180  177.51  160.174781\n",
              "2012-01-05  53.940658  15.997991  177.61  159.415086\n",
              "2012-01-06  54.504543  15.938801  182.61  157.584912\n",
              "2012-01-09  54.418089  16.040268  178.56  156.764786"
            ]
          },
          "metadata": {
            "tags": []
          },
          "execution_count": 4
        }
      ]
    },
    {
      "cell_type": "code",
      "metadata": {
        "colab": {
          "base_uri": "https://localhost:8080/"
        },
        "id": "YN1arLzNsrWC",
        "outputId": "06ef3d20-6b3b-423c-e4e2-a6f95ca7fe1a"
      },
      "source": [
        "stocks.pct_change(1).mean()"
      ],
      "execution_count": 5,
      "outputs": [
        {
          "output_type": "execute_result",
          "data": {
            "text/plain": [
              "aapl     0.000750\n",
              "cisco    0.000599\n",
              "ibm      0.001328\n",
              "amzn     0.000081\n",
              "dtype: float64"
            ]
          },
          "metadata": {
            "tags": []
          },
          "execution_count": 5
        }
      ]
    },
    {
      "cell_type": "code",
      "metadata": {
        "colab": {
          "base_uri": "https://localhost:8080/",
          "height": 166
        },
        "id": "KdfkGzpgs7uP",
        "outputId": "c82c098c-92d7-4a59-8503-d734ababb591"
      },
      "source": [
        "stocks.pct_change(1).corr()"
      ],
      "execution_count": 6,
      "outputs": [
        {
          "output_type": "execute_result",
          "data": {
            "text/html": [
              "<div>\n",
              "<style scoped>\n",
              "    .dataframe tbody tr th:only-of-type {\n",
              "        vertical-align: middle;\n",
              "    }\n",
              "\n",
              "    .dataframe tbody tr th {\n",
              "        vertical-align: top;\n",
              "    }\n",
              "\n",
              "    .dataframe thead th {\n",
              "        text-align: right;\n",
              "    }\n",
              "</style>\n",
              "<table border=\"1\" class=\"dataframe\">\n",
              "  <thead>\n",
              "    <tr style=\"text-align: right;\">\n",
              "      <th></th>\n",
              "      <th>aapl</th>\n",
              "      <th>cisco</th>\n",
              "      <th>ibm</th>\n",
              "      <th>amzn</th>\n",
              "    </tr>\n",
              "  </thead>\n",
              "  <tbody>\n",
              "    <tr>\n",
              "      <th>aapl</th>\n",
              "      <td>1.000000</td>\n",
              "      <td>0.301990</td>\n",
              "      <td>0.235487</td>\n",
              "      <td>0.297498</td>\n",
              "    </tr>\n",
              "    <tr>\n",
              "      <th>cisco</th>\n",
              "      <td>0.301990</td>\n",
              "      <td>1.000000</td>\n",
              "      <td>0.284470</td>\n",
              "      <td>0.424672</td>\n",
              "    </tr>\n",
              "    <tr>\n",
              "      <th>ibm</th>\n",
              "      <td>0.235487</td>\n",
              "      <td>0.284470</td>\n",
              "      <td>1.000000</td>\n",
              "      <td>0.258492</td>\n",
              "    </tr>\n",
              "    <tr>\n",
              "      <th>amzn</th>\n",
              "      <td>0.297498</td>\n",
              "      <td>0.424672</td>\n",
              "      <td>0.258492</td>\n",
              "      <td>1.000000</td>\n",
              "    </tr>\n",
              "  </tbody>\n",
              "</table>\n",
              "</div>"
            ],
            "text/plain": [
              "           aapl     cisco       ibm      amzn\n",
              "aapl   1.000000  0.301990  0.235487  0.297498\n",
              "cisco  0.301990  1.000000  0.284470  0.424672\n",
              "ibm    0.235487  0.284470  1.000000  0.258492\n",
              "amzn   0.297498  0.424672  0.258492  1.000000"
            ]
          },
          "metadata": {
            "tags": []
          },
          "execution_count": 6
        }
      ]
    },
    {
      "cell_type": "code",
      "metadata": {
        "colab": {
          "base_uri": "https://localhost:8080/",
          "height": 225
        },
        "id": "FaXfrZoWtBum",
        "outputId": "da97b672-68f3-4ff3-a70f-5ca4e6c30343"
      },
      "source": [
        "stocks.pct_change(1).head()"
      ],
      "execution_count": 7,
      "outputs": [
        {
          "output_type": "execute_result",
          "data": {
            "text/html": [
              "<div>\n",
              "<style scoped>\n",
              "    .dataframe tbody tr th:only-of-type {\n",
              "        vertical-align: middle;\n",
              "    }\n",
              "\n",
              "    .dataframe tbody tr th {\n",
              "        vertical-align: top;\n",
              "    }\n",
              "\n",
              "    .dataframe thead th {\n",
              "        text-align: right;\n",
              "    }\n",
              "</style>\n",
              "<table border=\"1\" class=\"dataframe\">\n",
              "  <thead>\n",
              "    <tr style=\"text-align: right;\">\n",
              "      <th></th>\n",
              "      <th>aapl</th>\n",
              "      <th>cisco</th>\n",
              "      <th>ibm</th>\n",
              "      <th>amzn</th>\n",
              "    </tr>\n",
              "    <tr>\n",
              "      <th>Date</th>\n",
              "      <th></th>\n",
              "      <th></th>\n",
              "      <th></th>\n",
              "      <th></th>\n",
              "    </tr>\n",
              "  </thead>\n",
              "  <tbody>\n",
              "    <tr>\n",
              "      <th>2012-01-03</th>\n",
              "      <td>NaN</td>\n",
              "      <td>NaN</td>\n",
              "      <td>NaN</td>\n",
              "      <td>NaN</td>\n",
              "    </tr>\n",
              "    <tr>\n",
              "      <th>2012-01-04</th>\n",
              "      <td>0.005374</td>\n",
              "      <td>0.019324</td>\n",
              "      <td>-0.008490</td>\n",
              "      <td>-0.004079</td>\n",
              "    </tr>\n",
              "    <tr>\n",
              "      <th>2012-01-05</th>\n",
              "      <td>0.011102</td>\n",
              "      <td>-0.003686</td>\n",
              "      <td>0.000563</td>\n",
              "      <td>-0.004743</td>\n",
              "    </tr>\n",
              "    <tr>\n",
              "      <th>2012-01-06</th>\n",
              "      <td>0.010454</td>\n",
              "      <td>-0.003700</td>\n",
              "      <td>0.028152</td>\n",
              "      <td>-0.011481</td>\n",
              "    </tr>\n",
              "    <tr>\n",
              "      <th>2012-01-09</th>\n",
              "      <td>-0.001586</td>\n",
              "      <td>0.006366</td>\n",
              "      <td>-0.022178</td>\n",
              "      <td>-0.005204</td>\n",
              "    </tr>\n",
              "  </tbody>\n",
              "</table>\n",
              "</div>"
            ],
            "text/plain": [
              "                aapl     cisco       ibm      amzn\n",
              "Date                                              \n",
              "2012-01-03       NaN       NaN       NaN       NaN\n",
              "2012-01-04  0.005374  0.019324 -0.008490 -0.004079\n",
              "2012-01-05  0.011102 -0.003686  0.000563 -0.004743\n",
              "2012-01-06  0.010454 -0.003700  0.028152 -0.011481\n",
              "2012-01-09 -0.001586  0.006366 -0.022178 -0.005204"
            ]
          },
          "metadata": {
            "tags": []
          },
          "execution_count": 7
        }
      ]
    },
    {
      "cell_type": "code",
      "metadata": {
        "colab": {
          "base_uri": "https://localhost:8080/",
          "height": 225
        },
        "id": "c5mUdpeRtaAk",
        "outputId": "fb37d79e-37dc-42de-a86b-01f797875995"
      },
      "source": [
        "log_ret = np.log(stocks/stocks.shift(1))\n",
        "log_ret.head()"
      ],
      "execution_count": 8,
      "outputs": [
        {
          "output_type": "execute_result",
          "data": {
            "text/html": [
              "<div>\n",
              "<style scoped>\n",
              "    .dataframe tbody tr th:only-of-type {\n",
              "        vertical-align: middle;\n",
              "    }\n",
              "\n",
              "    .dataframe tbody tr th {\n",
              "        vertical-align: top;\n",
              "    }\n",
              "\n",
              "    .dataframe thead th {\n",
              "        text-align: right;\n",
              "    }\n",
              "</style>\n",
              "<table border=\"1\" class=\"dataframe\">\n",
              "  <thead>\n",
              "    <tr style=\"text-align: right;\">\n",
              "      <th></th>\n",
              "      <th>aapl</th>\n",
              "      <th>cisco</th>\n",
              "      <th>ibm</th>\n",
              "      <th>amzn</th>\n",
              "    </tr>\n",
              "    <tr>\n",
              "      <th>Date</th>\n",
              "      <th></th>\n",
              "      <th></th>\n",
              "      <th></th>\n",
              "      <th></th>\n",
              "    </tr>\n",
              "  </thead>\n",
              "  <tbody>\n",
              "    <tr>\n",
              "      <th>2012-01-03</th>\n",
              "      <td>NaN</td>\n",
              "      <td>NaN</td>\n",
              "      <td>NaN</td>\n",
              "      <td>NaN</td>\n",
              "    </tr>\n",
              "    <tr>\n",
              "      <th>2012-01-04</th>\n",
              "      <td>0.005360</td>\n",
              "      <td>0.019139</td>\n",
              "      <td>-0.008526</td>\n",
              "      <td>-0.004088</td>\n",
              "    </tr>\n",
              "    <tr>\n",
              "      <th>2012-01-05</th>\n",
              "      <td>0.011041</td>\n",
              "      <td>-0.003693</td>\n",
              "      <td>0.000563</td>\n",
              "      <td>-0.004754</td>\n",
              "    </tr>\n",
              "    <tr>\n",
              "      <th>2012-01-06</th>\n",
              "      <td>0.010400</td>\n",
              "      <td>-0.003707</td>\n",
              "      <td>0.027763</td>\n",
              "      <td>-0.011547</td>\n",
              "    </tr>\n",
              "    <tr>\n",
              "      <th>2012-01-09</th>\n",
              "      <td>-0.001587</td>\n",
              "      <td>0.006346</td>\n",
              "      <td>-0.022428</td>\n",
              "      <td>-0.005218</td>\n",
              "    </tr>\n",
              "  </tbody>\n",
              "</table>\n",
              "</div>"
            ],
            "text/plain": [
              "                aapl     cisco       ibm      amzn\n",
              "Date                                              \n",
              "2012-01-03       NaN       NaN       NaN       NaN\n",
              "2012-01-04  0.005360  0.019139 -0.008526 -0.004088\n",
              "2012-01-05  0.011041 -0.003693  0.000563 -0.004754\n",
              "2012-01-06  0.010400 -0.003707  0.027763 -0.011547\n",
              "2012-01-09 -0.001587  0.006346 -0.022428 -0.005218"
            ]
          },
          "metadata": {
            "tags": []
          },
          "execution_count": 8
        }
      ]
    },
    {
      "cell_type": "code",
      "metadata": {
        "colab": {
          "base_uri": "https://localhost:8080/",
          "height": 470
        },
        "id": "Hc9SW8QPtmYm",
        "outputId": "1027beb1-2f30-4be7-bbad-2100f5eb42fe"
      },
      "source": [
        "log_ret.hist(bins=100, figsize=(12,8))\n",
        "plt.tight_layout()"
      ],
      "execution_count": 9,
      "outputs": [
        {
          "output_type": "display_data",
          "data": {
            "image/png": "[encoded data removed]",
            "text/plain": [
              "<Figure size 864x576 with 4 Axes>"
            ]
          },
          "metadata": {
            "tags": [],
            "needs_background": "light"
          }
        }
      ]
    },
    {
      "cell_type": "code",
      "metadata": {
        "colab": {
          "base_uri": "https://localhost:8080/"
        },
        "id": "JlDVJQf9t6FM",
        "outputId": "7fbbd316-b2a7-4d17-937b-40f2afcf810c"
      },
      "source": [
        "log_ret.mean()"
      ],
      "execution_count": 10,
      "outputs": [
        {
          "output_type": "execute_result",
          "data": {
            "text/plain": [
              "aapl     0.000614\n",
              "cisco    0.000497\n",
              "ibm      0.001139\n",
              "amzn     0.000011\n",
              "dtype: float64"
            ]
          },
          "metadata": {
            "tags": []
          },
          "execution_count": 10
        }
      ]
    },
    {
      "cell_type": "code",
      "metadata": {
        "colab": {
          "base_uri": "https://localhost:8080/",
          "height": 166
        },
        "id": "fa2vUW7euBGn",
        "outputId": "0137f512-d396-40d0-bf7f-439c6d156a0f"
      },
      "source": [
        "log_ret.cov()*252"
      ],
      "execution_count": 11,
      "outputs": [
        {
          "output_type": "execute_result",
          "data": {
            "text/html": [
              "<div>\n",
              "<style scoped>\n",
              "    .dataframe tbody tr th:only-of-type {\n",
              "        vertical-align: middle;\n",
              "    }\n",
              "\n",
              "    .dataframe tbody tr th {\n",
              "        vertical-align: top;\n",
              "    }\n",
              "\n",
              "    .dataframe thead th {\n",
              "        text-align: right;\n",
              "    }\n",
              "</style>\n",
              "<table border=\"1\" class=\"dataframe\">\n",
              "  <thead>\n",
              "    <tr style=\"text-align: right;\">\n",
              "      <th></th>\n",
              "      <th>aapl</th>\n",
              "      <th>cisco</th>\n",
              "      <th>ibm</th>\n",
              "      <th>amzn</th>\n",
              "    </tr>\n",
              "  </thead>\n",
              "  <tbody>\n",
              "    <tr>\n",
              "      <th>aapl</th>\n",
              "      <td>0.068326</td>\n",
              "      <td>0.017854</td>\n",
              "      <td>0.018986</td>\n",
              "      <td>0.014464</td>\n",
              "    </tr>\n",
              "    <tr>\n",
              "      <th>cisco</th>\n",
              "      <td>0.017854</td>\n",
              "      <td>0.051381</td>\n",
              "      <td>0.019956</td>\n",
              "      <td>0.018029</td>\n",
              "    </tr>\n",
              "    <tr>\n",
              "      <th>ibm</th>\n",
              "      <td>0.018986</td>\n",
              "      <td>0.019956</td>\n",
              "      <td>0.094470</td>\n",
              "      <td>0.014939</td>\n",
              "    </tr>\n",
              "    <tr>\n",
              "      <th>amzn</th>\n",
              "      <td>0.014464</td>\n",
              "      <td>0.018029</td>\n",
              "      <td>0.014939</td>\n",
              "      <td>0.035203</td>\n",
              "    </tr>\n",
              "  </tbody>\n",
              "</table>\n",
              "</div>"
            ],
            "text/plain": [
              "           aapl     cisco       ibm      amzn\n",
              "aapl   0.068326  0.017854  0.018986  0.014464\n",
              "cisco  0.017854  0.051381  0.019956  0.018029\n",
              "ibm    0.018986  0.019956  0.094470  0.014939\n",
              "amzn   0.014464  0.018029  0.014939  0.035203"
            ]
          },
          "metadata": {
            "tags": []
          },
          "execution_count": 11
        }
      ]
    },
    {
      "cell_type": "code",
      "metadata": {
        "id": "Bp0CTHPVuHZi"
      },
      "source": [
        "np.random.seed(101)\n",
        "num_ports = 5000\n",
        "all_weights = np.zeros((num_ports, len(stocks.columns)))\n",
        "ret_arr = np.zeros(num_ports)\n",
        "vol_arr = np.zeros(num_ports)\n",
        "sharpe_arr  = np.zeros(num_ports)\n",
        "for ind in range(num_ports):\n",
        "    #weights\n",
        "    weights = np.array(np.random.random(4))\n",
        "    weights = weights/np.sum(weights)\n",
        "\n",
        "    #save weights\n",
        "    all_weights[ind, :] = weights\n",
        "\n",
        "    #Expected return\n",
        "    ret_arr[ind] = np.sum( (log_ret.mean() * weights) *252)\n",
        "\n",
        "    #expected volatility\n",
        "    vol_arr[ind] = np.sqrt(np.dot(weights.T, np.dot(log_ret.cov()*252, weights)))\n",
        "\n",
        "    #Sharpe ratio \n",
        "    sharpe_arr[ind] = ret_arr[ind]/vol_arr[ind]\n"
      ],
      "execution_count": 14,
      "outputs": []
    },
    {
      "cell_type": "code",
      "metadata": {
        "colab": {
          "base_uri": "https://localhost:8080/"
        },
        "id": "a3BCMjyXuzaJ",
        "outputId": "ce853bdd-17cc-4be9-c7e7-788688384daa"
      },
      "source": [
        "sharpe_arr.max()"
      ],
      "execution_count": 16,
      "outputs": [
        {
          "output_type": "execute_result",
          "data": {
            "text/plain": [
              "1.02700855562915"
            ]
          },
          "metadata": {
            "tags": []
          },
          "execution_count": 16
        }
      ]
    },
    {
      "cell_type": "code",
      "metadata": {
        "colab": {
          "base_uri": "https://localhost:8080/"
        },
        "id": "59GT6OLMv34C",
        "outputId": "6863ef47-8ec9-4c38-cd38-80363273924a"
      },
      "source": [
        "sharpe_arr.argmax()"
      ],
      "execution_count": 17,
      "outputs": [
        {
          "output_type": "execute_result",
          "data": {
            "text/plain": [
              "4864"
            ]
          },
          "metadata": {
            "tags": []
          },
          "execution_count": 17
        }
      ]
    },
    {
      "cell_type": "code",
      "metadata": {
        "colab": {
          "base_uri": "https://localhost:8080/"
        },
        "id": "WADpl6ydct2i",
        "outputId": "644bfbcf-8b71-4b3d-d80f-19545f936585"
      },
      "source": [
        "all_weights[1420,:]"
      ],
      "execution_count": 18,
      "outputs": [
        {
          "output_type": "execute_result",
          "data": {
            "text/plain": [
              "array([0.26188068, 0.20759516, 0.00110226, 0.5294219 ])"
            ]
          },
          "metadata": {
            "tags": []
          },
          "execution_count": 18
        }
      ]
    },
    {
      "cell_type": "code",
      "metadata": {
        "id": "04Z8XG5HdYyo"
      },
      "source": [
        "max_sr_ret = ret_arr[1420]\n",
        "max_sr_vol = vol_arr[1420]"
      ],
      "execution_count": 20,
      "outputs": []
    },
    {
      "cell_type": "code",
      "metadata": {
        "colab": {
          "base_uri": "https://localhost:8080/",
          "height": 513
        },
        "id": "SvkUQsOBcyZg",
        "outputId": "e31d158c-75f8-4b43-f04d-858c44b46a51"
      },
      "source": [
        "plt.figure(figsize=(12,8))\n",
        "plt.scatter(vol_arr, ret_arr, c=sharpe_arr, cmap='plasma')\n",
        "plt.colorbar(label='Sharpe Ratio')\n",
        "plt.xlabel('Volatility')\n",
        "plt.ylabel('Return')\n",
        "\n",
        "\n",
        "plt.scatter(max_sr_vol, max_sr_ret, c='red', s=100, edgecolors='black')"
      ],
      "execution_count": 23,
      "outputs": [
        {
          "output_type": "execute_result",
          "data": {
            "text/plain": [
              "<matplotlib.collections.PathCollection at 0x7fb254036f98>"
            ]
          },
          "metadata": {
            "tags": []
          },
          "execution_count": 23
        },
        {
          "output_type": "display_data",
          "data": {
            "image/png": "[encoded data removed]",
            "text/plain": [
              "<Figure size 864x576 with 2 Axes>"
            ]
          },
          "metadata": {
            "tags": [],
            "needs_background": "light"
          }
        }
      ]
    },
    {
      "cell_type": "code",
      "metadata": {
        "id": "qz5CWmYWdNSj"
      },
      "source": [
        "def get_ret_vol_sr(weights):\n",
        "    weights = np.array(weights)\n",
        "    ret = np.sum(log_ret.mean() * weights) * 252\n",
        "    vol = np.sqrt(np.dot(weights.T, np.dot(log_ret.cov()*252, weights)))\n",
        "    sr = ret/vol \n",
        "    return np.array([ret,vol,sr])"
      ],
      "execution_count": 24,
      "outputs": []
    },
    {
      "cell_type": "code",
      "metadata": {
        "id": "u5vUXISfeyAd"
      },
      "source": [
        "from scipy.optimize import minimize"
      ],
      "execution_count": 25,
      "outputs": []
    },
    {
      "cell_type": "code",
      "metadata": {
        "colab": {
          "base_uri": "https://localhost:8080/"
        },
        "id": "GZknqkTWe1-u",
        "outputId": "cf391307-3a42-4b4d-b2cd-2ae8a3622815"
      },
      "source": [
        "help(minimize)"
      ],
      "execution_count": 26,
      "outputs": [
        {
          "output_type": "stream",
          "text": [
            "Help on function minimize in module scipy.optimize._minimize:\n",
            "\n",
            "minimize(fun, x0, args=(), method=None, jac=None, hess=None, hessp=None, bounds=None, constraints=(), tol=None, callback=None, options=None)\n",
            "    Minimization of scalar function of one or more variables.\n",
            "    \n",
            "    Parameters\n",
            "    ----------\n",
            "    fun : callable\n",
            "        The objective function to be minimized.\n",
            "    \n",
            "            ``fun(x, *args) -> float``\n",
            "    \n",
            "        where x is an 1-D array with shape (n,) and `args`\n",
            "        is a tuple of the fixed parameters needed to completely\n",
            "        specify the function.\n",
            "    x0 : ndarray, shape (n,)\n",
            "        Initial guess. Array of real elements of size (n,),\n",
            "        where 'n' is the number of independent variables.\n",
            "    args : tuple, optional\n",
            "        Extra arguments passed to the objective function and its\n",
            "        derivatives (`fun`, `jac` and `hess` functions).\n",
            "    method : str or callable, optional\n",
            "        Type of solver.  Should be one of\n",
            "    \n",
            "            - 'Nelder-Mead' :ref:`(see here) <optimize.minimize-neldermead>`\n",
            "            - 'Powell'      :ref:`(see here) <optimize.minimize-powell>`\n",
            "            - 'CG'          :ref:`(see here) <optimize.minimize-cg>`\n",
            "            - 'BFGS'        :ref:`(see here) <optimize.minimize-bfgs>`\n",
            "            - 'Newton-CG'   :ref:`(see here) <optimize.minimize-newtoncg>`\n",
            "            - 'L-BFGS-B'    :ref:`(see here) <optimize.minimize-lbfgsb>`\n",
            "            - 'TNC'         :ref:`(see here) <optimize.minimize-tnc>`\n",
            "            - 'COBYLA'      :ref:`(see here) <optimize.minimize-cobyla>`\n",
            "            - 'SLSQP'       :ref:`(see here) <optimize.minimize-slsqp>`\n",
            "            - 'trust-constr':ref:`(see here) <optimize.minimize-trustconstr>`\n",
            "            - 'dogleg'      :ref:`(see here) <optimize.minimize-dogleg>`\n",
            "            - 'trust-ncg'   :ref:`(see here) <optimize.minimize-trustncg>`\n",
            "            - 'trust-exact' :ref:`(see here) <optimize.minimize-trustexact>`\n",
            "            - 'trust-krylov' :ref:`(see here) <optimize.minimize-trustkrylov>`\n",
            "            - custom - a callable object (added in version 0.14.0),\n",
            "              see below for description.\n",
            "    \n",
            "        If not given, chosen to be one of ``BFGS``, ``L-BFGS-B``, ``SLSQP``,\n",
            "        depending if the problem has constraints or bounds.\n",
            "    jac : {callable,  '2-point', '3-point', 'cs', bool}, optional\n",
            "        Method for computing the gradient vector. Only for CG, BFGS,\n",
            "        Newton-CG, L-BFGS-B, TNC, SLSQP, dogleg, trust-ncg, trust-krylov,\n",
            "        trust-exact and trust-constr. If it is a callable, it should be a\n",
            "        function that returns the gradient vector:\n",
            "    \n",
            "            ``jac(x, *args) -> array_like, shape (n,)``\n",
            "    \n",
            "        where x is an array with shape (n,) and `args` is a tuple with\n",
            "        the fixed parameters. Alternatively, the keywords\n",
            "        {'2-point', '3-point', 'cs'} select a finite\n",
            "        difference scheme for numerical estimation of the gradient. Options\n",
            "        '3-point' and 'cs' are available only to 'trust-constr'.\n",
            "        If `jac` is a Boolean and is True, `fun` is assumed to return the\n",
            "        gradient along with the objective function. If False, the gradient\n",
            "        will be estimated using '2-point' finite difference estimation.\n",
            "    hess : {callable, '2-point', '3-point', 'cs', HessianUpdateStrategy},  optional\n",
            "        Method for computing the Hessian matrix. Only for Newton-CG, dogleg,\n",
            "        trust-ncg,  trust-krylov, trust-exact and trust-constr. If it is\n",
            "        callable, it should return the  Hessian matrix:\n",
            "    \n",
            "            ``hess(x, *args) -> {LinearOperator, spmatrix, array}, (n, n)``\n",
            "    \n",
            "        where x is a (n,) ndarray and `args` is a tuple with the fixed\n",
            "        parameters. LinearOperator and sparse matrix returns are\n",
            "        allowed only for 'trust-constr' method. Alternatively, the keywords\n",
            "        {'2-point', '3-point', 'cs'} select a finite difference scheme\n",
            "        for numerical estimation. Or, objects implementing\n",
            "        `HessianUpdateStrategy` interface can be used to approximate\n",
            "        the Hessian. Available quasi-Newton methods implementing\n",
            "        this interface are:\n",
            "    \n",
            "            - `BFGS`;\n",
            "            - `SR1`.\n",
            "    \n",
            "        Whenever the gradient is estimated via finite-differences,\n",
            "        the Hessian cannot be estimated with options\n",
            "        {'2-point', '3-point', 'cs'} and needs to be\n",
            "        estimated using one of the quasi-Newton strategies.\n",
            "        Finite-difference options {'2-point', '3-point', 'cs'} and\n",
            "        `HessianUpdateStrategy` are available only for 'trust-constr' method.\n",
            "    hessp : callable, optional\n",
            "        Hessian of objective function times an arbitrary vector p. Only for\n",
            "        Newton-CG, trust-ncg, trust-krylov, trust-constr.\n",
            "        Only one of `hessp` or `hess` needs to be given.  If `hess` is\n",
            "        provided, then `hessp` will be ignored.  `hessp` must compute the\n",
            "        Hessian times an arbitrary vector:\n",
            "    \n",
            "            ``hessp(x, p, *args) ->  ndarray shape (n,)``\n",
            "    \n",
            "        where x is a (n,) ndarray, p is an arbitrary vector with\n",
            "        dimension (n,) and `args` is a tuple with the fixed\n",
            "        parameters.\n",
            "    bounds : sequence or `Bounds`, optional\n",
            "        Bounds on variables for L-BFGS-B, TNC, SLSQP and\n",
            "        trust-constr methods. There are two ways to specify the bounds:\n",
            "    \n",
            "            1. Instance of `Bounds` class.\n",
            "            2. Sequence of ``(min, max)`` pairs for each element in `x`. None\n",
            "               is used to specify no bound.\n",
            "    \n",
            "    constraints : {Constraint, dict} or List of {Constraint, dict}, optional\n",
            "        Constraints definition (only for COBYLA, SLSQP and trust-constr).\n",
            "        Constraints for 'trust-constr' are defined as a single object or a\n",
            "        list of objects specifying constraints to the optimization problem.\n",
            "        Available constraints are:\n",
            "    \n",
            "            - `LinearConstraint`\n",
            "            - `NonlinearConstraint`\n",
            "    \n",
            "        Constraints for COBYLA, SLSQP are defined as a list of dictionaries.\n",
            "        Each dictionary with fields:\n",
            "    \n",
            "            type : str\n",
            "                Constraint type: 'eq' for equality, 'ineq' for inequality.\n",
            "            fun : callable\n",
            "                The function defining the constraint.\n",
            "            jac : callable, optional\n",
            "                The Jacobian of `fun` (only for SLSQP).\n",
            "            args : sequence, optional\n",
            "                Extra arguments to be passed to the function and Jacobian.\n",
            "    \n",
            "        Equality constraint means that the constraint function result is to\n",
            "        be zero whereas inequality means that it is to be non-negative.\n",
            "        Note that COBYLA only supports inequality constraints.\n",
            "    tol : float, optional\n",
            "        Tolerance for termination. For detailed control, use solver-specific\n",
            "        options.\n",
            "    options : dict, optional\n",
            "        A dictionary of solver options. All methods accept the following\n",
            "        generic options:\n",
            "    \n",
            "            maxiter : int\n",
            "                Maximum number of iterations to perform. Depending on the\n",
            "                method each iteration may use several function evaluations.\n",
            "            disp : bool\n",
            "                Set to True to print convergence messages.\n",
            "    \n",
            "        For method-specific options, see :func:`show_options()`.\n",
            "    callback : callable, optional\n",
            "        Called after each iteration. For 'trust-constr' it is a callable with\n",
            "        the signature:\n",
            "    \n",
            "            ``callback(xk, OptimizeResult state) -> bool``\n",
            "    \n",
            "        where ``xk`` is the current parameter vector. and ``state``\n",
            "        is an `OptimizeResult` object, with the same fields\n",
            "        as the ones from the return.  If callback returns True\n",
            "        the algorithm execution is terminated.\n",
            "        For all the other methods, the signature is:\n",
            "    \n",
            "            ``callback(xk)``\n",
            "    \n",
            "        where ``xk`` is the current parameter vector.\n",
            "    \n",
            "    Returns\n",
            "    -------\n",
            "    res : OptimizeResult\n",
            "        The optimization result represented as a ``OptimizeResult`` object.\n",
            "        Important attributes are: ``x`` the solution array, ``success`` a\n",
            "        Boolean flag indicating if the optimizer exited successfully and\n",
            "        ``message`` which describes the cause of the termination. See\n",
            "        `OptimizeResult` for a description of other attributes.\n",
            "    \n",
            "    See also\n",
            "    --------\n",
            "    minimize_scalar : Interface to minimization algorithms for scalar\n",
            "        univariate functions\n",
            "    show_options : Additional options accepted by the solvers\n",
            "    \n",
            "    Notes\n",
            "    -----\n",
            "    This section describes the available solvers that can be selected by the\n",
            "    'method' parameter. The default method is *BFGS*.\n",
            "    \n",
            "    **Unconstrained minimization**\n",
            "    \n",
            "    Method :ref:`Nelder-Mead <optimize.minimize-neldermead>` uses the\n",
            "    Simplex algorithm [1]_, [2]_. This algorithm is robust in many\n",
            "    applications. However, if numerical computation of derivative can be\n",
            "    trusted, other algorithms using the first and/or second derivatives\n",
            "    information might be preferred for their better performance in\n",
            "    general.\n",
            "    \n",
            "    Method :ref:`Powell <optimize.minimize-powell>` is a modification\n",
            "    of Powell's method [3]_, [4]_ which is a conjugate direction\n",
            "    method. It performs sequential one-dimensional minimizations along\n",
            "    each vector of the directions set (`direc` field in `options` and\n",
            "    `info`), which is updated at each iteration of the main\n",
            "    minimization loop. The function need not be differentiable, and no\n",
            "    derivatives are taken.\n",
            "    \n",
            "    Method :ref:`CG <optimize.minimize-cg>` uses a nonlinear conjugate\n",
            "    gradient algorithm by Polak and Ribiere, a variant of the\n",
            "    Fletcher-Reeves method described in [5]_ pp.  120-122. Only the\n",
            "    first derivatives are used.\n",
            "    \n",
            "    Method :ref:`BFGS <optimize.minimize-bfgs>` uses the quasi-Newton\n",
            "    method of Broyden, Fletcher, Goldfarb, and Shanno (BFGS) [5]_\n",
            "    pp. 136. It uses the first derivatives only. BFGS has proven good\n",
            "    performance even for non-smooth optimizations. This method also\n",
            "    returns an approximation of the Hessian inverse, stored as\n",
            "    `hess_inv` in the OptimizeResult object.\n",
            "    \n",
            "    Method :ref:`Newton-CG <optimize.minimize-newtoncg>` uses a\n",
            "    Newton-CG algorithm [5]_ pp. 168 (also known as the truncated\n",
            "    Newton method). It uses a CG method to the compute the search\n",
            "    direction. See also *TNC* method for a box-constrained\n",
            "    minimization with a similar algorithm. Suitable for large-scale\n",
            "    problems.\n",
            "    \n",
            "    Method :ref:`dogleg <optimize.minimize-dogleg>` uses the dog-leg\n",
            "    trust-region algorithm [5]_ for unconstrained minimization. This\n",
            "    algorithm requires the gradient and Hessian; furthermore the\n",
            "    Hessian is required to be positive definite.\n",
            "    \n",
            "    Method :ref:`trust-ncg <optimize.minimize-trustncg>` uses the\n",
            "    Newton conjugate gradient trust-region algorithm [5]_ for\n",
            "    unconstrained minimization. This algorithm requires the gradient\n",
            "    and either the Hessian or a function that computes the product of\n",
            "    the Hessian with a given vector. Suitable for large-scale problems.\n",
            "    \n",
            "    Method :ref:`trust-krylov <optimize.minimize-trustkrylov>` uses\n",
            "    the Newton GLTR trust-region algorithm [14]_, [15]_ for unconstrained\n",
            "    minimization. This algorithm requires the gradient\n",
            "    and either the Hessian or a function that computes the product of\n",
            "    the Hessian with a given vector. Suitable for large-scale problems.\n",
            "    On indefinite problems it requires usually less iterations than the\n",
            "    `trust-ncg` method and is recommended for medium and large-scale problems.\n",
            "    \n",
            "    Method :ref:`trust-exact <optimize.minimize-trustexact>`\n",
            "    is a trust-region method for unconstrained minimization in which\n",
            "    quadratic subproblems are solved almost exactly [13]_. This\n",
            "    algorithm requires the gradient and the Hessian (which is\n",
            "    *not* required to be positive definite). It is, in many\n",
            "    situations, the Newton method to converge in fewer iteraction\n",
            "    and the most recommended for small and medium-size problems.\n",
            "    \n",
            "    **Bound-Constrained minimization**\n",
            "    \n",
            "    Method :ref:`L-BFGS-B <optimize.minimize-lbfgsb>` uses the L-BFGS-B\n",
            "    algorithm [6]_, [7]_ for bound constrained minimization.\n",
            "    \n",
            "    Method :ref:`TNC <optimize.minimize-tnc>` uses a truncated Newton\n",
            "    algorithm [5]_, [8]_ to minimize a function with variables subject\n",
            "    to bounds. This algorithm uses gradient information; it is also\n",
            "    called Newton Conjugate-Gradient. It differs from the *Newton-CG*\n",
            "    method described above as it wraps a C implementation and allows\n",
            "    each variable to be given upper and lower bounds.\n",
            "    \n",
            "    **Constrained Minimization**\n",
            "    \n",
            "    Method :ref:`COBYLA <optimize.minimize-cobyla>` uses the\n",
            "    Constrained Optimization BY Linear Approximation (COBYLA) method\n",
            "    [9]_, [10]_, [11]_. The algorithm is based on linear\n",
            "    approximations to the objective function and each constraint. The\n",
            "    method wraps a FORTRAN implementation of the algorithm. The\n",
            "    constraints functions 'fun' may return either a single number\n",
            "    or an array or list of numbers.\n",
            "    \n",
            "    Method :ref:`SLSQP <optimize.minimize-slsqp>` uses Sequential\n",
            "    Least SQuares Programming to minimize a function of several\n",
            "    variables with any combination of bounds, equality and inequality\n",
            "    constraints. The method wraps the SLSQP Optimization subroutine\n",
            "    originally implemented by Dieter Kraft [12]_. Note that the\n",
            "    wrapper handles infinite values in bounds by converting them into\n",
            "    large floating values.\n",
            "    \n",
            "    Method :ref:`trust-constr <optimize.minimize-trustconstr>` is a\n",
            "    trust-region algorithm for constrained optimization. It swiches\n",
            "    between two implementations depending on the problem definition.\n",
            "    It is the most versatile constrained minimization algorithm\n",
            "    implemented in SciPy and the most appropriate for large-scale problems.\n",
            "    For equality constrained problems it is an implementation of Byrd-Omojokun\n",
            "    Trust-Region SQP method described in [17]_ and in [5]_, p. 549. When\n",
            "    inequality constraints  are imposed as well, it swiches to the trust-region\n",
            "    interior point  method described in [16]_. This interior point algorithm,\n",
            "    in turn, solves inequality constraints by introducing slack variables\n",
            "    and solving a sequence of equality-constrained barrier problems\n",
            "    for progressively smaller values of the barrier parameter.\n",
            "    The previously described equality constrained SQP method is\n",
            "    used to solve the subproblems with increasing levels of accuracy\n",
            "    as the iterate gets closer to a solution.\n",
            "    \n",
            "    **Finite-Difference Options**\n",
            "    \n",
            "    For Method :ref:`trust-constr <optimize.minimize-trustconstr>`\n",
            "    the gradient and the Hessian may be approximated using\n",
            "    three finite-difference schemes: {'2-point', '3-point', 'cs'}.\n",
            "    The scheme 'cs' is, potentially, the most accurate but it\n",
            "    requires the function to correctly handles complex inputs and to\n",
            "    be differentiable in the complex plane. The scheme '3-point' is more\n",
            "    accurate than '2-point' but requires twice as much operations.\n",
            "    \n",
            "    **Custom minimizers**\n",
            "    \n",
            "    It may be useful to pass a custom minimization method, for example\n",
            "    when using a frontend to this method such as `scipy.optimize.basinhopping`\n",
            "    or a different library.  You can simply pass a callable as the ``method``\n",
            "    parameter.\n",
            "    \n",
            "    The callable is called as ``method(fun, x0, args, **kwargs, **options)``\n",
            "    where ``kwargs`` corresponds to any other parameters passed to `minimize`\n",
            "    (such as `callback`, `hess`, etc.), except the `options` dict, which has\n",
            "    its contents also passed as `method` parameters pair by pair.  Also, if\n",
            "    `jac` has been passed as a bool type, `jac` and `fun` are mangled so that\n",
            "    `fun` returns just the function values and `jac` is converted to a function\n",
            "    returning the Jacobian.  The method shall return an `OptimizeResult`\n",
            "    object.\n",
            "    \n",
            "    The provided `method` callable must be able to accept (and possibly ignore)\n",
            "    arbitrary parameters; the set of parameters accepted by `minimize` may\n",
            "    expand in future versions and then these parameters will be passed to\n",
            "    the method.  You can find an example in the scipy.optimize tutorial.\n",
            "    \n",
            "    .. versionadded:: 0.11.0\n",
            "    \n",
            "    References\n",
            "    ----------\n",
            "    .. [1] Nelder, J A, and R Mead. 1965. A Simplex Method for Function\n",
            "        Minimization. The Computer Journal 7: 308-13.\n",
            "    .. [2] Wright M H. 1996. Direct search methods: Once scorned, now\n",
            "        respectable, in Numerical Analysis 1995: Proceedings of the 1995\n",
            "        Dundee Biennial Conference in Numerical Analysis (Eds. D F\n",
            "        Griffiths and G A Watson). Addison Wesley Longman, Harlow, UK.\n",
            "        191-208.\n",
            "    .. [3] Powell, M J D. 1964. An efficient method for finding the minimum of\n",
            "       a function of several variables without calculating derivatives. The\n",
            "       Computer Journal 7: 155-162.\n",
            "    .. [4] Press W, S A Teukolsky, W T Vetterling and B P Flannery.\n",
            "       Numerical Recipes (any edition), Cambridge University Press.\n",
            "    .. [5] Nocedal, J, and S J Wright. 2006. Numerical Optimization.\n",
            "       Springer New York.\n",
            "    .. [6] Byrd, R H and P Lu and J. Nocedal. 1995. A Limited Memory\n",
            "       Algorithm for Bound Constrained Optimization. SIAM Journal on\n",
            "       Scientific and Statistical Computing 16 (5): 1190-1208.\n",
            "    .. [7] Zhu, C and R H Byrd and J Nocedal. 1997. L-BFGS-B: Algorithm\n",
            "       778: L-BFGS-B, FORTRAN routines for large scale bound constrained\n",
            "       optimization. ACM Transactions on Mathematical Software 23 (4):\n",
            "       550-560.\n",
            "    .. [8] Nash, S G. Newton-Type Minimization Via the Lanczos Method.\n",
            "       1984. SIAM Journal of Numerical Analysis 21: 770-778.\n",
            "    .. [9] Powell, M J D. A direct search optimization method that models\n",
            "       the objective and constraint functions by linear interpolation.\n",
            "       1994. Advances in Optimization and Numerical Analysis, eds. S. Gomez\n",
            "       and J-P Hennart, Kluwer Academic (Dordrecht), 51-67.\n",
            "    .. [10] Powell M J D. Direct search algorithms for optimization\n",
            "       calculations. 1998. Acta Numerica 7: 287-336.\n",
            "    .. [11] Powell M J D. A view of algorithms for optimization without\n",
            "       derivatives. 2007.Cambridge University Technical Report DAMTP\n",
            "       2007/NA03\n",
            "    .. [12] Kraft, D. A software package for sequential quadratic\n",
            "       programming. 1988. Tech. Rep. DFVLR-FB 88-28, DLR German Aerospace\n",
            "       Center -- Institute for Flight Mechanics, Koln, Germany.\n",
            "    .. [13] Conn, A. R., Gould, N. I., and Toint, P. L.\n",
            "       Trust region methods. 2000. Siam. pp. 169-200.\n",
            "    .. [14] F. Lenders, C. Kirches, A. Potschka: \"trlib: A vector-free\n",
            "       implementation of the GLTR method for iterative solution of\n",
            "       the trust region problem\", https://arxiv.org/abs/1611.04718\n",
            "    .. [15] N. Gould, S. Lucidi, M. Roma, P. Toint: \"Solving the\n",
            "       Trust-Region Subproblem using the Lanczos Method\",\n",
            "       SIAM J. Optim., 9(2), 504--525, (1999).\n",
            "    .. [16] Byrd, Richard H., Mary E. Hribar, and Jorge Nocedal. 1999.\n",
            "        An interior point algorithm for large-scale nonlinear  programming.\n",
            "        SIAM Journal on Optimization 9.4: 877-900.\n",
            "    .. [17] Lalee, Marucha, Jorge Nocedal, and Todd Plantega. 1998. On the\n",
            "        implementation of an algorithm for large-scale equality constrained\n",
            "        optimization. SIAM Journal on Optimization 8.3: 682-706.\n",
            "    \n",
            "    Examples\n",
            "    --------\n",
            "    Let us consider the problem of minimizing the Rosenbrock function. This\n",
            "    function (and its respective derivatives) is implemented in `rosen`\n",
            "    (resp. `rosen_der`, `rosen_hess`) in the `scipy.optimize`.\n",
            "    \n",
            "    >>> from scipy.optimize import minimize, rosen, rosen_der\n",
            "    \n",
            "    A simple application of the *Nelder-Mead* method is:\n",
            "    \n",
            "    >>> x0 = [1.3, 0.7, 0.8, 1.9, 1.2]\n",
            "    >>> res = minimize(rosen, x0, method='Nelder-Mead', tol=1e-6)\n",
            "    >>> res.x\n",
            "    array([ 1.,  1.,  1.,  1.,  1.])\n",
            "    \n",
            "    Now using the *BFGS* algorithm, using the first derivative and a few\n",
            "    options:\n",
            "    \n",
            "    >>> res = minimize(rosen, x0, method='BFGS', jac=rosen_der,\n",
            "    ...                options={'gtol': 1e-6, 'disp': True})\n",
            "    Optimization terminated successfully.\n",
            "             Current function value: 0.000000\n",
            "             Iterations: 26\n",
            "             Function evaluations: 31\n",
            "             Gradient evaluations: 31\n",
            "    >>> res.x\n",
            "    array([ 1.,  1.,  1.,  1.,  1.])\n",
            "    >>> print(res.message)\n",
            "    Optimization terminated successfully.\n",
            "    >>> res.hess_inv\n",
            "    array([[ 0.00749589,  0.01255155,  0.02396251,  0.04750988,  0.09495377],  # may vary\n",
            "           [ 0.01255155,  0.02510441,  0.04794055,  0.09502834,  0.18996269],\n",
            "           [ 0.02396251,  0.04794055,  0.09631614,  0.19092151,  0.38165151],\n",
            "           [ 0.04750988,  0.09502834,  0.19092151,  0.38341252,  0.7664427 ],\n",
            "           [ 0.09495377,  0.18996269,  0.38165151,  0.7664427,   1.53713523]])\n",
            "    \n",
            "    \n",
            "    Next, consider a minimization problem with several constraints (namely\n",
            "    Example 16.4 from [5]_). The objective function is:\n",
            "    \n",
            "    >>> fun = lambda x: (x[0] - 1)**2 + (x[1] - 2.5)**2\n",
            "    \n",
            "    There are three constraints defined as:\n",
            "    \n",
            "    >>> cons = ({'type': 'ineq', 'fun': lambda x:  x[0] - 2 * x[1] + 2},\n",
            "    ...         {'type': 'ineq', 'fun': lambda x: -x[0] - 2 * x[1] + 6},\n",
            "    ...         {'type': 'ineq', 'fun': lambda x: -x[0] + 2 * x[1] + 2})\n",
            "    \n",
            "    And variables must be positive, hence the following bounds:\n",
            "    \n",
            "    >>> bnds = ((0, None), (0, None))\n",
            "    \n",
            "    The optimization problem is solved using the SLSQP method as:\n",
            "    \n",
            "    >>> res = minimize(fun, (2, 0), method='SLSQP', bounds=bnds,\n",
            "    ...                constraints=cons)\n",
            "    \n",
            "    It should converge to the theoretical solution (1.4 ,1.7).\n",
            "\n"
          ],
          "name": "stdout"
        }
      ]
    },
    {
      "cell_type": "code",
      "metadata": {
        "id": "2eb4LfZie4Hy"
      },
      "source": [
        "def neg_sharpe(weights):\n",
        "    return get_ret_vol_sr(weights)[2] * -1"
      ],
      "execution_count": 27,
      "outputs": []
    },
    {
      "cell_type": "code",
      "metadata": {
        "id": "TTu15FqOfT9c"
      },
      "source": [
        "def check_sum(weights):\n",
        "    #return 0 if the sum of the weights is 1\n",
        "    return np.sum(weights) - 1"
      ],
      "execution_count": 28,
      "outputs": []
    },
    {
      "cell_type": "code",
      "metadata": {
        "id": "GQeJ7rDYfllf"
      },
      "source": [
        "cons = ({'type':'eq', 'fun':check_sum})"
      ],
      "execution_count": 33,
      "outputs": []
    },
    {
      "cell_type": "code",
      "metadata": {
        "id": "YT-FjBqVfulc"
      },
      "source": [
        "bounds = ((0,1),(0,1),(0,1),(0,1))"
      ],
      "execution_count": 30,
      "outputs": []
    },
    {
      "cell_type": "code",
      "metadata": {
        "id": "DYJVZeCif1wy"
      },
      "source": [
        "init_guess = [0.25, 0.25, 0.25, 0.25]"
      ],
      "execution_count": 31,
      "outputs": []
    },
    {
      "cell_type": "code",
      "metadata": {
        "id": "gW-vACVzf7_L"
      },
      "source": [
        "opt_results = minimize(neg_sharpe,init_guess, method='SLSQP', bounds=bounds, constraints=cons)"
      ],
      "execution_count": 34,
      "outputs": []
    },
    {
      "cell_type": "code",
      "metadata": {
        "colab": {
          "base_uri": "https://localhost:8080/"
        },
        "id": "HeK68gGygR05",
        "outputId": "aa6ae5fb-41dc-4640-e5bc-bb5144b564dc"
      },
      "source": [
        "opt_results"
      ],
      "execution_count": 35,
      "outputs": [
        {
          "output_type": "execute_result",
          "data": {
            "text/plain": [
              "     fun: -1.0307168703365814\n",
              "     jac: array([ 5.64306974e-05,  4.18275595e-05, -4.44799662e-05,  3.39921728e-01])\n",
              " message: 'Optimization terminated successfully.'\n",
              "    nfev: 42\n",
              "     nit: 7\n",
              "    njev: 7\n",
              "  status: 0\n",
              " success: True\n",
              "       x: array([2.66289770e-01, 2.04189809e-01, 5.29520421e-01, 2.11351661e-17])"
            ]
          },
          "metadata": {
            "tags": []
          },
          "execution_count": 35
        }
      ]
    },
    {
      "cell_type": "code",
      "metadata": {
        "colab": {
          "base_uri": "https://localhost:8080/"
        },
        "id": "nqyagtaRgiEZ",
        "outputId": "cb3c7ce0-1ec6-4973-c03b-4445202d272b"
      },
      "source": [
        "opt_results.x"
      ],
      "execution_count": 36,
      "outputs": [
        {
          "output_type": "execute_result",
          "data": {
            "text/plain": [
              "array([2.66289770e-01, 2.04189809e-01, 5.29520421e-01, 2.11351661e-17])"
            ]
          },
          "metadata": {
            "tags": []
          },
          "execution_count": 36
        }
      ]
    },
    {
      "cell_type": "code",
      "metadata": {
        "colab": {
          "base_uri": "https://localhost:8080/"
        },
        "id": "SQLjhpaOgpVN",
        "outputId": "e4957c6e-dafe-47b5-9f82-7a1a1f407fb0"
      },
      "source": [
        "get_ret_vol_sr(opt_results.x)"
      ],
      "execution_count": 37,
      "outputs": [
        {
          "output_type": "execute_result",
          "data": {
            "text/plain": [
              "array([0.21885916, 0.21233683, 1.03071687])"
            ]
          },
          "metadata": {
            "tags": []
          },
          "execution_count": 37
        }
      ]
    },
    {
      "cell_type": "code",
      "metadata": {
        "id": "H4IKuGhjgtXr"
      },
      "source": [
        "frontier_y = np.linspace(0,0.3,100)"
      ],
      "execution_count": 38,
      "outputs": []
    },
    {
      "cell_type": "code",
      "metadata": {
        "id": "DJeOwSLIhNPm"
      },
      "source": [
        "def minimize_volatility(weights):\n",
        "    return get_ret_vol_sr(weights)[1]"
      ],
      "execution_count": 39,
      "outputs": []
    },
    {
      "cell_type": "code",
      "metadata": {
        "id": "WlWynIlgiLt3"
      },
      "source": [
        "frontier_volatility = []\n",
        "\n",
        "for possible_return in frontier_y:\n",
        "    cons = ({'type':'eq', 'fun':check_sum},\n",
        "            {'type':'eq','fun':lambda w:get_ret_vol_sr(w)[0]-possible_return})\n",
        "    \n",
        "    result = minimize(minimize_volatility, init_guess, method='SLSQP', bounds=bounds, constraints=cons)\n",
        "\n",
        "    frontier_volatility.append(result['fun'])\n",
        "    \n"
      ],
      "execution_count": 40,
      "outputs": []
    },
    {
      "cell_type": "code",
      "metadata": {
        "colab": {
          "base_uri": "https://localhost:8080/",
          "height": 513
        },
        "id": "sREVO_tmoK0Z",
        "outputId": "49a1f768-d71e-4456-e7d7-77f05c86f4f4"
      },
      "source": [
        "plt.figure(figsize=(12,8))\n",
        "plt.scatter(vol_arr, ret_arr, c=sharpe_arr, cmap='plasma')\n",
        "plt.colorbar(label='Sharpe Ratio')\n",
        "plt.xlabel('Volatility')\n",
        "plt.ylabel('Return')\n",
        "\n",
        "plt.plot(frontier_volatility, frontier_y, 'g--', linewidth=3)"
      ],
      "execution_count": 41,
      "outputs": [
        {
          "output_type": "execute_result",
          "data": {
            "text/plain": [
              "[<matplotlib.lines.Line2D at 0x7fb23e215c88>]"
            ]
          },
          "metadata": {
            "tags": []
          },
          "execution_count": 41
        },
        {
          "output_type": "display_data",
          "data": {
            "image/png": "[encoded data removed]",
            "text/plain": [
              "<Figure size 864x576 with 2 Axes>"
            ]
          },
          "metadata": {
            "tags": [],
            "needs_background": "light"
          }
        }
      ]
    },
    {
      "cell_type": "code",
      "metadata": {
        "id": "_oxM_6udsWlM"
      },
      "source": [
        ""
      ],
      "execution_count": null,
      "outputs": []
    }
  ]
}