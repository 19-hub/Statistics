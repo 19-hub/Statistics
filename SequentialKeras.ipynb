{
  "nbformat": 4,
  "nbformat_minor": 0,
  "metadata": {
    "colab": {
      "name": "SequentialKeras.ipynb",
      "provenance": [],
      "authorship_tag": "ABX9TyOLMvx3LLdPSxLWvh2eA54f",
      "include_colab_link": true
    },
    "kernelspec": {
      "name": "python3",
      "display_name": "Python 3"
    },
    "language_info": {
      "name": "python"
    },
    "accelerator": "GPU"
  },
  "cells": [
    {
      "cell_type": "markdown",
      "metadata": {
        "id": "view-in-github",
        "colab_type": "text"
      },
      "source": [
        "<a href=\"https://colab.research.google.com/github/Rioba-Ian/Statistics/blob/main/SequentialKeras.ipynb\" target=\"_parent\"><img src=\"https://colab.research.google.com/assets/colab-badge.svg\" alt=\"Open In Colab\"/></a>"
      ]
    },
    {
      "cell_type": "markdown",
      "metadata": {
        "id": "Dt6jgt-quKTe"
      },
      "source": [
        "\n",
        "\n",
        "1.   Layers\n",
        "2.   The sequential model \n",
        "\n",
        "*    Understanding the sequential model\n",
        "*   creating a sequential model \n",
        "*   giving names to these layers.\n",
        "*   Adding an input \n",
        "*   Model Summary\n",
        "*   Summary of the model\n",
        "\n",
        "3.  Functional Model API\n",
        "4.  Model Subclassing\n",
        "5. Concluding. \n",
        "\n",
        "\n",
        "  \n",
        "\n"
      ]
    },
    {
      "cell_type": "code",
      "metadata": {
        "id": "g2MsGEz6t8C-"
      },
      "source": [
        "import numpy as np\n",
        "import tensorflow as tf\n",
        "from tensorflow import  keras"
      ],
      "execution_count": 1,
      "outputs": []
    },
    {
      "cell_type": "markdown",
      "metadata": {
        "id": "dqlmIG90yizL"
      },
      "source": [
        "# Sequential model API"
      ]
    },
    {
      "cell_type": "code",
      "metadata": {
        "id": "xCiczSwSyY-G"
      },
      "source": [
        "# importing the sequential  library from tensorflow \n",
        "# Layers is used to create each layer of the model.\n",
        "from tensorflow.keras import Sequential\n",
        "from tensorflow.keras import layers"
      ],
      "execution_count": 4,
      "outputs": []
    },
    {
      "cell_type": "code",
      "metadata": {
        "id": "F9kiuRUey6IR"
      },
      "source": [
        "model = keras.Sequential(\n",
        "    [\n",
        "     \n",
        "     layers.Dense(2, activation=\"relu\", name=\"layer1\"),\n",
        "     layers.Dense(3, activation=\"relu\", name=\"layer2\"),\n",
        "     layers.Dense(4, name=\"layer3\"),\n",
        "    ]\n",
        ")\n",
        "\n",
        "# call mdoel on a test output\n",
        "x = tf.ones((3,3))\n",
        "y = model(x)"
      ],
      "execution_count": 5,
      "outputs": []
    },
    {
      "cell_type": "markdown",
      "metadata": {
        "id": "xEnupGK7126v"
      },
      "source": [
        "This can be the same as:"
      ]
    },
    {
      "cell_type": "code",
      "metadata": {
        "id": "3xYQ2br_zqhG"
      },
      "source": [
        "layer1 = layers.Dense(2, activation=\"relu\", name=\"layer1\")\n",
        "layer2 = layers.Dense(3, activation=\"relu\", name=\"layer2\")\n",
        "layer3 = layers.Dense(4, name=\"layer\")\n",
        "\n",
        "# call layers on a test input \n",
        "x = tf.ones((3,3))\n",
        "y = layer3(layer2(layer1(x)))"
      ],
      "execution_count": 6,
      "outputs": []
    },
    {
      "cell_type": "markdown",
      "metadata": {
        "id": "eqznlhua2xvD"
      },
      "source": [
        "# another way of creating a sequential model"
      ]
    },
    {
      "cell_type": "code",
      "metadata": {
        "id": "dI1F_SSr2nEd"
      },
      "source": [
        "model = keras.Sequential(\n",
        "    [\n",
        "     layers.Dense(2, activation=\"relu\"),\n",
        "     layers.Dense(3, activation=\"relu\"),\n",
        "     layers.Dense(4),\n",
        "    ]\n",
        ")"
      ],
      "execution_count": 7,
      "outputs": []
    },
    {
      "cell_type": "markdown",
      "metadata": {
        "id": "3qYoMPSA3Iwt"
      },
      "source": [
        "Incrementally adding"
      ]
    },
    {
      "cell_type": "code",
      "metadata": {
        "id": "F-Z4TBFJ3HJV"
      },
      "source": [
        "model = keras.Sequential()\n",
        "model.add(layers.Dense(2, activation=\"relu\"))\n",
        "model.add(layers.Dense(3, activation=\"relu\"))\n",
        "model.add(layers.Dense(4))\n"
      ],
      "execution_count": 8,
      "outputs": []
    },
    {
      "cell_type": "markdown",
      "metadata": {
        "id": "BXCNRtNK3b4N"
      },
      "source": [
        "Giving names to these layers"
      ]
    },
    {
      "cell_type": "code",
      "metadata": {
        "id": "aMIdGnsq3aK3"
      },
      "source": [
        "model = keras.Sequential(name=\"my sequential keras\")\n",
        "model.add(layers.Dense(2, activation=\"relu\", name=\"layer1\"))\n",
        "model.add(layers.Dense(3, activation=\"relu\", name=\"layer2\"))\n",
        "model.add(layers.Dense(4,name=\"layer3\"))"
      ],
      "execution_count": 10,
      "outputs": []
    },
    {
      "cell_type": "markdown",
      "metadata": {
        "id": "tjSiha2w4YLb"
      },
      "source": [
        "Adding inputs to layers:\n",
        "2 methods"
      ]
    },
    {
      "cell_type": "code",
      "metadata": {
        "id": "0FUauKyK3wyE"
      },
      "source": [
        "# method 1 \n",
        "\n",
        "model = keras.Sequential()\n",
        "model.add(keras.Input(shape=(4,))) # we are using 4, because we want our input to be\n",
        "# a vector - a 1D array\n",
        "model.add(layers.Dense(2, activation=\"relu\"))"
      ],
      "execution_count": 11,
      "outputs": []
    },
    {
      "cell_type": "code",
      "metadata": {
        "id": "-UsaC-Xf4-nY"
      },
      "source": [
        "# method 2 \n",
        "model = keras.Sequential()\n",
        "model.add(layers.Dense(2, activation=\"relu\", input_shape=(4,))) #combining the \n",
        "#2 codes "
      ],
      "execution_count": 13,
      "outputs": []
    },
    {
      "cell_type": "markdown",
      "metadata": {
        "id": "ZtX_c1225l7p"
      },
      "source": [
        "# Keras Summary"
      ]
    },
    {
      "cell_type": "code",
      "metadata": {
        "colab": {
          "base_uri": "https://localhost:8080/"
        },
        "id": "vhosOUA55WKV",
        "outputId": "376d0f1e-d89d-4cc9-87de-bf56452861ec"
      },
      "source": [
        "model.summary()"
      ],
      "execution_count": 14,
      "outputs": [
        {
          "output_type": "stream",
          "text": [
            "Model: \"sequential_4\"\n",
            "_________________________________________________________________\n",
            "Layer (type)                 Output Shape              Param #   \n",
            "=================================================================\n",
            "dense_7 (Dense)              (None, 2)                 10        \n",
            "=================================================================\n",
            "Total params: 10\n",
            "Trainable params: 10\n",
            "Non-trainable params: 0\n",
            "_________________________________________________________________\n"
          ],
          "name": "stdout"
        }
      ]
    },
    {
      "cell_type": "markdown",
      "metadata": {
        "id": "8aeyVu-r6Xk8"
      },
      "source": [
        "* The name of the model is \"sequential_4\"\n",
        "* it has one layer of the Dense type\n",
        "* the output shape is of layer (None, 2)\n",
        "* The number of parameters is 10. This is<br> calculated as:\n",
        "<br><br>\n",
        "\n",
        ">    number_parameters = output_size * (input_size + 1)\n",
        "<br>\n",
        "> parameters = 2(4+1) = 10"
      ]
    },
    {
      "cell_type": "markdown",
      "metadata": {
        "id": "ry3TAFqh82B_"
      },
      "source": [
        "# Plotting a model"
      ]
    },
    {
      "cell_type": "code",
      "metadata": {
        "colab": {
          "base_uri": "https://localhost:8080/",
          "height": 173
        },
        "id": "InzMD-kb6RG0",
        "outputId": "b70f81f3-0d7f-4de8-d2a7-2e76c7abec82"
      },
      "source": [
        "from tensorflow.keras.utils import plot_model\n",
        "plot_model(model)"
      ],
      "execution_count": 15,
      "outputs": [
        {
          "output_type": "execute_result",
          "data": {
            "image/png": "[encoded data removed]",
            "text/plain": [
              "<IPython.core.display.Image object>"
            ]
          },
          "metadata": {
            "tags": []
          },
          "execution_count": 15
        }
      ]
    },
    {
      "cell_type": "markdown",
      "metadata": {
        "id": "XvRPa5hS9noR"
      },
      "source": [
        "# Example"
      ]
    },
    {
      "cell_type": "code",
      "metadata": {
        "colab": {
          "base_uri": "https://localhost:8080/"
        },
        "id": "k65YkWvD9YT6",
        "outputId": "d0502efb-28da-4886-d8c1-e2a86d07a047"
      },
      "source": [
        "# example of a model defined with the sequential api\n",
        "# define the model\n",
        "\n",
        "model = Sequential()\n",
        "model.add(layers.Dense(10, input_shape=(8,)))\n",
        "model.add(layers.Dense(1))\n",
        "\n",
        "model.summary()"
      ],
      "execution_count": 16,
      "outputs": [
        {
          "output_type": "stream",
          "text": [
            "Model: \"sequential_5\"\n",
            "_________________________________________________________________\n",
            "Layer (type)                 Output Shape              Param #   \n",
            "=================================================================\n",
            "dense_8 (Dense)              (None, 10)                90        \n",
            "_________________________________________________________________\n",
            "dense_9 (Dense)              (None, 1)                 11        \n",
            "=================================================================\n",
            "Total params: 101\n",
            "Trainable params: 101\n",
            "Non-trainable params: 0\n",
            "_________________________________________________________________\n"
          ],
          "name": "stdout"
        }
      ]
    },
    {
      "cell_type": "code",
      "metadata": {
        "colab": {
          "base_uri": "https://localhost:8080/"
        },
        "id": "w8U-QY3_98LT",
        "outputId": "8ca167fa-d9f9-441f-9e33-bdbbdfd48db7"
      },
      "source": [
        "# example of a model defined with the sequential api\n",
        "from tensorflow.keras.layers import Dense\n",
        "\n",
        "#define the model\n",
        "\n",
        "model = Sequential()\n",
        "model.add(Dense(100, input_shape=(8,)))\n",
        "model.add(Dense(80))\n",
        "model.add(Dense(30))\n",
        "model.add(Dense(10))\n",
        "model.add(Dense(5))\n",
        "model.add(Dense(1))\n",
        "\n",
        "model.summary()\n",
        "\n"
      ],
      "execution_count": 17,
      "outputs": [
        {
          "output_type": "stream",
          "text": [
            "Model: \"sequential_6\"\n",
            "_________________________________________________________________\n",
            "Layer (type)                 Output Shape              Param #   \n",
            "=================================================================\n",
            "dense_10 (Dense)             (None, 100)               900       \n",
            "_________________________________________________________________\n",
            "dense_11 (Dense)             (None, 80)                8080      \n",
            "_________________________________________________________________\n",
            "dense_12 (Dense)             (None, 30)                2430      \n",
            "_________________________________________________________________\n",
            "dense_13 (Dense)             (None, 10)                310       \n",
            "_________________________________________________________________\n",
            "dense_14 (Dense)             (None, 5)                 55        \n",
            "_________________________________________________________________\n",
            "dense_15 (Dense)             (None, 1)                 6         \n",
            "=================================================================\n",
            "Total params: 11,781\n",
            "Trainable params: 11,781\n",
            "Non-trainable params: 0\n",
            "_________________________________________________________________\n"
          ],
          "name": "stdout"
        }
      ]
    },
    {
      "cell_type": "code",
      "metadata": {
        "colab": {
          "base_uri": "https://localhost:8080/",
          "height": 661
        },
        "id": "S9Rx_Ecd-xMv",
        "outputId": "f5c8618d-e717-49cc-f6f0-d7ad59b65eb8"
      },
      "source": [
        "plot_model(model)"
      ],
      "execution_count": 18,
      "outputs": [
        {
          "output_type": "execute_result",
          "data": {
            "image/png": "[encoded data removed]",
            "text/plain": [
              "<IPython.core.display.Image object>"
            ]
          },
          "metadata": {
            "tags": []
          },
          "execution_count": 18
        }
      ]
    },
    {
      "cell_type": "code",
      "metadata": {
        "id": "Bgj9TqxZ-3lq"
      },
      "source": [
        ""
      ],
      "execution_count": null,
      "outputs": []
    }
  ]
}