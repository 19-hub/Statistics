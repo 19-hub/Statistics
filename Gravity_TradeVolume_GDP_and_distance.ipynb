{
  "nbformat": 4,
  "nbformat_minor": 0,
  "metadata": {
    "colab": {
      "name": "Gravity_TradeVolume_GDP_and_distance.ipynb",
      "provenance": [],
      "authorship_tag": "ABX9TyPxR1+YClMY0NKNg6OYSkAm",
      "include_colab_link": true
    },
    "kernelspec": {
      "name": "python3",
      "display_name": "Python 3"
    },
    "language_info": {
      "name": "python"
    }
  },
  "cells": [
    {
      "cell_type": "markdown",
      "metadata": {
        "id": "view-in-github",
        "colab_type": "text"
      },
      "source": [
        "<a href=\"https://colab.research.google.com/github/Rioba-Ian/Statistics/blob/main/Gravity_TradeVolume_GDP_and_distance.ipynb\" target=\"_parent\"><img src=\"https://colab.research.google.com/assets/colab-badge.svg\" alt=\"Open In Colab\"/></a>"
      ]
    },
    {
      "cell_type": "code",
      "metadata": {
        "id": "72Qc7TI6cshE"
      },
      "source": [
        "import pandas as pd\n",
        "import numpy as np\n",
        "import matplotlib.pyplot as plt \n",
        "import seaborn as sns "
      ],
      "execution_count": 1,
      "outputs": []
    },
    {
      "cell_type": "code",
      "metadata": {
        "colab": {
          "resources": {
            "http://localhost:8080/nbextensions/google.colab/files.js": {
              "data": "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",
              "ok": true,
              "headers": [
                [
                  "content-type",
                  "application/javascript"
                ]
              ],
              "status": 200,
              "status_text": ""
            }
          },
          "base_uri": "https://localhost:8080/",
          "height": 70
        },
        "id": "CgQYuh3Oc9jo",
        "outputId": "84d21b4e-85d7-4b69-e4e6-efd1d5cb1785"
      },
      "source": [
        "from google.colab import files \n",
        "uploaded = files.upload()"
      ],
      "execution_count": 18,
      "outputs": [
        {
          "output_type": "display_data",
          "data": {
            "text/html": [
              "\n",
              "     <input type=\"file\" id=\"files-b3f529f8-60d0-44f3-808f-2b5db0cb2cee\" name=\"files[]\" multiple disabled\n",
              "        style=\"border:none\" />\n",
              "     <output id=\"result-b3f529f8-60d0-44f3-808f-2b5db0cb2cee\">\n",
              "      Upload widget is only available when the cell has been executed in the\n",
              "      current browser session. Please rerun this cell to enable.\n",
              "      </output>\n",
              "      <script src=\"/nbextensions/google.colab/files.js\"></script> "
            ],
            "text/plain": [
              "<IPython.core.display.HTML object>"
            ]
          },
          "metadata": {
            "tags": []
          }
        },
        {
          "output_type": "stream",
          "text": [
            "Saving data - data.csv to data - data.csv\n"
          ],
          "name": "stdout"
        }
      ]
    },
    {
      "cell_type": "code",
      "metadata": {
        "colab": {
          "base_uri": "https://localhost:8080/",
          "height": 105
        },
        "id": "BVd5-xxFdFzm",
        "outputId": "bfa3ac6a-3708-4c5c-82bc-a202aa22d1f9"
      },
      "source": [
        "data = pd.read_csv('data - data.csv')\n",
        "data.head(2)"
      ],
      "execution_count": 19,
      "outputs": [
        {
          "output_type": "execute_result",
          "data": {
            "text/html": [
              "<div>\n",
              "<style scoped>\n",
              "    .dataframe tbody tr th:only-of-type {\n",
              "        vertical-align: middle;\n",
              "    }\n",
              "\n",
              "    .dataframe tbody tr th {\n",
              "        vertical-align: top;\n",
              "    }\n",
              "\n",
              "    .dataframe thead th {\n",
              "        text-align: right;\n",
              "    }\n",
              "</style>\n",
              "<table border=\"1\" class=\"dataframe\">\n",
              "  <thead>\n",
              "    <tr style=\"text-align: right;\">\n",
              "      <th></th>\n",
              "      <th>Unnamed: 0</th>\n",
              "      <th>import</th>\n",
              "      <th>export</th>\n",
              "      <th>Gdp</th>\n",
              "      <th>Distance</th>\n",
              "    </tr>\n",
              "  </thead>\n",
              "  <tbody>\n",
              "    <tr>\n",
              "      <th>0</th>\n",
              "      <td>Afghanistan</td>\n",
              "      <td>9.0</td>\n",
              "      <td>NaN</td>\n",
              "      <td>19.0</td>\n",
              "      <td>NaN</td>\n",
              "    </tr>\n",
              "    <tr>\n",
              "      <th>1</th>\n",
              "      <td>Albania</td>\n",
              "      <td>1.0</td>\n",
              "      <td>0.0</td>\n",
              "      <td>13.0</td>\n",
              "      <td>9424.0</td>\n",
              "    </tr>\n",
              "  </tbody>\n",
              "</table>\n",
              "</div>"
            ],
            "text/plain": [
              "    Unnamed: 0  import  export   Gdp  Distance\n",
              "0  Afghanistan     9.0     NaN  19.0       NaN\n",
              "1      Albania     1.0     0.0  13.0    9424.0"
            ]
          },
          "metadata": {
            "tags": []
          },
          "execution_count": 19
        }
      ]
    },
    {
      "cell_type": "code",
      "metadata": {
        "colab": {
          "base_uri": "https://localhost:8080/"
        },
        "id": "AcVMe7gsdPER",
        "outputId": "bd3b8da6-e4df-4fcd-e5f6-386879fcefbd"
      },
      "source": [
        "data.columns.values"
      ],
      "execution_count": 20,
      "outputs": [
        {
          "output_type": "execute_result",
          "data": {
            "text/plain": [
              "array(['Unnamed: 0', 'import', 'export', 'Gdp', 'Distance'], dtype=object)"
            ]
          },
          "metadata": {
            "tags": []
          },
          "execution_count": 20
        }
      ]
    },
    {
      "cell_type": "code",
      "metadata": {
        "id": "GCe_LX6tdzPh"
      },
      "source": [
        "data['Countries'] = data['Unnamed: 0']\n",
        "data.drop('Unnamed: 0', axis=1, inplace=True)"
      ],
      "execution_count": 21,
      "outputs": []
    },
    {
      "cell_type": "code",
      "metadata": {
        "colab": {
          "base_uri": "https://localhost:8080/",
          "height": 105
        },
        "id": "ZRTY5TLfd3x0",
        "outputId": "98704921-4015-436a-9614-58d7a89dd911"
      },
      "source": [
        "data.head(2)"
      ],
      "execution_count": 22,
      "outputs": [
        {
          "output_type": "execute_result",
          "data": {
            "text/html": [
              "<div>\n",
              "<style scoped>\n",
              "    .dataframe tbody tr th:only-of-type {\n",
              "        vertical-align: middle;\n",
              "    }\n",
              "\n",
              "    .dataframe tbody tr th {\n",
              "        vertical-align: top;\n",
              "    }\n",
              "\n",
              "    .dataframe thead th {\n",
              "        text-align: right;\n",
              "    }\n",
              "</style>\n",
              "<table border=\"1\" class=\"dataframe\">\n",
              "  <thead>\n",
              "    <tr style=\"text-align: right;\">\n",
              "      <th></th>\n",
              "      <th>import</th>\n",
              "      <th>export</th>\n",
              "      <th>Gdp</th>\n",
              "      <th>Distance</th>\n",
              "      <th>Countries</th>\n",
              "    </tr>\n",
              "  </thead>\n",
              "  <tbody>\n",
              "    <tr>\n",
              "      <th>0</th>\n",
              "      <td>9.0</td>\n",
              "      <td>NaN</td>\n",
              "      <td>19.0</td>\n",
              "      <td>NaN</td>\n",
              "      <td>Afghanistan</td>\n",
              "    </tr>\n",
              "    <tr>\n",
              "      <th>1</th>\n",
              "      <td>1.0</td>\n",
              "      <td>0.0</td>\n",
              "      <td>13.0</td>\n",
              "      <td>9424.0</td>\n",
              "      <td>Albania</td>\n",
              "    </tr>\n",
              "  </tbody>\n",
              "</table>\n",
              "</div>"
            ],
            "text/plain": [
              "   import  export   Gdp  Distance    Countries\n",
              "0     9.0     NaN  19.0       NaN  Afghanistan\n",
              "1     1.0     0.0  13.0    9424.0      Albania"
            ]
          },
          "metadata": {
            "tags": []
          },
          "execution_count": 22
        }
      ]
    },
    {
      "cell_type": "code",
      "metadata": {
        "colab": {
          "base_uri": "https://localhost:8080/"
        },
        "id": "3k8-XEG-fIwI",
        "outputId": "3eb74bbd-fb51-4ce2-e01a-d4fecc9c1399"
      },
      "source": [
        "data.info()"
      ],
      "execution_count": 23,
      "outputs": [
        {
          "output_type": "stream",
          "text": [
            "<class 'pandas.core.frame.DataFrame'>\n",
            "RangeIndex: 208 entries, 0 to 207\n",
            "Data columns (total 5 columns):\n",
            " #   Column     Non-Null Count  Dtype  \n",
            "---  ------     --------------  -----  \n",
            " 0   import     202 non-null    float64\n",
            " 1   export     192 non-null    float64\n",
            " 2   Gdp        192 non-null    float64\n",
            " 3   Distance   190 non-null    float64\n",
            " 4   Countries  208 non-null    object \n",
            "dtypes: float64(4), object(1)\n",
            "memory usage: 8.2+ KB\n"
          ],
          "name": "stdout"
        }
      ]
    },
    {
      "cell_type": "code",
      "metadata": {
        "colab": {
          "base_uri": "https://localhost:8080/",
          "height": 277
        },
        "id": "vwv9meLJe0TE",
        "outputId": "83807077-26c6-4509-943d-ea5e25e360f3"
      },
      "source": [
        "data.describe()"
      ],
      "execution_count": 24,
      "outputs": [
        {
          "output_type": "execute_result",
          "data": {
            "text/html": [
              "<div>\n",
              "<style scoped>\n",
              "    .dataframe tbody tr th:only-of-type {\n",
              "        vertical-align: middle;\n",
              "    }\n",
              "\n",
              "    .dataframe tbody tr th {\n",
              "        vertical-align: top;\n",
              "    }\n",
              "\n",
              "    .dataframe thead th {\n",
              "        text-align: right;\n",
              "    }\n",
              "</style>\n",
              "<table border=\"1\" class=\"dataframe\">\n",
              "  <thead>\n",
              "    <tr style=\"text-align: right;\">\n",
              "      <th></th>\n",
              "      <th>import</th>\n",
              "      <th>export</th>\n",
              "      <th>Gdp</th>\n",
              "      <th>Distance</th>\n",
              "    </tr>\n",
              "  </thead>\n",
              "  <tbody>\n",
              "    <tr>\n",
              "      <th>count</th>\n",
              "      <td>202.000000</td>\n",
              "      <td>192.000000</td>\n",
              "      <td>192.000000</td>\n",
              "      <td>190.000000</td>\n",
              "    </tr>\n",
              "    <tr>\n",
              "      <th>mean</th>\n",
              "      <td>1157.396040</td>\n",
              "      <td>1514.296875</td>\n",
              "      <td>423.052083</td>\n",
              "      <td>9974.457895</td>\n",
              "    </tr>\n",
              "    <tr>\n",
              "      <th>std</th>\n",
              "      <td>4401.201239</td>\n",
              "      <td>5245.507187</td>\n",
              "      <td>1750.892693</td>\n",
              "      <td>4622.714241</td>\n",
              "    </tr>\n",
              "    <tr>\n",
              "      <th>min</th>\n",
              "      <td>0.000000</td>\n",
              "      <td>0.000000</td>\n",
              "      <td>0.000000</td>\n",
              "      <td>316.000000</td>\n",
              "    </tr>\n",
              "    <tr>\n",
              "      <th>25%</th>\n",
              "      <td>4.000000</td>\n",
              "      <td>1.000000</td>\n",
              "      <td>7.750000</td>\n",
              "      <td>6968.000000</td>\n",
              "    </tr>\n",
              "    <tr>\n",
              "      <th>50%</th>\n",
              "      <td>25.500000</td>\n",
              "      <td>16.500000</td>\n",
              "      <td>36.500000</td>\n",
              "      <td>9499.000000</td>\n",
              "    </tr>\n",
              "    <tr>\n",
              "      <th>75%</th>\n",
              "      <td>261.750000</td>\n",
              "      <td>320.500000</td>\n",
              "      <td>219.500000</td>\n",
              "      <td>12291.250000</td>\n",
              "    </tr>\n",
              "    <tr>\n",
              "      <th>max</th>\n",
              "      <td>37688.000000</td>\n",
              "      <td>46233.000000</td>\n",
              "      <td>19543.000000</td>\n",
              "      <td>19747.000000</td>\n",
              "    </tr>\n",
              "  </tbody>\n",
              "</table>\n",
              "</div>"
            ],
            "text/plain": [
              "             import        export           Gdp      Distance\n",
              "count    202.000000    192.000000    192.000000    190.000000\n",
              "mean    1157.396040   1514.296875    423.052083   9974.457895\n",
              "std     4401.201239   5245.507187   1750.892693   4622.714241\n",
              "min        0.000000      0.000000      0.000000    316.000000\n",
              "25%        4.000000      1.000000      7.750000   6968.000000\n",
              "50%       25.500000     16.500000     36.500000   9499.000000\n",
              "75%      261.750000    320.500000    219.500000  12291.250000\n",
              "max    37688.000000  46233.000000  19543.000000  19747.000000"
            ]
          },
          "metadata": {
            "tags": []
          },
          "execution_count": 24
        }
      ]
    },
    {
      "cell_type": "code",
      "metadata": {
        "id": "7RNZ38FGeEem"
      },
      "source": [
        "data['Distance'] = data['Distance'].fillna((data['Distance'].median()))\n",
        "data['import'] = data['import'].fillna((data['import'].median()))\n",
        "data['export'] = data['export'].fillna((data['export'].median()))\n",
        "data['Gdp'] = data['Gdp'].fillna((data['Gdp'].median()))\n"
      ],
      "execution_count": 35,
      "outputs": []
    },
    {
      "cell_type": "code",
      "metadata": {
        "colab": {
          "base_uri": "https://localhost:8080/",
          "height": 105
        },
        "id": "3p9EX-lZemQs",
        "outputId": "dab6eeea-9971-4314-8dc9-16a1c4b88f42"
      },
      "source": [
        "data.head(2)"
      ],
      "execution_count": 36,
      "outputs": [
        {
          "output_type": "execute_result",
          "data": {
            "text/html": [
              "<div>\n",
              "<style scoped>\n",
              "    .dataframe tbody tr th:only-of-type {\n",
              "        vertical-align: middle;\n",
              "    }\n",
              "\n",
              "    .dataframe tbody tr th {\n",
              "        vertical-align: top;\n",
              "    }\n",
              "\n",
              "    .dataframe thead th {\n",
              "        text-align: right;\n",
              "    }\n",
              "</style>\n",
              "<table border=\"1\" class=\"dataframe\">\n",
              "  <thead>\n",
              "    <tr style=\"text-align: right;\">\n",
              "      <th></th>\n",
              "      <th>import</th>\n",
              "      <th>export</th>\n",
              "      <th>Gdp</th>\n",
              "      <th>Distance</th>\n",
              "      <th>Countries</th>\n",
              "      <th>Volume</th>\n",
              "    </tr>\n",
              "  </thead>\n",
              "  <tbody>\n",
              "    <tr>\n",
              "      <th>0</th>\n",
              "      <td>9.0</td>\n",
              "      <td>1514.296875</td>\n",
              "      <td>19.0</td>\n",
              "      <td>9974.457895</td>\n",
              "      <td>Afghanistan</td>\n",
              "      <td>1523.296875</td>\n",
              "    </tr>\n",
              "    <tr>\n",
              "      <th>1</th>\n",
              "      <td>1.0</td>\n",
              "      <td>0.000000</td>\n",
              "      <td>13.0</td>\n",
              "      <td>9424.000000</td>\n",
              "      <td>Albania</td>\n",
              "      <td>1.000000</td>\n",
              "    </tr>\n",
              "  </tbody>\n",
              "</table>\n",
              "</div>"
            ],
            "text/plain": [
              "   import       export   Gdp     Distance    Countries       Volume\n",
              "0     9.0  1514.296875  19.0  9974.457895  Afghanistan  1523.296875\n",
              "1     1.0     0.000000  13.0  9424.000000      Albania     1.000000"
            ]
          },
          "metadata": {
            "tags": []
          },
          "execution_count": 36
        }
      ]
    },
    {
      "cell_type": "code",
      "metadata": {
        "id": "7tTEaE7TfCMp"
      },
      "source": [
        "data['Volume'] = data['export'] + data['import']"
      ],
      "execution_count": 71,
      "outputs": []
    },
    {
      "cell_type": "code",
      "metadata": {
        "colab": {
          "base_uri": "https://localhost:8080/",
          "height": 191
        },
        "id": "MQdi5Akihca5",
        "outputId": "da69ed96-ca19-4282-ecfa-fcaa84471d55"
      },
      "source": [
        "data.head(5)"
      ],
      "execution_count": 72,
      "outputs": [
        {
          "output_type": "execute_result",
          "data": {
            "text/html": [
              "<div>\n",
              "<style scoped>\n",
              "    .dataframe tbody tr th:only-of-type {\n",
              "        vertical-align: middle;\n",
              "    }\n",
              "\n",
              "    .dataframe tbody tr th {\n",
              "        vertical-align: top;\n",
              "    }\n",
              "\n",
              "    .dataframe thead th {\n",
              "        text-align: right;\n",
              "    }\n",
              "</style>\n",
              "<table border=\"1\" class=\"dataframe\">\n",
              "  <thead>\n",
              "    <tr style=\"text-align: right;\">\n",
              "      <th></th>\n",
              "      <th>import</th>\n",
              "      <th>export</th>\n",
              "      <th>Gdp</th>\n",
              "      <th>Distance</th>\n",
              "      <th>Countries</th>\n",
              "      <th>Volume</th>\n",
              "      <th>lnVolume</th>\n",
              "      <th>lnGdp</th>\n",
              "    </tr>\n",
              "  </thead>\n",
              "  <tbody>\n",
              "    <tr>\n",
              "      <th>0</th>\n",
              "      <td>9.0</td>\n",
              "      <td>1514.296875</td>\n",
              "      <td>19.0</td>\n",
              "      <td>9974.457895</td>\n",
              "      <td>Afghanistan</td>\n",
              "      <td>1523.296875</td>\n",
              "      <td>7.328632</td>\n",
              "      <td>2.944439</td>\n",
              "    </tr>\n",
              "    <tr>\n",
              "      <th>1</th>\n",
              "      <td>1.0</td>\n",
              "      <td>0.000000</td>\n",
              "      <td>13.0</td>\n",
              "      <td>9424.000000</td>\n",
              "      <td>Albania</td>\n",
              "      <td>1.000000</td>\n",
              "      <td>0.000000</td>\n",
              "      <td>2.564949</td>\n",
              "    </tr>\n",
              "    <tr>\n",
              "      <th>2</th>\n",
              "      <td>54.0</td>\n",
              "      <td>334.000000</td>\n",
              "      <td>167.0</td>\n",
              "      <td>10895.000000</td>\n",
              "      <td>Algeria</td>\n",
              "      <td>388.000000</td>\n",
              "      <td>5.961005</td>\n",
              "      <td>5.117994</td>\n",
              "    </tr>\n",
              "    <tr>\n",
              "      <th>3</th>\n",
              "      <td>17.0</td>\n",
              "      <td>0.000000</td>\n",
              "      <td>36.5</td>\n",
              "      <td>9974.457895</td>\n",
              "      <td>American Samoa</td>\n",
              "      <td>17.000000</td>\n",
              "      <td>2.833213</td>\n",
              "      <td>3.597312</td>\n",
              "    </tr>\n",
              "    <tr>\n",
              "      <th>4</th>\n",
              "      <td>471.0</td>\n",
              "      <td>274.000000</td>\n",
              "      <td>122.0</td>\n",
              "      <td>10105.000000</td>\n",
              "      <td>Angola</td>\n",
              "      <td>745.000000</td>\n",
              "      <td>6.613384</td>\n",
              "      <td>4.804021</td>\n",
              "    </tr>\n",
              "  </tbody>\n",
              "</table>\n",
              "</div>"
            ],
            "text/plain": [
              "   import       export    Gdp  ...       Volume  lnVolume     lnGdp\n",
              "0     9.0  1514.296875   19.0  ...  1523.296875  7.328632  2.944439\n",
              "1     1.0     0.000000   13.0  ...     1.000000  0.000000  2.564949\n",
              "2    54.0   334.000000  167.0  ...   388.000000  5.961005  5.117994\n",
              "3    17.0     0.000000   36.5  ...    17.000000  2.833213  3.597312\n",
              "4   471.0   274.000000  122.0  ...   745.000000  6.613384  4.804021\n",
              "\n",
              "[5 rows x 8 columns]"
            ]
          },
          "metadata": {
            "tags": []
          },
          "execution_count": 72
        }
      ]
    },
    {
      "cell_type": "code",
      "metadata": {
        "colab": {
          "base_uri": "https://localhost:8080/",
          "height": 191
        },
        "id": "twUsJm9bidw3",
        "outputId": "8ea42d49-ba69-4a6e-8baf-59ec6048ee3b"
      },
      "source": [
        "data['lnVolume'] = np.log(data['Volume'] + 10)\n",
        "data['lnGdp'] = np.log(data['Gdp']+10)\n",
        "data.head(5)"
      ],
      "execution_count": 88,
      "outputs": [
        {
          "output_type": "execute_result",
          "data": {
            "text/html": [
              "<div>\n",
              "<style scoped>\n",
              "    .dataframe tbody tr th:only-of-type {\n",
              "        vertical-align: middle;\n",
              "    }\n",
              "\n",
              "    .dataframe tbody tr th {\n",
              "        vertical-align: top;\n",
              "    }\n",
              "\n",
              "    .dataframe thead th {\n",
              "        text-align: right;\n",
              "    }\n",
              "</style>\n",
              "<table border=\"1\" class=\"dataframe\">\n",
              "  <thead>\n",
              "    <tr style=\"text-align: right;\">\n",
              "      <th></th>\n",
              "      <th>import</th>\n",
              "      <th>export</th>\n",
              "      <th>Gdp</th>\n",
              "      <th>Distance</th>\n",
              "      <th>Countries</th>\n",
              "      <th>Volume</th>\n",
              "      <th>lnVolume</th>\n",
              "      <th>lnGdp</th>\n",
              "    </tr>\n",
              "  </thead>\n",
              "  <tbody>\n",
              "    <tr>\n",
              "      <th>0</th>\n",
              "      <td>9.0</td>\n",
              "      <td>1514.296875</td>\n",
              "      <td>19.0</td>\n",
              "      <td>9974.457895</td>\n",
              "      <td>Afghanistan</td>\n",
              "      <td>1523.296875</td>\n",
              "      <td>7.335176</td>\n",
              "      <td>3.367296</td>\n",
              "    </tr>\n",
              "    <tr>\n",
              "      <th>1</th>\n",
              "      <td>1.0</td>\n",
              "      <td>0.000000</td>\n",
              "      <td>13.0</td>\n",
              "      <td>9424.000000</td>\n",
              "      <td>Albania</td>\n",
              "      <td>1.000000</td>\n",
              "      <td>2.397895</td>\n",
              "      <td>3.135494</td>\n",
              "    </tr>\n",
              "    <tr>\n",
              "      <th>2</th>\n",
              "      <td>54.0</td>\n",
              "      <td>334.000000</td>\n",
              "      <td>167.0</td>\n",
              "      <td>10895.000000</td>\n",
              "      <td>Algeria</td>\n",
              "      <td>388.000000</td>\n",
              "      <td>5.986452</td>\n",
              "      <td>5.176150</td>\n",
              "    </tr>\n",
              "    <tr>\n",
              "      <th>3</th>\n",
              "      <td>17.0</td>\n",
              "      <td>0.000000</td>\n",
              "      <td>36.5</td>\n",
              "      <td>9974.457895</td>\n",
              "      <td>American Samoa</td>\n",
              "      <td>17.000000</td>\n",
              "      <td>3.295837</td>\n",
              "      <td>3.839452</td>\n",
              "    </tr>\n",
              "    <tr>\n",
              "      <th>4</th>\n",
              "      <td>471.0</td>\n",
              "      <td>274.000000</td>\n",
              "      <td>122.0</td>\n",
              "      <td>10105.000000</td>\n",
              "      <td>Angola</td>\n",
              "      <td>745.000000</td>\n",
              "      <td>6.626718</td>\n",
              "      <td>4.882802</td>\n",
              "    </tr>\n",
              "  </tbody>\n",
              "</table>\n",
              "</div>"
            ],
            "text/plain": [
              "   import       export    Gdp  ...       Volume  lnVolume     lnGdp\n",
              "0     9.0  1514.296875   19.0  ...  1523.296875  7.335176  3.367296\n",
              "1     1.0     0.000000   13.0  ...     1.000000  2.397895  3.135494\n",
              "2    54.0   334.000000  167.0  ...   388.000000  5.986452  5.176150\n",
              "3    17.0     0.000000   36.5  ...    17.000000  3.295837  3.839452\n",
              "4   471.0   274.000000  122.0  ...   745.000000  6.626718  4.882802\n",
              "\n",
              "[5 rows x 8 columns]"
            ]
          },
          "metadata": {
            "tags": []
          },
          "execution_count": 88
        }
      ]
    },
    {
      "cell_type": "code",
      "metadata": {
        "colab": {
          "base_uri": "https://localhost:8080/"
        },
        "id": "uYKVgDtHmsfk",
        "outputId": "4214ef93-f123-4939-f037-4ded98f6ff24"
      },
      "source": [
        "data.info()"
      ],
      "execution_count": 89,
      "outputs": [
        {
          "output_type": "stream",
          "text": [
            "<class 'pandas.core.frame.DataFrame'>\n",
            "Int64Index: 208 entries, 0 to 207\n",
            "Data columns (total 8 columns):\n",
            " #   Column     Non-Null Count  Dtype  \n",
            "---  ------     --------------  -----  \n",
            " 0   import     208 non-null    float64\n",
            " 1   export     208 non-null    float64\n",
            " 2   Gdp        208 non-null    float64\n",
            " 3   Distance   208 non-null    float64\n",
            " 4   Countries  208 non-null    object \n",
            " 5   Volume     208 non-null    float64\n",
            " 6   lnVolume   208 non-null    float64\n",
            " 7   lnGdp      208 non-null    float64\n",
            "dtypes: float64(7), object(1)\n",
            "memory usage: 14.6+ KB\n"
          ],
          "name": "stdout"
        }
      ]
    },
    {
      "cell_type": "code",
      "metadata": {
        "colab": {
          "base_uri": "https://localhost:8080/",
          "height": 547
        },
        "id": "HLlqcgGnheQh",
        "outputId": "e4652183-46bb-4a25-e11f-1dc5a625e4e1"
      },
      "source": [
        "plt.figure(figsize=(10,8), dpi=80)\n",
        "plt.scatter(data['lnVolume'], data['lnGdp'])\n",
        "plt.xlabel('log of Trade Volume')\n",
        "plt.ylabel('log of GDP')\n",
        "plt.show()"
      ],
      "execution_count": 94,
      "outputs": [
        {
          "output_type": "display_data",
          "data": {
            "image/png": "[encoded data removed]",
            "text/plain": [
              "<Figure size 800x640 with 1 Axes>"
            ]
          },
          "metadata": {
            "tags": [],
            "needs_background": "light"
          }
        }
      ]
    },
    {
      "cell_type": "code",
      "metadata": {
        "id": "WLfovbWOn9wV"
      },
      "source": [
        "df = data.dropna()"
      ],
      "execution_count": 90,
      "outputs": []
    },
    {
      "cell_type": "code",
      "metadata": {
        "colab": {
          "base_uri": "https://localhost:8080/",
          "height": 191
        },
        "id": "5LorueEZoIyQ",
        "outputId": "714fa9a6-6047-4607-832c-afd78dcf008b"
      },
      "source": [
        "df.head(5)"
      ],
      "execution_count": 91,
      "outputs": [
        {
          "output_type": "execute_result",
          "data": {
            "text/html": [
              "<div>\n",
              "<style scoped>\n",
              "    .dataframe tbody tr th:only-of-type {\n",
              "        vertical-align: middle;\n",
              "    }\n",
              "\n",
              "    .dataframe tbody tr th {\n",
              "        vertical-align: top;\n",
              "    }\n",
              "\n",
              "    .dataframe thead th {\n",
              "        text-align: right;\n",
              "    }\n",
              "</style>\n",
              "<table border=\"1\" class=\"dataframe\">\n",
              "  <thead>\n",
              "    <tr style=\"text-align: right;\">\n",
              "      <th></th>\n",
              "      <th>import</th>\n",
              "      <th>export</th>\n",
              "      <th>Gdp</th>\n",
              "      <th>Distance</th>\n",
              "      <th>Countries</th>\n",
              "      <th>Volume</th>\n",
              "      <th>lnVolume</th>\n",
              "      <th>lnGdp</th>\n",
              "    </tr>\n",
              "  </thead>\n",
              "  <tbody>\n",
              "    <tr>\n",
              "      <th>0</th>\n",
              "      <td>9.0</td>\n",
              "      <td>1514.296875</td>\n",
              "      <td>19.0</td>\n",
              "      <td>9974.457895</td>\n",
              "      <td>Afghanistan</td>\n",
              "      <td>1523.296875</td>\n",
              "      <td>7.335176</td>\n",
              "      <td>3.367296</td>\n",
              "    </tr>\n",
              "    <tr>\n",
              "      <th>1</th>\n",
              "      <td>1.0</td>\n",
              "      <td>0.000000</td>\n",
              "      <td>13.0</td>\n",
              "      <td>9424.000000</td>\n",
              "      <td>Albania</td>\n",
              "      <td>1.000000</td>\n",
              "      <td>2.397895</td>\n",
              "      <td>3.135494</td>\n",
              "    </tr>\n",
              "    <tr>\n",
              "      <th>2</th>\n",
              "      <td>54.0</td>\n",
              "      <td>334.000000</td>\n",
              "      <td>167.0</td>\n",
              "      <td>10895.000000</td>\n",
              "      <td>Algeria</td>\n",
              "      <td>388.000000</td>\n",
              "      <td>5.986452</td>\n",
              "      <td>5.176150</td>\n",
              "    </tr>\n",
              "    <tr>\n",
              "      <th>3</th>\n",
              "      <td>17.0</td>\n",
              "      <td>0.000000</td>\n",
              "      <td>36.5</td>\n",
              "      <td>9974.457895</td>\n",
              "      <td>American Samoa</td>\n",
              "      <td>17.000000</td>\n",
              "      <td>3.295837</td>\n",
              "      <td>3.839452</td>\n",
              "    </tr>\n",
              "    <tr>\n",
              "      <th>4</th>\n",
              "      <td>471.0</td>\n",
              "      <td>274.000000</td>\n",
              "      <td>122.0</td>\n",
              "      <td>10105.000000</td>\n",
              "      <td>Angola</td>\n",
              "      <td>745.000000</td>\n",
              "      <td>6.626718</td>\n",
              "      <td>4.882802</td>\n",
              "    </tr>\n",
              "  </tbody>\n",
              "</table>\n",
              "</div>"
            ],
            "text/plain": [
              "   import       export    Gdp  ...       Volume  lnVolume     lnGdp\n",
              "0     9.0  1514.296875   19.0  ...  1523.296875  7.335176  3.367296\n",
              "1     1.0     0.000000   13.0  ...     1.000000  2.397895  3.135494\n",
              "2    54.0   334.000000  167.0  ...   388.000000  5.986452  5.176150\n",
              "3    17.0     0.000000   36.5  ...    17.000000  3.295837  3.839452\n",
              "4   471.0   274.000000  122.0  ...   745.000000  6.626718  4.882802\n",
              "\n",
              "[5 rows x 8 columns]"
            ]
          },
          "metadata": {
            "tags": []
          },
          "execution_count": 91
        }
      ]
    },
    {
      "cell_type": "code",
      "metadata": {
        "colab": {
          "base_uri": "https://localhost:8080/",
          "height": 297
        },
        "id": "4DeHjKraqhqm",
        "outputId": "6440adcd-aaee-4ed3-b01e-8c015c7596f0"
      },
      "source": [
        "df.describe()"
      ],
      "execution_count": 92,
      "outputs": [
        {
          "output_type": "execute_result",
          "data": {
            "text/html": [
              "<div>\n",
              "<style scoped>\n",
              "    .dataframe tbody tr th:only-of-type {\n",
              "        vertical-align: middle;\n",
              "    }\n",
              "\n",
              "    .dataframe tbody tr th {\n",
              "        vertical-align: top;\n",
              "    }\n",
              "\n",
              "    .dataframe thead th {\n",
              "        text-align: right;\n",
              "    }\n",
              "</style>\n",
              "<table border=\"1\" class=\"dataframe\">\n",
              "  <thead>\n",
              "    <tr style=\"text-align: right;\">\n",
              "      <th></th>\n",
              "      <th>import</th>\n",
              "      <th>export</th>\n",
              "      <th>Gdp</th>\n",
              "      <th>Distance</th>\n",
              "      <th>Volume</th>\n",
              "      <th>lnVolume</th>\n",
              "      <th>lnGdp</th>\n",
              "    </tr>\n",
              "  </thead>\n",
              "  <tbody>\n",
              "    <tr>\n",
              "      <th>count</th>\n",
              "      <td>208.000000</td>\n",
              "      <td>208.000000</td>\n",
              "      <td>208.000000</td>\n",
              "      <td>208.000000</td>\n",
              "      <td>208.000000</td>\n",
              "      <td>208.000000</td>\n",
              "      <td>208.000000</td>\n",
              "    </tr>\n",
              "    <tr>\n",
              "      <th>mean</th>\n",
              "      <td>1157.396040</td>\n",
              "      <td>1514.296875</td>\n",
              "      <td>393.317308</td>\n",
              "      <td>9974.457895</td>\n",
              "      <td>2671.692915</td>\n",
              "      <td>5.371743</td>\n",
              "      <td>4.202831</td>\n",
              "    </tr>\n",
              "    <tr>\n",
              "      <th>std</th>\n",
              "      <td>4336.946678</td>\n",
              "      <td>5038.705751</td>\n",
              "      <td>1685.031104</td>\n",
              "      <td>4417.156404</td>\n",
              "      <td>7827.780869</td>\n",
              "      <td>2.313070</td>\n",
              "      <td>1.602054</td>\n",
              "    </tr>\n",
              "    <tr>\n",
              "      <th>min</th>\n",
              "      <td>0.000000</td>\n",
              "      <td>0.000000</td>\n",
              "      <td>0.000000</td>\n",
              "      <td>316.000000</td>\n",
              "      <td>0.000000</td>\n",
              "      <td>2.302585</td>\n",
              "      <td>2.302585</td>\n",
              "    </tr>\n",
              "    <tr>\n",
              "      <th>25%</th>\n",
              "      <td>4.000000</td>\n",
              "      <td>1.000000</td>\n",
              "      <td>10.000000</td>\n",
              "      <td>7290.000000</td>\n",
              "      <td>21.500000</td>\n",
              "      <td>3.449601</td>\n",
              "      <td>2.995732</td>\n",
              "    </tr>\n",
              "    <tr>\n",
              "      <th>50%</th>\n",
              "      <td>27.500000</td>\n",
              "      <td>26.500000</td>\n",
              "      <td>36.500000</td>\n",
              "      <td>9865.000000</td>\n",
              "      <td>96.000000</td>\n",
              "      <td>4.663395</td>\n",
              "      <td>3.839452</td>\n",
              "    </tr>\n",
              "    <tr>\n",
              "      <th>75%</th>\n",
              "      <td>370.750000</td>\n",
              "      <td>672.000000</td>\n",
              "      <td>203.250000</td>\n",
              "      <td>11708.000000</td>\n",
              "      <td>1514.296875</td>\n",
              "      <td>7.329289</td>\n",
              "      <td>5.362463</td>\n",
              "    </tr>\n",
              "    <tr>\n",
              "      <th>max</th>\n",
              "      <td>37688.000000</td>\n",
              "      <td>46233.000000</td>\n",
              "      <td>19543.000000</td>\n",
              "      <td>19747.000000</td>\n",
              "      <td>52969.000000</td>\n",
              "      <td>10.877651</td>\n",
              "      <td>9.880884</td>\n",
              "    </tr>\n",
              "  </tbody>\n",
              "</table>\n",
              "</div>"
            ],
            "text/plain": [
              "             import        export  ...    lnVolume       lnGdp\n",
              "count    208.000000    208.000000  ...  208.000000  208.000000\n",
              "mean    1157.396040   1514.296875  ...    5.371743    4.202831\n",
              "std     4336.946678   5038.705751  ...    2.313070    1.602054\n",
              "min        0.000000      0.000000  ...    2.302585    2.302585\n",
              "25%        4.000000      1.000000  ...    3.449601    2.995732\n",
              "50%       27.500000     26.500000  ...    4.663395    3.839452\n",
              "75%      370.750000    672.000000  ...    7.329289    5.362463\n",
              "max    37688.000000  46233.000000  ...   10.877651    9.880884\n",
              "\n",
              "[8 rows x 7 columns]"
            ]
          },
          "metadata": {
            "tags": []
          },
          "execution_count": 92
        }
      ]
    },
    {
      "cell_type": "code",
      "metadata": {
        "colab": {
          "base_uri": "https://localhost:8080/"
        },
        "id": "VCSYNle6l-yX",
        "outputId": "51d15817-4b57-4d73-dab3-7cd96dd1eb89"
      },
      "source": [
        "import statsmodels.api as sm\n",
        "\n",
        "x = df['lnGdp']\n",
        "y = df['lnVolume']\n",
        "\n",
        "x = sm.add_constant(x)\n",
        "\n",
        "model = sm.OLS(y, x, missing='drop').fit()\n",
        "print(model.summary())"
      ],
      "execution_count": 110,
      "outputs": [
        {
          "output_type": "stream",
          "text": [
            "                            OLS Regression Results                            \n",
            "==============================================================================\n",
            "Dep. Variable:               lnVolume   R-squared:                       0.424\n",
            "Model:                            OLS   Adj. R-squared:                  0.421\n",
            "Method:                 Least Squares   F-statistic:                     151.5\n",
            "Date:                Thu, 13 May 2021   Prob (F-statistic):           1.84e-26\n",
            "Time:                        08:09:26   Log-Likelihood:                -411.72\n",
            "No. Observations:                 208   AIC:                             827.4\n",
            "Df Residuals:                     206   BIC:                             834.1\n",
            "Df Model:                           1                                         \n",
            "Covariance Type:            nonrobust                                         \n",
            "==============================================================================\n",
            "                 coef    std err          t      P>|t|      [0.025      0.975]\n",
            "------------------------------------------------------------------------------\n",
            "const          1.4212      0.343      4.139      0.000       0.744       2.098\n",
            "lnGdp          0.9400      0.076     12.310      0.000       0.789       1.091\n",
            "==============================================================================\n",
            "Omnibus:                       18.934   Durbin-Watson:                   1.789\n",
            "Prob(Omnibus):                  0.000   Jarque-Bera (JB):               21.636\n",
            "Skew:                           0.783   Prob(JB):                     2.00e-05\n",
            "Kurtosis:                       3.206   Cond. No.                         13.2\n",
            "==============================================================================\n",
            "\n",
            "Warnings:\n",
            "[1] Standard Errors assume that the covariance matrix of the errors is correctly specified.\n"
          ],
          "name": "stdout"
        }
      ]
    },
    {
      "cell_type": "code",
      "metadata": {
        "colab": {
          "base_uri": "https://localhost:8080/"
        },
        "id": "fcjiUBYhml5C",
        "outputId": "8ec74df9-251d-4eb0-d8c8-54c5907e99a4"
      },
      "source": [
        "x1 = df['Distance']\n",
        "y1 = df['lnVolume']\n",
        "\n",
        "x1 = sm.add_constant(x)\n",
        "\n",
        "model1 = sm.OLS(y, x, missing='drop').fit()\n",
        "print(model1.summary())"
      ],
      "execution_count": 95,
      "outputs": [
        {
          "output_type": "stream",
          "text": [
            "                            OLS Regression Results                            \n",
            "==============================================================================\n",
            "Dep. Variable:                  lnGdp   R-squared:                       0.424\n",
            "Model:                            OLS   Adj. R-squared:                  0.421\n",
            "Method:                 Least Squares   F-statistic:                     151.5\n",
            "Date:                Thu, 13 May 2021   Prob (F-statistic):           1.84e-26\n",
            "Time:                        07:45:39   Log-Likelihood:                -335.32\n",
            "No. Observations:                 208   AIC:                             674.6\n",
            "Df Residuals:                     206   BIC:                             681.3\n",
            "Df Model:                           1                                         \n",
            "Covariance Type:            nonrobust                                         \n",
            "==============================================================================\n",
            "                 coef    std err          t      P>|t|      [0.025      0.975]\n",
            "------------------------------------------------------------------------------\n",
            "const          1.7807      0.214      8.315      0.000       1.358       2.203\n",
            "lnVolume       0.4509      0.037     12.310      0.000       0.379       0.523\n",
            "==============================================================================\n",
            "Omnibus:                        2.636   Durbin-Watson:                   1.784\n",
            "Prob(Omnibus):                  0.268   Jarque-Bera (JB):                2.257\n",
            "Skew:                          -0.194   Prob(JB):                        0.323\n",
            "Kurtosis:                       3.331   Cond. No.                         15.2\n",
            "==============================================================================\n",
            "\n",
            "Warnings:\n",
            "[1] Standard Errors assume that the covariance matrix of the errors is correctly specified.\n"
          ],
          "name": "stdout"
        }
      ]
    },
    {
      "cell_type": "code",
      "metadata": {
        "id": "-uRezQSYsDAn"
      },
      "source": [
        "from statsmodels.formula.api import ols \n",
        "\n",
        "plt.rc('figure', figsize=(10,8))\n",
        "plt.rc('font', size=10)"
      ],
      "execution_count": 98,
      "outputs": []
    },
    {
      "cell_type": "code",
      "metadata": {
        "colab": {
          "base_uri": "https://localhost:8080/"
        },
        "id": "h8IiffR3s8D2",
        "outputId": "11250b49-fba6-40a1-fc2c-6fed63c10a37"
      },
      "source": [
        "model3 = ols('lnVolume ~ lnGdp + Distance', data=df).fit()\n",
        "print(model3.summary())"
      ],
      "execution_count": 103,
      "outputs": [
        {
          "output_type": "stream",
          "text": [
            "                            OLS Regression Results                            \n",
            "==============================================================================\n",
            "Dep. Variable:               lnVolume   R-squared:                       0.448\n",
            "Model:                            OLS   Adj. R-squared:                  0.443\n",
            "Method:                 Least Squares   F-statistic:                     83.16\n",
            "Date:                Thu, 13 May 2021   Prob (F-statistic):           3.59e-27\n",
            "Time:                        07:54:10   Log-Likelihood:                -407.28\n",
            "No. Observations:                 208   AIC:                             820.6\n",
            "Df Residuals:                     205   BIC:                             830.6\n",
            "Df Model:                           2                                         \n",
            "Covariance Type:            nonrobust                                         \n",
            "==============================================================================\n",
            "                 coef    std err          t      P>|t|      [0.025      0.975]\n",
            "------------------------------------------------------------------------------\n",
            "Intercept      2.2841      0.444      5.149      0.000       1.410       3.159\n",
            "lnGdp          0.9278      0.075     12.365      0.000       0.780       1.076\n",
            "Distance   -8.139e-05   2.72e-05     -2.991      0.003      -0.000   -2.77e-05\n",
            "==============================================================================\n",
            "Omnibus:                       24.902   Durbin-Watson:                   1.759\n",
            "Prob(Omnibus):                  0.000   Jarque-Bera (JB):               29.942\n",
            "Skew:                           0.897   Prob(JB):                     3.15e-07\n",
            "Kurtosis:                       3.487   Cond. No.                     4.07e+04\n",
            "==============================================================================\n",
            "\n",
            "Warnings:\n",
            "[1] Standard Errors assume that the covariance matrix of the errors is correctly specified.\n",
            "[2] The condition number is large, 4.07e+04. This might indicate that there are\n",
            "strong multicollinearity or other numerical problems.\n"
          ],
          "name": "stdout"
        }
      ]
    },
    {
      "cell_type": "code",
      "metadata": {
        "colab": {
          "base_uri": "https://localhost:8080/",
          "height": 587
        },
        "id": "KlnfYub2tfYo",
        "outputId": "ed6766d4-7e31-4c2b-856e-921d8bacae01"
      },
      "source": [
        "fig = sm.graphics.plot_partregress_grid(model1)\n",
        "fig.tight_layout(pad=1.0)"
      ],
      "execution_count": 108,
      "outputs": [
        {
          "output_type": "display_data",
          "data": {
            "image/png": "[encoded data removed]",
            "text/plain": [
              "<Figure size 720x576 with 2 Axes>"
            ]
          },
          "metadata": {
            "tags": [],
            "needs_background": "light"
          }
        }
      ]
    },
    {
      "cell_type": "code",
      "metadata": {
        "colab": {
          "base_uri": "https://localhost:8080/",
          "height": 587
        },
        "id": "3NYYrPZwuTp0",
        "outputId": "07651b2b-21f7-4502-ccaf-8f9b5433e40a"
      },
      "source": [
        "fig = sm.graphics.plot_partregress_grid(model)\n",
        "fig.tight_layout(pad=1.0)"
      ],
      "execution_count": 111,
      "outputs": [
        {
          "output_type": "display_data",
          "data": {
            "image/png": "[encoded data removed]",
            "text/plain": [
              "<Figure size 720x576 with 2 Axes>"
            ]
          },
          "metadata": {
            "tags": [],
            "needs_background": "light"
          }
        }
      ]
    },
    {
      "cell_type": "code",
      "metadata": {
        "colab": {
          "base_uri": "https://localhost:8080/",
          "height": 587
        },
        "id": "4DjoBx-zxTAS",
        "outputId": "0adc4d4f-05f9-41b8-b350-e424623860df"
      },
      "source": [
        "fig = sm.graphics.plot_partregress_grid(model3)\n",
        "fig.tight_layout(pad=1.0)"
      ],
      "execution_count": 112,
      "outputs": [
        {
          "output_type": "display_data",
          "data": {
            "image/png": "[encoded data removed]",
            "text/plain": [
              "<Figure size 720x576 with 3 Axes>"
            ]
          },
          "metadata": {
            "tags": [],
            "needs_background": "light"
          }
        }
      ]
    },
    {
      "cell_type": "code",
      "metadata": {
        "id": "_nqu6P-axni2"
      },
      "source": [
        ""
      ],
      "execution_count": null,
      "outputs": []
    }
  ]
}