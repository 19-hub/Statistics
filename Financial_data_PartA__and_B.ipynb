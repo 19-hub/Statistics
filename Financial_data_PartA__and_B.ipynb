{
  "nbformat": 4,
  "nbformat_minor": 0,
  "metadata": {
    "colab": {
      "name": "Financial_data_PartA _and_B.ipynb",
      "provenance": [],
      "collapsed_sections": [],
      "mount_file_id": "1LUVsaJW0nVig6wBwdoZRBdE9lN3d6t5N",
      "authorship_tag": "ABX9TyNsYtnL6mLEZkmQ+WvvMPkx",
      "include_colab_link": true
    },
    "kernelspec": {
      "name": "python3",
      "display_name": "Python 3"
    }
  },
  "cells": [
    {
      "cell_type": "markdown",
      "metadata": {
        "id": "view-in-github",
        "colab_type": "text"
      },
      "source": [
        "<a href=\"https://colab.research.google.com/github/Rioba-Ian/Statistics/blob/main/Financial_data_PartA__and_B.ipynb\" target=\"_parent\"><img src=\"https://colab.research.google.com/assets/colab-badge.svg\" alt=\"Open In Colab\"/></a>"
      ]
    },
    {
      "cell_type": "code",
      "metadata": {
        "id": "Z7xfpNZcLISM"
      },
      "source": [
        "import pandas as pd\n",
        "from pandas import Series, DataFrame\n",
        "import numpy as np\n",
        "\n",
        "import matplotlib.pyplot as plt\n",
        "import seaborn as sns\n",
        "plt.style.use('bmh')\n",
        "%matplotlib inline"
      ],
      "execution_count": 17,
      "outputs": []
    },
    {
      "cell_type": "code",
      "metadata": {
        "colab": {
          "base_uri": "https://localhost:8080/",
          "height": 196
        },
        "id": "8LsrnEveNuBD",
        "outputId": "f583c8ff-e31d-41c2-8e33-6e15506b3050"
      },
      "source": [
        "stocks = pd.read_csv('https://gist.githubusercontent.com/alexdebrie/b3f40efc3dd7664df5a20f5eee85e854/raw/ee3e6feccba2464cbbc2e185fb17961c53d2a7f5/stocks.csv')\n",
        "stocks.head()"
      ],
      "execution_count": 18,
      "outputs": [
        {
          "output_type": "execute_result",
          "data": {
            "text/html": [
              "<div>\n",
              "<style scoped>\n",
              "    .dataframe tbody tr th:only-of-type {\n",
              "        vertical-align: middle;\n",
              "    }\n",
              "\n",
              "    .dataframe tbody tr th {\n",
              "        vertical-align: top;\n",
              "    }\n",
              "\n",
              "    .dataframe thead th {\n",
              "        text-align: right;\n",
              "    }\n",
              "</style>\n",
              "<table border=\"1\" class=\"dataframe\">\n",
              "  <thead>\n",
              "    <tr style=\"text-align: right;\">\n",
              "      <th></th>\n",
              "      <th>date</th>\n",
              "      <th>symbol</th>\n",
              "      <th>open</th>\n",
              "      <th>high</th>\n",
              "      <th>low</th>\n",
              "      <th>close</th>\n",
              "      <th>volume</th>\n",
              "    </tr>\n",
              "  </thead>\n",
              "  <tbody>\n",
              "    <tr>\n",
              "      <th>0</th>\n",
              "      <td>2019-03-01</td>\n",
              "      <td>AMZN</td>\n",
              "      <td>1655.13</td>\n",
              "      <td>1674.26</td>\n",
              "      <td>1651.00</td>\n",
              "      <td>1671.73</td>\n",
              "      <td>4974877</td>\n",
              "    </tr>\n",
              "    <tr>\n",
              "      <th>1</th>\n",
              "      <td>2019-03-04</td>\n",
              "      <td>AMZN</td>\n",
              "      <td>1685.00</td>\n",
              "      <td>1709.43</td>\n",
              "      <td>1674.36</td>\n",
              "      <td>1696.17</td>\n",
              "      <td>6167358</td>\n",
              "    </tr>\n",
              "    <tr>\n",
              "      <th>2</th>\n",
              "      <td>2019-03-05</td>\n",
              "      <td>AMZN</td>\n",
              "      <td>1702.95</td>\n",
              "      <td>1707.80</td>\n",
              "      <td>1689.01</td>\n",
              "      <td>1692.43</td>\n",
              "      <td>3681522</td>\n",
              "    </tr>\n",
              "    <tr>\n",
              "      <th>3</th>\n",
              "      <td>2019-03-06</td>\n",
              "      <td>AMZN</td>\n",
              "      <td>1695.97</td>\n",
              "      <td>1697.75</td>\n",
              "      <td>1668.28</td>\n",
              "      <td>1668.95</td>\n",
              "      <td>3996001</td>\n",
              "    </tr>\n",
              "    <tr>\n",
              "      <th>4</th>\n",
              "      <td>2019-03-07</td>\n",
              "      <td>AMZN</td>\n",
              "      <td>1667.37</td>\n",
              "      <td>1669.75</td>\n",
              "      <td>1620.51</td>\n",
              "      <td>1625.95</td>\n",
              "      <td>4957017</td>\n",
              "    </tr>\n",
              "  </tbody>\n",
              "</table>\n",
              "</div>"
            ],
            "text/plain": [
              "         date symbol     open     high      low    close   volume\n",
              "0  2019-03-01   AMZN  1655.13  1674.26  1651.00  1671.73  4974877\n",
              "1  2019-03-04   AMZN  1685.00  1709.43  1674.36  1696.17  6167358\n",
              "2  2019-03-05   AMZN  1702.95  1707.80  1689.01  1692.43  3681522\n",
              "3  2019-03-06   AMZN  1695.97  1697.75  1668.28  1668.95  3996001\n",
              "4  2019-03-07   AMZN  1667.37  1669.75  1620.51  1625.95  4957017"
            ]
          },
          "metadata": {
            "tags": []
          },
          "execution_count": 18
        }
      ]
    },
    {
      "cell_type": "code",
      "metadata": {
        "colab": {
          "base_uri": "https://localhost:8080/",
          "height": 492
        },
        "id": "3cEeXsXveIKP",
        "outputId": "1444f249-e5f9-479f-8384-1b7ab442b365"
      },
      "source": [
        "stocks"
      ],
      "execution_count": 19,
      "outputs": [
        {
          "output_type": "execute_result",
          "data": {
            "text/html": [
              "<div>\n",
              "<style scoped>\n",
              "    .dataframe tbody tr th:only-of-type {\n",
              "        vertical-align: middle;\n",
              "    }\n",
              "\n",
              "    .dataframe tbody tr th {\n",
              "        vertical-align: top;\n",
              "    }\n",
              "\n",
              "    .dataframe thead th {\n",
              "        text-align: right;\n",
              "    }\n",
              "</style>\n",
              "<table border=\"1\" class=\"dataframe\">\n",
              "  <thead>\n",
              "    <tr style=\"text-align: right;\">\n",
              "      <th></th>\n",
              "      <th>date</th>\n",
              "      <th>symbol</th>\n",
              "      <th>open</th>\n",
              "      <th>high</th>\n",
              "      <th>low</th>\n",
              "      <th>close</th>\n",
              "      <th>volume</th>\n",
              "    </tr>\n",
              "  </thead>\n",
              "  <tbody>\n",
              "    <tr>\n",
              "      <th>0</th>\n",
              "      <td>2019-03-01</td>\n",
              "      <td>AMZN</td>\n",
              "      <td>1655.13</td>\n",
              "      <td>1674.26</td>\n",
              "      <td>1651.00</td>\n",
              "      <td>1671.73</td>\n",
              "      <td>4974877</td>\n",
              "    </tr>\n",
              "    <tr>\n",
              "      <th>1</th>\n",
              "      <td>2019-03-04</td>\n",
              "      <td>AMZN</td>\n",
              "      <td>1685.00</td>\n",
              "      <td>1709.43</td>\n",
              "      <td>1674.36</td>\n",
              "      <td>1696.17</td>\n",
              "      <td>6167358</td>\n",
              "    </tr>\n",
              "    <tr>\n",
              "      <th>2</th>\n",
              "      <td>2019-03-05</td>\n",
              "      <td>AMZN</td>\n",
              "      <td>1702.95</td>\n",
              "      <td>1707.80</td>\n",
              "      <td>1689.01</td>\n",
              "      <td>1692.43</td>\n",
              "      <td>3681522</td>\n",
              "    </tr>\n",
              "    <tr>\n",
              "      <th>3</th>\n",
              "      <td>2019-03-06</td>\n",
              "      <td>AMZN</td>\n",
              "      <td>1695.97</td>\n",
              "      <td>1697.75</td>\n",
              "      <td>1668.28</td>\n",
              "      <td>1668.95</td>\n",
              "      <td>3996001</td>\n",
              "    </tr>\n",
              "    <tr>\n",
              "      <th>4</th>\n",
              "      <td>2019-03-07</td>\n",
              "      <td>AMZN</td>\n",
              "      <td>1667.37</td>\n",
              "      <td>1669.75</td>\n",
              "      <td>1620.51</td>\n",
              "      <td>1625.95</td>\n",
              "      <td>4957017</td>\n",
              "    </tr>\n",
              "    <tr>\n",
              "      <th>5</th>\n",
              "      <td>2019-03-01</td>\n",
              "      <td>AAPL</td>\n",
              "      <td>174.28</td>\n",
              "      <td>175.15</td>\n",
              "      <td>172.89</td>\n",
              "      <td>174.97</td>\n",
              "      <td>25886167</td>\n",
              "    </tr>\n",
              "    <tr>\n",
              "      <th>6</th>\n",
              "      <td>2019-03-04</td>\n",
              "      <td>AAPL</td>\n",
              "      <td>175.69</td>\n",
              "      <td>177.75</td>\n",
              "      <td>173.97</td>\n",
              "      <td>175.85</td>\n",
              "      <td>27436203</td>\n",
              "    </tr>\n",
              "    <tr>\n",
              "      <th>7</th>\n",
              "      <td>2019-03-05</td>\n",
              "      <td>AAPL</td>\n",
              "      <td>175.94</td>\n",
              "      <td>176.00</td>\n",
              "      <td>174.54</td>\n",
              "      <td>175.53</td>\n",
              "      <td>19737419</td>\n",
              "    </tr>\n",
              "    <tr>\n",
              "      <th>8</th>\n",
              "      <td>2019-03-06</td>\n",
              "      <td>AAPL</td>\n",
              "      <td>174.67</td>\n",
              "      <td>175.49</td>\n",
              "      <td>173.94</td>\n",
              "      <td>174.52</td>\n",
              "      <td>20810384</td>\n",
              "    </tr>\n",
              "    <tr>\n",
              "      <th>9</th>\n",
              "      <td>2019-03-07</td>\n",
              "      <td>AAPL</td>\n",
              "      <td>173.87</td>\n",
              "      <td>174.44</td>\n",
              "      <td>172.02</td>\n",
              "      <td>172.50</td>\n",
              "      <td>24796374</td>\n",
              "    </tr>\n",
              "    <tr>\n",
              "      <th>10</th>\n",
              "      <td>2019-03-01</td>\n",
              "      <td>GOOG</td>\n",
              "      <td>1124.90</td>\n",
              "      <td>1142.97</td>\n",
              "      <td>1124.75</td>\n",
              "      <td>1140.99</td>\n",
              "      <td>1450316</td>\n",
              "    </tr>\n",
              "    <tr>\n",
              "      <th>11</th>\n",
              "      <td>2019-03-04</td>\n",
              "      <td>GOOG</td>\n",
              "      <td>1146.99</td>\n",
              "      <td>1158.28</td>\n",
              "      <td>1130.69</td>\n",
              "      <td>1147.80</td>\n",
              "      <td>1446047</td>\n",
              "    </tr>\n",
              "    <tr>\n",
              "      <th>12</th>\n",
              "      <td>2019-03-05</td>\n",
              "      <td>GOOG</td>\n",
              "      <td>1150.06</td>\n",
              "      <td>1169.61</td>\n",
              "      <td>1146.19</td>\n",
              "      <td>1162.03</td>\n",
              "      <td>1443174</td>\n",
              "    </tr>\n",
              "    <tr>\n",
              "      <th>13</th>\n",
              "      <td>2019-03-06</td>\n",
              "      <td>GOOG</td>\n",
              "      <td>1162.49</td>\n",
              "      <td>1167.57</td>\n",
              "      <td>1155.49</td>\n",
              "      <td>1157.86</td>\n",
              "      <td>1099289</td>\n",
              "    </tr>\n",
              "    <tr>\n",
              "      <th>14</th>\n",
              "      <td>2019-03-07</td>\n",
              "      <td>GOOG</td>\n",
              "      <td>1155.72</td>\n",
              "      <td>1156.76</td>\n",
              "      <td>1134.91</td>\n",
              "      <td>1143.30</td>\n",
              "      <td>1166559</td>\n",
              "    </tr>\n",
              "  </tbody>\n",
              "</table>\n",
              "</div>"
            ],
            "text/plain": [
              "          date symbol     open     high      low    close    volume\n",
              "0   2019-03-01   AMZN  1655.13  1674.26  1651.00  1671.73   4974877\n",
              "1   2019-03-04   AMZN  1685.00  1709.43  1674.36  1696.17   6167358\n",
              "2   2019-03-05   AMZN  1702.95  1707.80  1689.01  1692.43   3681522\n",
              "3   2019-03-06   AMZN  1695.97  1697.75  1668.28  1668.95   3996001\n",
              "4   2019-03-07   AMZN  1667.37  1669.75  1620.51  1625.95   4957017\n",
              "5   2019-03-01   AAPL   174.28   175.15   172.89   174.97  25886167\n",
              "6   2019-03-04   AAPL   175.69   177.75   173.97   175.85  27436203\n",
              "7   2019-03-05   AAPL   175.94   176.00   174.54   175.53  19737419\n",
              "8   2019-03-06   AAPL   174.67   175.49   173.94   174.52  20810384\n",
              "9   2019-03-07   AAPL   173.87   174.44   172.02   172.50  24796374\n",
              "10  2019-03-01   GOOG  1124.90  1142.97  1124.75  1140.99   1450316\n",
              "11  2019-03-04   GOOG  1146.99  1158.28  1130.69  1147.80   1446047\n",
              "12  2019-03-05   GOOG  1150.06  1169.61  1146.19  1162.03   1443174\n",
              "13  2019-03-06   GOOG  1162.49  1167.57  1155.49  1157.86   1099289\n",
              "14  2019-03-07   GOOG  1155.72  1156.76  1134.91  1143.30   1166559"
            ]
          },
          "metadata": {
            "tags": []
          },
          "execution_count": 19
        }
      ]
    },
    {
      "cell_type": "code",
      "metadata": {
        "colab": {
          "base_uri": "https://localhost:8080/",
          "height": 166
        },
        "id": "5n25vT0QPGgc",
        "outputId": "9d2ae42c-b44d-41aa-83f1-a0038dc70185"
      },
      "source": [
        "stocks.pivot(index='symbol', columns='date', values='volume')"
      ],
      "execution_count": 20,
      "outputs": [
        {
          "output_type": "execute_result",
          "data": {
            "text/html": [
              "<div>\n",
              "<style scoped>\n",
              "    .dataframe tbody tr th:only-of-type {\n",
              "        vertical-align: middle;\n",
              "    }\n",
              "\n",
              "    .dataframe tbody tr th {\n",
              "        vertical-align: top;\n",
              "    }\n",
              "\n",
              "    .dataframe thead th {\n",
              "        text-align: right;\n",
              "    }\n",
              "</style>\n",
              "<table border=\"1\" class=\"dataframe\">\n",
              "  <thead>\n",
              "    <tr style=\"text-align: right;\">\n",
              "      <th>date</th>\n",
              "      <th>2019-03-01</th>\n",
              "      <th>2019-03-04</th>\n",
              "      <th>2019-03-05</th>\n",
              "      <th>2019-03-06</th>\n",
              "      <th>2019-03-07</th>\n",
              "    </tr>\n",
              "    <tr>\n",
              "      <th>symbol</th>\n",
              "      <th></th>\n",
              "      <th></th>\n",
              "      <th></th>\n",
              "      <th></th>\n",
              "      <th></th>\n",
              "    </tr>\n",
              "  </thead>\n",
              "  <tbody>\n",
              "    <tr>\n",
              "      <th>AAPL</th>\n",
              "      <td>25886167</td>\n",
              "      <td>27436203</td>\n",
              "      <td>19737419</td>\n",
              "      <td>20810384</td>\n",
              "      <td>24796374</td>\n",
              "    </tr>\n",
              "    <tr>\n",
              "      <th>AMZN</th>\n",
              "      <td>4974877</td>\n",
              "      <td>6167358</td>\n",
              "      <td>3681522</td>\n",
              "      <td>3996001</td>\n",
              "      <td>4957017</td>\n",
              "    </tr>\n",
              "    <tr>\n",
              "      <th>GOOG</th>\n",
              "      <td>1450316</td>\n",
              "      <td>1446047</td>\n",
              "      <td>1443174</td>\n",
              "      <td>1099289</td>\n",
              "      <td>1166559</td>\n",
              "    </tr>\n",
              "  </tbody>\n",
              "</table>\n",
              "</div>"
            ],
            "text/plain": [
              "date    2019-03-01  2019-03-04  2019-03-05  2019-03-06  2019-03-07\n",
              "symbol                                                            \n",
              "AAPL      25886167    27436203    19737419    20810384    24796374\n",
              "AMZN       4974877     6167358     3681522     3996001     4957017\n",
              "GOOG       1450316     1446047     1443174     1099289     1166559"
            ]
          },
          "metadata": {
            "tags": []
          },
          "execution_count": 20
        }
      ]
    },
    {
      "cell_type": "code",
      "metadata": {
        "colab": {
          "base_uri": "https://localhost:8080/",
          "height": 166
        },
        "id": "C8216DNXXLNQ",
        "outputId": "f3df75d1-efda-4e8e-f28d-ffbdc53c3b4b"
      },
      "source": [
        "stocks.pivot_table(index='symbol', values='volume', aggfunc=np.sum)"
      ],
      "execution_count": 21,
      "outputs": [
        {
          "output_type": "execute_result",
          "data": {
            "text/html": [
              "<div>\n",
              "<style scoped>\n",
              "    .dataframe tbody tr th:only-of-type {\n",
              "        vertical-align: middle;\n",
              "    }\n",
              "\n",
              "    .dataframe tbody tr th {\n",
              "        vertical-align: top;\n",
              "    }\n",
              "\n",
              "    .dataframe thead th {\n",
              "        text-align: right;\n",
              "    }\n",
              "</style>\n",
              "<table border=\"1\" class=\"dataframe\">\n",
              "  <thead>\n",
              "    <tr style=\"text-align: right;\">\n",
              "      <th></th>\n",
              "      <th>volume</th>\n",
              "    </tr>\n",
              "    <tr>\n",
              "      <th>symbol</th>\n",
              "      <th></th>\n",
              "    </tr>\n",
              "  </thead>\n",
              "  <tbody>\n",
              "    <tr>\n",
              "      <th>AAPL</th>\n",
              "      <td>118666547</td>\n",
              "    </tr>\n",
              "    <tr>\n",
              "      <th>AMZN</th>\n",
              "      <td>23776775</td>\n",
              "    </tr>\n",
              "    <tr>\n",
              "      <th>GOOG</th>\n",
              "      <td>6605385</td>\n",
              "    </tr>\n",
              "  </tbody>\n",
              "</table>\n",
              "</div>"
            ],
            "text/plain": [
              "           volume\n",
              "symbol           \n",
              "AAPL    118666547\n",
              "AMZN     23776775\n",
              "GOOG      6605385"
            ]
          },
          "metadata": {
            "tags": []
          },
          "execution_count": 21
        }
      ]
    },
    {
      "cell_type": "code",
      "metadata": {
        "colab": {
          "base_uri": "https://localhost:8080/",
          "height": 166
        },
        "id": "KaLC5asdYtsu",
        "outputId": "4f87124c-c7d7-4e80-806d-175aa1e243e2"
      },
      "source": [
        "stocks.pivot_table(index='symbol', values=['open','close','volume'], aggfunc=np.sum)"
      ],
      "execution_count": 22,
      "outputs": [
        {
          "output_type": "execute_result",
          "data": {
            "text/html": [
              "<div>\n",
              "<style scoped>\n",
              "    .dataframe tbody tr th:only-of-type {\n",
              "        vertical-align: middle;\n",
              "    }\n",
              "\n",
              "    .dataframe tbody tr th {\n",
              "        vertical-align: top;\n",
              "    }\n",
              "\n",
              "    .dataframe thead th {\n",
              "        text-align: right;\n",
              "    }\n",
              "</style>\n",
              "<table border=\"1\" class=\"dataframe\">\n",
              "  <thead>\n",
              "    <tr style=\"text-align: right;\">\n",
              "      <th></th>\n",
              "      <th>close</th>\n",
              "      <th>open</th>\n",
              "      <th>volume</th>\n",
              "    </tr>\n",
              "    <tr>\n",
              "      <th>symbol</th>\n",
              "      <th></th>\n",
              "      <th></th>\n",
              "      <th></th>\n",
              "    </tr>\n",
              "  </thead>\n",
              "  <tbody>\n",
              "    <tr>\n",
              "      <th>AAPL</th>\n",
              "      <td>873.37</td>\n",
              "      <td>874.45</td>\n",
              "      <td>118666547</td>\n",
              "    </tr>\n",
              "    <tr>\n",
              "      <th>AMZN</th>\n",
              "      <td>8355.23</td>\n",
              "      <td>8406.42</td>\n",
              "      <td>23776775</td>\n",
              "    </tr>\n",
              "    <tr>\n",
              "      <th>GOOG</th>\n",
              "      <td>5751.98</td>\n",
              "      <td>5740.16</td>\n",
              "      <td>6605385</td>\n",
              "    </tr>\n",
              "  </tbody>\n",
              "</table>\n",
              "</div>"
            ],
            "text/plain": [
              "          close     open     volume\n",
              "symbol                             \n",
              "AAPL     873.37   874.45  118666547\n",
              "AMZN    8355.23  8406.42   23776775\n",
              "GOOG    5751.98  5740.16    6605385"
            ]
          },
          "metadata": {
            "tags": []
          },
          "execution_count": 22
        }
      ]
    },
    {
      "cell_type": "code",
      "metadata": {
        "colab": {
          "base_uri": "https://localhost:8080/",
          "height": 506
        },
        "id": "9lDQc82wZOBu",
        "outputId": "306b651d-9547-4583-89b3-e8e52b1cbbc6"
      },
      "source": [
        "f, axs = plt.subplots(figsize=(12,8))\n",
        "sns.kdeplot(data=stocks, x='volume', hue='symbol', multiple='stack', ax=axs)"
      ],
      "execution_count": 23,
      "outputs": [
        {
          "output_type": "execute_result",
          "data": {
            "text/plain": [
              "<matplotlib.axes._subplots.AxesSubplot at 0x7fd93d35ac18>"
            ]
          },
          "metadata": {
            "tags": []
          },
          "execution_count": 23
        },
        {
          "output_type": "display_data",
          "data": {
            "image/png": "[encoded data removed]",
            "text/plain": [
              "<Figure size 864x576 with 1 Axes>"
            ]
          },
          "metadata": {
            "tags": [],
            "needs_background": "light"
          }
        }
      ]
    },
    {
      "cell_type": "code",
      "metadata": {
        "colab": {
          "base_uri": "https://localhost:8080/",
          "height": 483
        },
        "id": "oH3lo_5hZzBm",
        "outputId": "e5b33b4c-07f1-4b4d-9e8f-ef19d29f7cfd"
      },
      "source": [
        "f, axs = plt.subplots(figsize=(12,8))\n",
        "sns.scatterplot(data=stocks, x='volume', y='open',hue='symbol',ax=axs)"
      ],
      "execution_count": 24,
      "outputs": [
        {
          "output_type": "execute_result",
          "data": {
            "text/plain": [
              "<matplotlib.axes._subplots.AxesSubplot at 0x7fd93dc67be0>"
            ]
          },
          "metadata": {
            "tags": []
          },
          "execution_count": 24
        },
        {
          "output_type": "display_data",
          "data": {
            "image/png": "[encoded data removed]",
            "text/plain": [
              "<Figure size 864x576 with 1 Axes>"
            ]
          },
          "metadata": {
            "tags": [],
            "needs_background": "light"
          }
        }
      ]
    },
    {
      "cell_type": "code",
      "metadata": {
        "colab": {
          "base_uri": "https://localhost:8080/",
          "height": 627
        },
        "id": "GvUHO82tbx-k",
        "outputId": "286e4381-957b-4782-aaec-662fc643c913"
      },
      "source": [
        "part_b = pd.read_excel('/content/sample_data/Assignment Part B data (1).xlsx')\n",
        "part_b"
      ],
      "execution_count": 25,
      "outputs": [
        {
          "output_type": "execute_result",
          "data": {
            "text/html": [
              "<div>\n",
              "<style scoped>\n",
              "    .dataframe tbody tr th:only-of-type {\n",
              "        vertical-align: middle;\n",
              "    }\n",
              "\n",
              "    .dataframe tbody tr th {\n",
              "        vertical-align: top;\n",
              "    }\n",
              "\n",
              "    .dataframe thead th {\n",
              "        text-align: right;\n",
              "    }\n",
              "</style>\n",
              "<table border=\"1\" class=\"dataframe\">\n",
              "  <thead>\n",
              "    <tr style=\"text-align: right;\">\n",
              "      <th></th>\n",
              "      <th>Date</th>\n",
              "      <th>United States: S&amp;P 500 (%)</th>\n",
              "      <th>Japan: TOPIX (%)</th>\n",
              "      <th>HongKong: HIS (%)</th>\n",
              "      <th>New Zealand: NZSE50 (%)</th>\n",
              "      <th>South Korea: Composite (%)</th>\n",
              "      <th>Australia: S&amp;P/ASX 200 (%)</th>\n",
              "    </tr>\n",
              "  </thead>\n",
              "  <tbody>\n",
              "    <tr>\n",
              "      <th>0</th>\n",
              "      <td>2000-01-01</td>\n",
              "      <td>-5.079793</td>\n",
              "      <td>-0.805639</td>\n",
              "      <td>-8.429144</td>\n",
              "      <td>-6.866485</td>\n",
              "      <td>-8.192282</td>\n",
              "      <td>-1.786439</td>\n",
              "    </tr>\n",
              "    <tr>\n",
              "      <th>1</th>\n",
              "      <td>2000-02-01</td>\n",
              "      <td>-2.012787</td>\n",
              "      <td>0.609137</td>\n",
              "      <td>10.539942</td>\n",
              "      <td>-2.867174</td>\n",
              "      <td>-12.241888</td>\n",
              "      <td>1.281521</td>\n",
              "    </tr>\n",
              "    <tr>\n",
              "      <th>2</th>\n",
              "      <td>2000-03-01</td>\n",
              "      <td>9.666506</td>\n",
              "      <td>-0.706357</td>\n",
              "      <td>1.380940</td>\n",
              "      <td>2.891566</td>\n",
              "      <td>3.949580</td>\n",
              "      <td>-0.081633</td>\n",
              "    </tr>\n",
              "    <tr>\n",
              "      <th>3</th>\n",
              "      <td>2000-04-01</td>\n",
              "      <td>-3.085059</td>\n",
              "      <td>-3.353659</td>\n",
              "      <td>-10.842128</td>\n",
              "      <td>-1.873536</td>\n",
              "      <td>-15.763945</td>\n",
              "      <td>-0.571895</td>\n",
              "    </tr>\n",
              "    <tr>\n",
              "      <th>4</th>\n",
              "      <td>2000-05-01</td>\n",
              "      <td>-2.182810</td>\n",
              "      <td>-7.676130</td>\n",
              "      <td>-5.189921</td>\n",
              "      <td>-0.656325</td>\n",
              "      <td>0.863724</td>\n",
              "      <td>-1.109285</td>\n",
              "    </tr>\n",
              "    <tr>\n",
              "      <th>...</th>\n",
              "      <td>...</td>\n",
              "      <td>...</td>\n",
              "      <td>...</td>\n",
              "      <td>...</td>\n",
              "      <td>...</td>\n",
              "      <td>...</td>\n",
              "      <td>...</td>\n",
              "    </tr>\n",
              "    <tr>\n",
              "      <th>244</th>\n",
              "      <td>2020-05-01</td>\n",
              "      <td>4.523810</td>\n",
              "      <td>6.872038</td>\n",
              "      <td>-6.825788</td>\n",
              "      <td>3.321879</td>\n",
              "      <td>4.217298</td>\n",
              "      <td>4.217845</td>\n",
              "    </tr>\n",
              "    <tr>\n",
              "      <th>245</th>\n",
              "      <td>2020-06-01</td>\n",
              "      <td>1.844018</td>\n",
              "      <td>-0.332594</td>\n",
              "      <td>6.383384</td>\n",
              "      <td>5.230800</td>\n",
              "      <td>3.875171</td>\n",
              "      <td>2.468312</td>\n",
              "    </tr>\n",
              "    <tr>\n",
              "      <th>246</th>\n",
              "      <td>2020-07-01</td>\n",
              "      <td>5.506444</td>\n",
              "      <td>-4.004449</td>\n",
              "      <td>0.688414</td>\n",
              "      <td>2.413562</td>\n",
              "      <td>6.668868</td>\n",
              "      <td>0.520833</td>\n",
              "    </tr>\n",
              "    <tr>\n",
              "      <th>247</th>\n",
              "      <td>2020-08-01</td>\n",
              "      <td>7.005855</td>\n",
              "      <td>8.111240</td>\n",
              "      <td>2.365086</td>\n",
              "      <td>1.786215</td>\n",
              "      <td>3.435469</td>\n",
              "      <td>2.223661</td>\n",
              "    </tr>\n",
              "    <tr>\n",
              "      <th>248</th>\n",
              "      <td>2020-09-01</td>\n",
              "      <td>-3.924528</td>\n",
              "      <td>0.535906</td>\n",
              "      <td>-6.823675</td>\n",
              "      <td>-1.589489</td>\n",
              "      <td>0.059844</td>\n",
              "      <td>-4.033791</td>\n",
              "    </tr>\n",
              "  </tbody>\n",
              "</table>\n",
              "<p>249 rows × 7 columns</p>\n",
              "</div>"
            ],
            "text/plain": [
              "          Date  ...  Australia: S&P/ASX 200 (%)\n",
              "0   2000-01-01  ...                   -1.786439\n",
              "1   2000-02-01  ...                    1.281521\n",
              "2   2000-03-01  ...                   -0.081633\n",
              "3   2000-04-01  ...                   -0.571895\n",
              "4   2000-05-01  ...                   -1.109285\n",
              "..         ...  ...                         ...\n",
              "244 2020-05-01  ...                    4.217845\n",
              "245 2020-06-01  ...                    2.468312\n",
              "246 2020-07-01  ...                    0.520833\n",
              "247 2020-08-01  ...                    2.223661\n",
              "248 2020-09-01  ...                   -4.033791\n",
              "\n",
              "[249 rows x 7 columns]"
            ]
          },
          "metadata": {
            "tags": []
          },
          "execution_count": 25
        }
      ]
    },
    {
      "cell_type": "code",
      "metadata": {
        "colab": {
          "base_uri": "https://localhost:8080/",
          "height": 627
        },
        "id": "YyK1hfrhE-eU",
        "outputId": "81224929-dbcf-4ef9-d427-19741e91543e"
      },
      "source": [
        "part_b_clean = part_b.dropna()\n",
        "part_b_clean"
      ],
      "execution_count": 26,
      "outputs": [
        {
          "output_type": "execute_result",
          "data": {
            "text/html": [
              "<div>\n",
              "<style scoped>\n",
              "    .dataframe tbody tr th:only-of-type {\n",
              "        vertical-align: middle;\n",
              "    }\n",
              "\n",
              "    .dataframe tbody tr th {\n",
              "        vertical-align: top;\n",
              "    }\n",
              "\n",
              "    .dataframe thead th {\n",
              "        text-align: right;\n",
              "    }\n",
              "</style>\n",
              "<table border=\"1\" class=\"dataframe\">\n",
              "  <thead>\n",
              "    <tr style=\"text-align: right;\">\n",
              "      <th></th>\n",
              "      <th>Date</th>\n",
              "      <th>United States: S&amp;P 500 (%)</th>\n",
              "      <th>Japan: TOPIX (%)</th>\n",
              "      <th>HongKong: HIS (%)</th>\n",
              "      <th>New Zealand: NZSE50 (%)</th>\n",
              "      <th>South Korea: Composite (%)</th>\n",
              "      <th>Australia: S&amp;P/ASX 200 (%)</th>\n",
              "    </tr>\n",
              "  </thead>\n",
              "  <tbody>\n",
              "    <tr>\n",
              "      <th>0</th>\n",
              "      <td>2000-01-01</td>\n",
              "      <td>-5.079793</td>\n",
              "      <td>-0.805639</td>\n",
              "      <td>-8.429144</td>\n",
              "      <td>-6.866485</td>\n",
              "      <td>-8.192282</td>\n",
              "      <td>-1.786439</td>\n",
              "    </tr>\n",
              "    <tr>\n",
              "      <th>1</th>\n",
              "      <td>2000-02-01</td>\n",
              "      <td>-2.012787</td>\n",
              "      <td>0.609137</td>\n",
              "      <td>10.539942</td>\n",
              "      <td>-2.867174</td>\n",
              "      <td>-12.241888</td>\n",
              "      <td>1.281521</td>\n",
              "    </tr>\n",
              "    <tr>\n",
              "      <th>2</th>\n",
              "      <td>2000-03-01</td>\n",
              "      <td>9.666506</td>\n",
              "      <td>-0.706357</td>\n",
              "      <td>1.380940</td>\n",
              "      <td>2.891566</td>\n",
              "      <td>3.949580</td>\n",
              "      <td>-0.081633</td>\n",
              "    </tr>\n",
              "    <tr>\n",
              "      <th>3</th>\n",
              "      <td>2000-04-01</td>\n",
              "      <td>-3.085059</td>\n",
              "      <td>-3.353659</td>\n",
              "      <td>-10.842128</td>\n",
              "      <td>-1.873536</td>\n",
              "      <td>-15.763945</td>\n",
              "      <td>-0.571895</td>\n",
              "    </tr>\n",
              "    <tr>\n",
              "      <th>4</th>\n",
              "      <td>2000-05-01</td>\n",
              "      <td>-2.182810</td>\n",
              "      <td>-7.676130</td>\n",
              "      <td>-5.189921</td>\n",
              "      <td>-0.656325</td>\n",
              "      <td>0.863724</td>\n",
              "      <td>-1.109285</td>\n",
              "    </tr>\n",
              "    <tr>\n",
              "      <th>...</th>\n",
              "      <td>...</td>\n",
              "      <td>...</td>\n",
              "      <td>...</td>\n",
              "      <td>...</td>\n",
              "      <td>...</td>\n",
              "      <td>...</td>\n",
              "      <td>...</td>\n",
              "    </tr>\n",
              "    <tr>\n",
              "      <th>244</th>\n",
              "      <td>2020-05-01</td>\n",
              "      <td>4.523810</td>\n",
              "      <td>6.872038</td>\n",
              "      <td>-6.825788</td>\n",
              "      <td>3.321879</td>\n",
              "      <td>4.217298</td>\n",
              "      <td>4.217845</td>\n",
              "    </tr>\n",
              "    <tr>\n",
              "      <th>245</th>\n",
              "      <td>2020-06-01</td>\n",
              "      <td>1.844018</td>\n",
              "      <td>-0.332594</td>\n",
              "      <td>6.383384</td>\n",
              "      <td>5.230800</td>\n",
              "      <td>3.875171</td>\n",
              "      <td>2.468312</td>\n",
              "    </tr>\n",
              "    <tr>\n",
              "      <th>246</th>\n",
              "      <td>2020-07-01</td>\n",
              "      <td>5.506444</td>\n",
              "      <td>-4.004449</td>\n",
              "      <td>0.688414</td>\n",
              "      <td>2.413562</td>\n",
              "      <td>6.668868</td>\n",
              "      <td>0.520833</td>\n",
              "    </tr>\n",
              "    <tr>\n",
              "      <th>247</th>\n",
              "      <td>2020-08-01</td>\n",
              "      <td>7.005855</td>\n",
              "      <td>8.111240</td>\n",
              "      <td>2.365086</td>\n",
              "      <td>1.786215</td>\n",
              "      <td>3.435469</td>\n",
              "      <td>2.223661</td>\n",
              "    </tr>\n",
              "    <tr>\n",
              "      <th>248</th>\n",
              "      <td>2020-09-01</td>\n",
              "      <td>-3.924528</td>\n",
              "      <td>0.535906</td>\n",
              "      <td>-6.823675</td>\n",
              "      <td>-1.589489</td>\n",
              "      <td>0.059844</td>\n",
              "      <td>-4.033791</td>\n",
              "    </tr>\n",
              "  </tbody>\n",
              "</table>\n",
              "<p>244 rows × 7 columns</p>\n",
              "</div>"
            ],
            "text/plain": [
              "          Date  ...  Australia: S&P/ASX 200 (%)\n",
              "0   2000-01-01  ...                   -1.786439\n",
              "1   2000-02-01  ...                    1.281521\n",
              "2   2000-03-01  ...                   -0.081633\n",
              "3   2000-04-01  ...                   -0.571895\n",
              "4   2000-05-01  ...                   -1.109285\n",
              "..         ...  ...                         ...\n",
              "244 2020-05-01  ...                    4.217845\n",
              "245 2020-06-01  ...                    2.468312\n",
              "246 2020-07-01  ...                    0.520833\n",
              "247 2020-08-01  ...                    2.223661\n",
              "248 2020-09-01  ...                   -4.033791\n",
              "\n",
              "[244 rows x 7 columns]"
            ]
          },
          "metadata": {
            "tags": []
          },
          "execution_count": 26
        }
      ]
    },
    {
      "cell_type": "code",
      "metadata": {
        "colab": {
          "base_uri": "https://localhost:8080/"
        },
        "id": "4KyYh2-YJnKB",
        "outputId": "97d0deaf-fc35-4466-bbbc-a818805d9ea3"
      },
      "source": [
        "part_b_clean.columns"
      ],
      "execution_count": 29,
      "outputs": [
        {
          "output_type": "execute_result",
          "data": {
            "text/plain": [
              "Index(['Date', 'United States: S&P 500 (%)', 'Japan: TOPIX (%)',\n",
              "       'HongKong: HIS (%)', 'New Zealand: NZSE50 (%)',\n",
              "       'South Korea: Composite (%)', 'Australia: S&P/ASX 200 (%)'],\n",
              "      dtype='object')"
            ]
          },
          "metadata": {
            "tags": []
          },
          "execution_count": 29
        }
      ]
    },
    {
      "cell_type": "code",
      "metadata": {
        "colab": {
          "base_uri": "https://localhost:8080/",
          "height": 279
        },
        "id": "F678xp9gFSkP",
        "outputId": "bdffef81-686d-4d58-8045-a7655a8233e0"
      },
      "source": [
        "part_b_clean['United States: S&P 500 (%)'].hist(bins=100)"
      ],
      "execution_count": 46,
      "outputs": [
        {
          "output_type": "execute_result",
          "data": {
            "text/plain": [
              "<matplotlib.axes._subplots.AxesSubplot at 0x7fd93513fe80>"
            ]
          },
          "metadata": {
            "tags": []
          },
          "execution_count": 46
        },
        {
          "output_type": "display_data",
          "data": {
            "image/png": "[encoded data removed]",
            "text/plain": [
              "<Figure size 432x288 with 1 Axes>"
            ]
          },
          "metadata": {
            "tags": [],
            "needs_background": "light"
          }
        }
      ]
    },
    {
      "cell_type": "code",
      "metadata": {
        "colab": {
          "base_uri": "https://localhost:8080/",
          "height": 279
        },
        "id": "0HRift_hJQF8",
        "outputId": "368535d9-851e-4f8d-9e91-c6f87777130c"
      },
      "source": [
        "part_b_clean['Australia: S&P/ASX 200 (%)'].hist(bins=100)"
      ],
      "execution_count": 47,
      "outputs": [
        {
          "output_type": "execute_result",
          "data": {
            "text/plain": [
              "<matplotlib.axes._subplots.AxesSubplot at 0x7fd934f17b38>"
            ]
          },
          "metadata": {
            "tags": []
          },
          "execution_count": 47
        },
        {
          "output_type": "display_data",
          "data": {
            "image/png": "[encoded data removed]",
            "text/plain": [
              "<Figure size 432x288 with 1 Axes>"
            ]
          },
          "metadata": {
            "tags": [],
            "needs_background": "light"
          }
        }
      ]
    },
    {
      "cell_type": "code",
      "metadata": {
        "colab": {
          "base_uri": "https://localhost:8080/",
          "height": 279
        },
        "id": "F0-SJ4tIJ6cr",
        "outputId": "e88c8a63-523a-48c4-8803-4d9eab72c3c7"
      },
      "source": [
        "part_b_clean['Japan: TOPIX (%)'].hist(bins=100)"
      ],
      "execution_count": 48,
      "outputs": [
        {
          "output_type": "execute_result",
          "data": {
            "text/plain": [
              "<matplotlib.axes._subplots.AxesSubplot at 0x7fd934eaa978>"
            ]
          },
          "metadata": {
            "tags": []
          },
          "execution_count": 48
        },
        {
          "output_type": "display_data",
          "data": {
            "image/png": "[encoded data removed]",
            "text/plain": [
              "<Figure size 432x288 with 1 Axes>"
            ]
          },
          "metadata": {
            "tags": [],
            "needs_background": "light"
          }
        }
      ]
    },
    {
      "cell_type": "code",
      "metadata": {
        "colab": {
          "base_uri": "https://localhost:8080/",
          "height": 279
        },
        "id": "GSTdIHCVKZKB",
        "outputId": "7867526a-ccf3-48c0-f640-b2608c3a2537"
      },
      "source": [
        "part_b_clean['HongKong: HIS (%)'].hist(bins=100)"
      ],
      "execution_count": 49,
      "outputs": [
        {
          "output_type": "execute_result",
          "data": {
            "text/plain": [
              "<matplotlib.axes._subplots.AxesSubplot at 0x7fd934edff98>"
            ]
          },
          "metadata": {
            "tags": []
          },
          "execution_count": 49
        },
        {
          "output_type": "display_data",
          "data": {
            "image/png": "[encoded data removed]",
            "text/plain": [
              "<Figure size 432x288 with 1 Axes>"
            ]
          },
          "metadata": {
            "tags": [],
            "needs_background": "light"
          }
        }
      ]
    },
    {
      "cell_type": "code",
      "metadata": {
        "colab": {
          "base_uri": "https://localhost:8080/",
          "height": 279
        },
        "id": "2_BFylP3KiFt",
        "outputId": "51ef4ae4-80dc-475b-d793-7cfe545db5ea"
      },
      "source": [
        "part_b_clean['New Zealand: NZSE50 (%)'].hist(bins=100)"
      ],
      "execution_count": 52,
      "outputs": [
        {
          "output_type": "execute_result",
          "data": {
            "text/plain": [
              "<matplotlib.axes._subplots.AxesSubplot at 0x7fd93491ccc0>"
            ]
          },
          "metadata": {
            "tags": []
          },
          "execution_count": 52
        },
        {
          "output_type": "display_data",
          "data": {
            "image/png": "[encoded data removed]",
            "text/plain": [
              "<Figure size 432x288 with 1 Axes>"
            ]
          },
          "metadata": {
            "tags": [],
            "needs_background": "light"
          }
        }
      ]
    },
    {
      "cell_type": "code",
      "metadata": {
        "colab": {
          "base_uri": "https://localhost:8080/",
          "height": 279
        },
        "id": "afsoNZVsKprc",
        "outputId": "bb1f04a9-e582-4a83-84a0-b70ebacff529"
      },
      "source": [
        "part_b_clean['South Korea: Composite (%)'].hist(bins=100)"
      ],
      "execution_count": 51,
      "outputs": [
        {
          "output_type": "execute_result",
          "data": {
            "text/plain": [
              "<matplotlib.axes._subplots.AxesSubplot at 0x7fd93491c828>"
            ]
          },
          "metadata": {
            "tags": []
          },
          "execution_count": 51
        },
        {
          "output_type": "display_data",
          "data": {
            "image/png": "[encoded data removed]",
            "text/plain": [
              "<Figure size 432x288 with 1 Axes>"
            ]
          },
          "metadata": {
            "tags": [],
            "needs_background": "light"
          }
        }
      ]
    },
    {
      "cell_type": "code",
      "metadata": {
        "colab": {
          "base_uri": "https://localhost:8080/"
        },
        "id": "v63uSeqXqcsa",
        "outputId": "18db438f-f1ac-4862-d741-695f0b313e6e"
      },
      "source": [
        "part_b_clean['SP500 returns'] = part_b_clean['United States: S&P 500 (%)'].pct_change()\n",
        "part_b_clean['HongKong returns'] = part_b_clean['HongKong: HIS (%)'].pct_change()\n",
        "part_b_clean['NewZealand returns'] = part_b_clean['New Zealand: NZSE50 (%)'].pct_change()\n",
        "part_b_clean['SouthKorea returns'] = part_b_clean['South Korea: Composite (%)'].pct_change()\n",
        "part_b_clean['Australia returns'] = part_b_clean['Australia: S&P/ASX 200 (%)'].pct_change()\n",
        "part_b_clean['Japan returns'] = part_b_clean['Japan: TOPIX (%)'].pct_change()\n",
        "\n"
      ],
      "execution_count": 56,
      "outputs": [
        {
          "output_type": "stream",
          "text": [
            "/usr/local/lib/python3.6/dist-packages/ipykernel_launcher.py:1: SettingWithCopyWarning: \n",
            "A value is trying to be set on a copy of a slice from a DataFrame.\n",
            "Try using .loc[row_indexer,col_indexer] = value instead\n",
            "\n",
            "See the caveats in the documentation: https://pandas.pydata.org/pandas-docs/stable/user_guide/indexing.html#returning-a-view-versus-a-copy\n",
            "  \"\"\"Entry point for launching an IPython kernel.\n",
            "/usr/local/lib/python3.6/dist-packages/ipykernel_launcher.py:2: SettingWithCopyWarning: \n",
            "A value is trying to be set on a copy of a slice from a DataFrame.\n",
            "Try using .loc[row_indexer,col_indexer] = value instead\n",
            "\n",
            "See the caveats in the documentation: https://pandas.pydata.org/pandas-docs/stable/user_guide/indexing.html#returning-a-view-versus-a-copy\n",
            "  \n",
            "/usr/local/lib/python3.6/dist-packages/ipykernel_launcher.py:3: SettingWithCopyWarning: \n",
            "A value is trying to be set on a copy of a slice from a DataFrame.\n",
            "Try using .loc[row_indexer,col_indexer] = value instead\n",
            "\n",
            "See the caveats in the documentation: https://pandas.pydata.org/pandas-docs/stable/user_guide/indexing.html#returning-a-view-versus-a-copy\n",
            "  This is separate from the ipykernel package so we can avoid doing imports until\n",
            "/usr/local/lib/python3.6/dist-packages/ipykernel_launcher.py:4: SettingWithCopyWarning: \n",
            "A value is trying to be set on a copy of a slice from a DataFrame.\n",
            "Try using .loc[row_indexer,col_indexer] = value instead\n",
            "\n",
            "See the caveats in the documentation: https://pandas.pydata.org/pandas-docs/stable/user_guide/indexing.html#returning-a-view-versus-a-copy\n",
            "  after removing the cwd from sys.path.\n",
            "/usr/local/lib/python3.6/dist-packages/ipykernel_launcher.py:5: SettingWithCopyWarning: \n",
            "A value is trying to be set on a copy of a slice from a DataFrame.\n",
            "Try using .loc[row_indexer,col_indexer] = value instead\n",
            "\n",
            "See the caveats in the documentation: https://pandas.pydata.org/pandas-docs/stable/user_guide/indexing.html#returning-a-view-versus-a-copy\n",
            "  \"\"\"\n",
            "/usr/local/lib/python3.6/dist-packages/ipykernel_launcher.py:6: SettingWithCopyWarning: \n",
            "A value is trying to be set on a copy of a slice from a DataFrame.\n",
            "Try using .loc[row_indexer,col_indexer] = value instead\n",
            "\n",
            "See the caveats in the documentation: https://pandas.pydata.org/pandas-docs/stable/user_guide/indexing.html#returning-a-view-versus-a-copy\n",
            "  \n"
          ],
          "name": "stderr"
        }
      ]
    },
    {
      "cell_type": "code",
      "metadata": {
        "colab": {
          "base_uri": "https://localhost:8080/",
          "height": 647
        },
        "id": "mcWrLfJVw5xu",
        "outputId": "613e9683-935c-4dca-ca91-54210d579cc1"
      },
      "source": [
        "part_b_clean"
      ],
      "execution_count": 57,
      "outputs": [
        {
          "output_type": "execute_result",
          "data": {
            "text/html": [
              "<div>\n",
              "<style scoped>\n",
              "    .dataframe tbody tr th:only-of-type {\n",
              "        vertical-align: middle;\n",
              "    }\n",
              "\n",
              "    .dataframe tbody tr th {\n",
              "        vertical-align: top;\n",
              "    }\n",
              "\n",
              "    .dataframe thead th {\n",
              "        text-align: right;\n",
              "    }\n",
              "</style>\n",
              "<table border=\"1\" class=\"dataframe\">\n",
              "  <thead>\n",
              "    <tr style=\"text-align: right;\">\n",
              "      <th></th>\n",
              "      <th>Date</th>\n",
              "      <th>United States: S&amp;P 500 (%)</th>\n",
              "      <th>Japan: TOPIX (%)</th>\n",
              "      <th>HongKong: HIS (%)</th>\n",
              "      <th>New Zealand: NZSE50 (%)</th>\n",
              "      <th>South Korea: Composite (%)</th>\n",
              "      <th>Australia: S&amp;P/ASX 200 (%)</th>\n",
              "      <th>month</th>\n",
              "      <th>SP500 returns</th>\n",
              "      <th>HongKong returns</th>\n",
              "      <th>NewZealand returns</th>\n",
              "      <th>SouthKorea returns</th>\n",
              "      <th>Australia returns</th>\n",
              "      <th>Japan returns</th>\n",
              "    </tr>\n",
              "  </thead>\n",
              "  <tbody>\n",
              "    <tr>\n",
              "      <th>0</th>\n",
              "      <td>2000-01-01</td>\n",
              "      <td>-5.079793</td>\n",
              "      <td>-0.805639</td>\n",
              "      <td>-8.429144</td>\n",
              "      <td>-6.866485</td>\n",
              "      <td>-8.192282</td>\n",
              "      <td>-1.786439</td>\n",
              "      <td>2000-0</td>\n",
              "      <td>NaN</td>\n",
              "      <td>NaN</td>\n",
              "      <td>NaN</td>\n",
              "      <td>NaN</td>\n",
              "      <td>NaN</td>\n",
              "      <td>NaN</td>\n",
              "    </tr>\n",
              "    <tr>\n",
              "      <th>1</th>\n",
              "      <td>2000-02-01</td>\n",
              "      <td>-2.012787</td>\n",
              "      <td>0.609137</td>\n",
              "      <td>10.539942</td>\n",
              "      <td>-2.867174</td>\n",
              "      <td>-12.241888</td>\n",
              "      <td>1.281521</td>\n",
              "      <td>2000-0</td>\n",
              "      <td>-0.603766</td>\n",
              "      <td>-2.250417</td>\n",
              "      <td>-0.582439</td>\n",
              "      <td>0.494320</td>\n",
              "      <td>-1.717361</td>\n",
              "      <td>-1.756091</td>\n",
              "    </tr>\n",
              "    <tr>\n",
              "      <th>2</th>\n",
              "      <td>2000-03-01</td>\n",
              "      <td>9.666506</td>\n",
              "      <td>-0.706357</td>\n",
              "      <td>1.380940</td>\n",
              "      <td>2.891566</td>\n",
              "      <td>3.949580</td>\n",
              "      <td>-0.081633</td>\n",
              "      <td>2000-0</td>\n",
              "      <td>-5.802547</td>\n",
              "      <td>-0.868980</td>\n",
              "      <td>-2.008507</td>\n",
              "      <td>-1.322628</td>\n",
              "      <td>-1.063700</td>\n",
              "      <td>-2.159603</td>\n",
              "    </tr>\n",
              "    <tr>\n",
              "      <th>3</th>\n",
              "      <td>2000-04-01</td>\n",
              "      <td>-3.085059</td>\n",
              "      <td>-3.353659</td>\n",
              "      <td>-10.842128</td>\n",
              "      <td>-1.873536</td>\n",
              "      <td>-15.763945</td>\n",
              "      <td>-0.571895</td>\n",
              "      <td>2000-0</td>\n",
              "      <td>-1.319149</td>\n",
              "      <td>-8.851268</td>\n",
              "      <td>-1.647931</td>\n",
              "      <td>-4.991297</td>\n",
              "      <td>6.005719</td>\n",
              "      <td>3.747822</td>\n",
              "    </tr>\n",
              "    <tr>\n",
              "      <th>4</th>\n",
              "      <td>2000-05-01</td>\n",
              "      <td>-2.182810</td>\n",
              "      <td>-7.676130</td>\n",
              "      <td>-5.189921</td>\n",
              "      <td>-0.656325</td>\n",
              "      <td>0.863724</td>\n",
              "      <td>-1.109285</td>\n",
              "      <td>2000-0</td>\n",
              "      <td>-0.292458</td>\n",
              "      <td>-0.521319</td>\n",
              "      <td>-0.649687</td>\n",
              "      <td>-1.054791</td>\n",
              "      <td>0.939664</td>\n",
              "      <td>1.288883</td>\n",
              "    </tr>\n",
              "    <tr>\n",
              "      <th>...</th>\n",
              "      <td>...</td>\n",
              "      <td>...</td>\n",
              "      <td>...</td>\n",
              "      <td>...</td>\n",
              "      <td>...</td>\n",
              "      <td>...</td>\n",
              "      <td>...</td>\n",
              "      <td>...</td>\n",
              "      <td>...</td>\n",
              "      <td>...</td>\n",
              "      <td>...</td>\n",
              "      <td>...</td>\n",
              "      <td>...</td>\n",
              "      <td>...</td>\n",
              "    </tr>\n",
              "    <tr>\n",
              "      <th>244</th>\n",
              "      <td>2020-05-01</td>\n",
              "      <td>4.523810</td>\n",
              "      <td>6.872038</td>\n",
              "      <td>-6.825788</td>\n",
              "      <td>3.321879</td>\n",
              "      <td>4.217298</td>\n",
              "      <td>4.217845</td>\n",
              "      <td>2020-0</td>\n",
              "      <td>-0.643425</td>\n",
              "      <td>-2.548994</td>\n",
              "      <td>-0.557809</td>\n",
              "      <td>-0.616180</td>\n",
              "      <td>-0.519190</td>\n",
              "      <td>0.588422</td>\n",
              "    </tr>\n",
              "    <tr>\n",
              "      <th>245</th>\n",
              "      <td>2020-06-01</td>\n",
              "      <td>1.844018</td>\n",
              "      <td>-0.332594</td>\n",
              "      <td>6.383384</td>\n",
              "      <td>5.230800</td>\n",
              "      <td>3.875171</td>\n",
              "      <td>2.468312</td>\n",
              "      <td>2020-0</td>\n",
              "      <td>-0.592375</td>\n",
              "      <td>-1.935186</td>\n",
              "      <td>0.574651</td>\n",
              "      <td>-0.081125</td>\n",
              "      <td>-0.414793</td>\n",
              "      <td>-1.048398</td>\n",
              "    </tr>\n",
              "    <tr>\n",
              "      <th>246</th>\n",
              "      <td>2020-07-01</td>\n",
              "      <td>5.506444</td>\n",
              "      <td>-4.004449</td>\n",
              "      <td>0.688414</td>\n",
              "      <td>2.413562</td>\n",
              "      <td>6.668868</td>\n",
              "      <td>0.520833</td>\n",
              "      <td>2020-0</td>\n",
              "      <td>1.986112</td>\n",
              "      <td>-0.892155</td>\n",
              "      <td>-0.538586</td>\n",
              "      <td>0.720922</td>\n",
              "      <td>-0.788992</td>\n",
              "      <td>11.040044</td>\n",
              "    </tr>\n",
              "    <tr>\n",
              "      <th>247</th>\n",
              "      <td>2020-08-01</td>\n",
              "      <td>7.005855</td>\n",
              "      <td>8.111240</td>\n",
              "      <td>2.365086</td>\n",
              "      <td>1.786215</td>\n",
              "      <td>3.435469</td>\n",
              "      <td>2.223661</td>\n",
              "      <td>2020-0</td>\n",
              "      <td>0.272301</td>\n",
              "      <td>2.435558</td>\n",
              "      <td>-0.259926</td>\n",
              "      <td>-0.484850</td>\n",
              "      <td>3.269430</td>\n",
              "      <td>-3.025557</td>\n",
              "    </tr>\n",
              "    <tr>\n",
              "      <th>248</th>\n",
              "      <td>2020-09-01</td>\n",
              "      <td>-3.924528</td>\n",
              "      <td>0.535906</td>\n",
              "      <td>-6.823675</td>\n",
              "      <td>-1.589489</td>\n",
              "      <td>0.059844</td>\n",
              "      <td>-4.033791</td>\n",
              "      <td>2020-0</td>\n",
              "      <td>-1.560178</td>\n",
              "      <td>-3.885170</td>\n",
              "      <td>-1.889864</td>\n",
              "      <td>-0.982580</td>\n",
              "      <td>-2.814031</td>\n",
              "      <td>-0.933930</td>\n",
              "    </tr>\n",
              "  </tbody>\n",
              "</table>\n",
              "<p>244 rows × 14 columns</p>\n",
              "</div>"
            ],
            "text/plain": [
              "          Date  United States: S&P 500 (%)  ...  Australia returns  Japan returns\n",
              "0   2000-01-01                   -5.079793  ...                NaN            NaN\n",
              "1   2000-02-01                   -2.012787  ...          -1.717361      -1.756091\n",
              "2   2000-03-01                    9.666506  ...          -1.063700      -2.159603\n",
              "3   2000-04-01                   -3.085059  ...           6.005719       3.747822\n",
              "4   2000-05-01                   -2.182810  ...           0.939664       1.288883\n",
              "..         ...                         ...  ...                ...            ...\n",
              "244 2020-05-01                    4.523810  ...          -0.519190       0.588422\n",
              "245 2020-06-01                    1.844018  ...          -0.414793      -1.048398\n",
              "246 2020-07-01                    5.506444  ...          -0.788992      11.040044\n",
              "247 2020-08-01                    7.005855  ...           3.269430      -3.025557\n",
              "248 2020-09-01                   -3.924528  ...          -2.814031      -0.933930\n",
              "\n",
              "[244 rows x 14 columns]"
            ]
          },
          "metadata": {
            "tags": []
          },
          "execution_count": 57
        }
      ]
    },
    {
      "cell_type": "code",
      "metadata": {
        "id": "sGGHyfI10lM1",
        "outputId": "b22f8465-6617-44ac-b1b4-892b333e9a62",
        "colab": {
          "base_uri": "https://localhost:8080/",
          "height": 279
        }
      },
      "source": [
        "part_b_clean['SP500 returns'].hist(bins=100)"
      ],
      "execution_count": 58,
      "outputs": [
        {
          "output_type": "execute_result",
          "data": {
            "text/plain": [
              "<matplotlib.axes._subplots.AxesSubplot at 0x7fd9345fac50>"
            ]
          },
          "metadata": {
            "tags": []
          },
          "execution_count": 58
        },
        {
          "output_type": "display_data",
          "data": {
            "image/png": "[encoded data removed]",
            "text/plain": [
              "<Figure size 432x288 with 1 Axes>"
            ]
          },
          "metadata": {
            "tags": [],
            "needs_background": "light"
          }
        }
      ]
    },
    {
      "cell_type": "code",
      "metadata": {
        "id": "7QvV_ShbIihg",
        "outputId": "af0b9053-7f2d-40a4-d3b2-7b60f9db9ed9",
        "colab": {
          "base_uri": "https://localhost:8080/"
        }
      },
      "source": [
        "!pip install researchpy"
      ],
      "execution_count": 60,
      "outputs": [
        {
          "output_type": "stream",
          "text": [
            "Collecting researchpy\n",
            "  Downloading https://files.pythonhosted.org/packages/4b/a3/b16ea25a5416f7c35824b2fc3ee1cdc9f9d8ab6d9fc4119679504d43b8a8/researchpy-0.2.3-py3-none-any.whl\n",
            "Requirement already satisfied: pandas in /usr/local/lib/python3.6/dist-packages (from researchpy) (1.1.5)\n",
            "Requirement already satisfied: statsmodels in /usr/local/lib/python3.6/dist-packages (from researchpy) (0.10.2)\n",
            "Requirement already satisfied: scipy in /usr/local/lib/python3.6/dist-packages (from researchpy) (1.4.1)\n",
            "Requirement already satisfied: numpy in /usr/local/lib/python3.6/dist-packages (from researchpy) (1.19.5)\n",
            "Requirement already satisfied: python-dateutil>=2.7.3 in /usr/local/lib/python3.6/dist-packages (from pandas->researchpy) (2.8.1)\n",
            "Requirement already satisfied: pytz>=2017.2 in /usr/local/lib/python3.6/dist-packages (from pandas->researchpy) (2018.9)\n",
            "Requirement already satisfied: patsy>=0.4.0 in /usr/local/lib/python3.6/dist-packages (from statsmodels->researchpy) (0.5.1)\n",
            "Requirement already satisfied: six>=1.5 in /usr/local/lib/python3.6/dist-packages (from python-dateutil>=2.7.3->pandas->researchpy) (1.15.0)\n",
            "Installing collected packages: researchpy\n",
            "Successfully installed researchpy-0.2.3\n"
          ],
          "name": "stdout"
        }
      ]
    },
    {
      "cell_type": "code",
      "metadata": {
        "id": "J4B-XgaIBmvc",
        "outputId": "defe7555-b778-4bf3-9bfa-c03a380524b1",
        "colab": {
          "base_uri": "https://localhost:8080/"
        }
      },
      "source": [
        "import scipy.stats as stats\n",
        "import researchpy as rp\n",
        "\n",
        "summary, results = rp.ttest(group1 = part_b_clean['SP500 returns'],group2=part_b_clean['Japan returns'])\n",
        "print(summary)"
      ],
      "execution_count": 62,
      "outputs": [
        {
          "output_type": "stream",
          "text": [
            "        Variable      N      Mean         SD        SE  95% Conf.  Interval\n",
            "0  SP500 returns  243.0  0.129184  15.152650  0.972043  -1.785561  2.043929\n",
            "1  Japan returns  243.0 -1.082732   4.405191  0.282593  -1.639388 -0.526076\n",
            "2       combined  486.0 -0.476774  11.163131  0.506370  -1.471724  0.518175\n"
          ],
          "name": "stdout"
        }
      ]
    },
    {
      "cell_type": "code",
      "metadata": {
        "id": "bnpjwA20IfZg",
        "outputId": "ac0c044a-e708-48db-deea-3f5492c41f55",
        "colab": {
          "base_uri": "https://localhost:8080/"
        }
      },
      "source": [
        "print(results)"
      ],
      "execution_count": 63,
      "outputs": [
        {
          "output_type": "stream",
          "text": [
            "                              Independent t-test   results\n",
            "0  Difference (SP500 returns - Japan returns) =     1.2119\n",
            "1                          Degrees of freedom =   484.0000\n",
            "2                                           t =     1.1972\n",
            "3                       Two side test p value =     0.2318\n",
            "4                      Difference < 0 p value =     0.8841\n",
            "5                      Difference > 0 p value =     0.1159\n",
            "6                                   Cohen's d =     0.1086\n",
            "7                                   Hedge's g =     0.1084\n",
            "8                               Glass's delta =     0.0800\n",
            "9                                           r =     0.0543\n"
          ],
          "name": "stdout"
        }
      ]
    },
    {
      "cell_type": "code",
      "metadata": {
        "id": "mT4SYSPTJsKG"
      },
      "source": [
        "import statsmodels.api as sm \n",
        "from statsmodels.sandbox.regression.predstd import wls_prediction_std\n",
        "import numpy as np\n",
        "\n",
        "np.random.seed(9898789)"
      ],
      "execution_count": 66,
      "outputs": []
    },
    {
      "cell_type": "code",
      "metadata": {
        "id": "lQ8OF31wKgIE",
        "outputId": "393460e9-53f8-4ba7-f89d-888d899950fd",
        "colab": {
          "base_uri": "https://localhost:8080/"
        }
      },
      "source": [
        "moel = sm.OLS(part_b_clean['SP500 returns'].dropna(),part_b_clean['Japan returns'].dropna())\n",
        "results = moel.fit()\n",
        "print(results.summary())"
      ],
      "execution_count": 68,
      "outputs": [
        {
          "output_type": "stream",
          "text": [
            "                                 OLS Regression Results                                \n",
            "=======================================================================================\n",
            "Dep. Variable:          SP500 returns   R-squared (uncentered):                   0.002\n",
            "Model:                            OLS   Adj. R-squared (uncentered):             -0.002\n",
            "Method:                 Least Squares   F-statistic:                             0.5634\n",
            "Date:                Sat, 23 Jan 2021   Prob (F-statistic):                       0.454\n",
            "Time:                        21:39:02   Log-Likelihood:                         -1004.5\n",
            "No. Observations:                 243   AIC:                                      2011.\n",
            "Df Residuals:                     242   BIC:                                      2015.\n",
            "Df Model:                           1                                                  \n",
            "Covariance Type:            nonrobust                                                  \n",
            "=================================================================================\n",
            "                    coef    std err          t      P>|t|      [0.025      0.975]\n",
            "---------------------------------------------------------------------------------\n",
            "Japan returns    -0.1610      0.214     -0.751      0.454      -0.583       0.261\n",
            "==============================================================================\n",
            "Omnibus:                      450.783   Durbin-Watson:                   2.002\n",
            "Prob(Omnibus):                  0.000   Jarque-Bera (JB):           195942.241\n",
            "Skew:                          10.349   Prob(JB):                         0.00\n",
            "Kurtosis:                     140.564   Cond. No.                         1.00\n",
            "==============================================================================\n",
            "\n",
            "Warnings:\n",
            "[1] Standard Errors assume that the covariance matrix of the errors is correctly specified.\n"
          ],
          "name": "stdout"
        }
      ]
    },
    {
      "cell_type": "code",
      "metadata": {
        "id": "Lv7oM9-5L0ip",
        "outputId": "bcb54605-e516-4797-bf6c-9ef6e2e1a11c",
        "colab": {
          "base_uri": "https://localhost:8080/"
        }
      },
      "source": [
        "from scipy.stats import ttest_1samp\n",
        "\n",
        "tscore, pvalue = ttest_1samp(part_b_clean['Australia: S&P/ASX 200 (%)'], popmean= )\n",
        "print('t Statistic:', tscore)\n",
        "print('P value', pvalue)"
      ],
      "execution_count": 72,
      "outputs": [
        {
          "output_type": "stream",
          "text": [
            "t Statistic: 1.2174305759641912\n",
            "P value 0.22462135611528908\n"
          ],
          "name": "stdout"
        }
      ]
    },
    {
      "cell_type": "code",
      "metadata": {
        "id": "CHFzkXfhOHqu"
      },
      "source": [
        ""
      ],
      "execution_count": null,
      "outputs": []
    }
  ]
}