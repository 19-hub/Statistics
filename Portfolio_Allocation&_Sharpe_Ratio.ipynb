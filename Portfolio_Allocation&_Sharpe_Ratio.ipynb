{
  "nbformat": 4,
  "nbformat_minor": 0,
  "metadata": {
    "colab": {
      "name": "Portfolio Allocation& Sharpe Ratio.ipynb",
      "provenance": [],
      "authorship_tag": "ABX9TyPGRUETbVtdY4PUfXqh6weQ",
      "include_colab_link": true
    },
    "kernelspec": {
      "name": "python3",
      "display_name": "Python 3"
    }
  },
  "cells": [
    {
      "cell_type": "markdown",
      "metadata": {
        "id": "view-in-github",
        "colab_type": "text"
      },
      "source": [
        "<a href=\"https://colab.research.google.com/github/Rioba-Ian/Statistics/blob/main/Portfolio_Allocation%26_Sharpe_Ratio.ipynb\" target=\"_parent\"><img src=\"https://colab.research.google.com/assets/colab-badge.svg\" alt=\"Open In Colab\"/></a>"
      ]
    },
    {
      "cell_type": "code",
      "metadata": {
        "colab": {
          "base_uri": "https://localhost:8080/"
        },
        "id": "WMTKsl_TLXx7",
        "outputId": "f8777fe8-e905-4c52-d0b1-5301d988d455"
      },
      "source": [
        "!pip install quandl"
      ],
      "execution_count": 1,
      "outputs": [
        {
          "output_type": "stream",
          "text": [
            "Collecting quandl\n",
            "  Downloading https://files.pythonhosted.org/packages/c2/58/9f0e69d836045e3865d263e9ed49f42b23a58526fdabb30f74c430baee3f/Quandl-3.6.0-py2.py3-none-any.whl\n",
            "Collecting inflection>=0.3.1\n",
            "  Downloading https://files.pythonhosted.org/packages/59/91/aa6bde563e0085a02a435aa99b49ef75b0a4b062635e606dab23ce18d720/inflection-0.5.1-py2.py3-none-any.whl\n",
            "Requirement already satisfied: numpy>=1.8 in /usr/local/lib/python3.6/dist-packages (from quandl) (1.19.5)\n",
            "Requirement already satisfied: python-dateutil in /usr/local/lib/python3.6/dist-packages (from quandl) (2.8.1)\n",
            "Requirement already satisfied: six in /usr/local/lib/python3.6/dist-packages (from quandl) (1.15.0)\n",
            "Requirement already satisfied: pandas>=0.14 in /usr/local/lib/python3.6/dist-packages (from quandl) (1.1.5)\n",
            "Requirement already satisfied: requests>=2.7.0 in /usr/local/lib/python3.6/dist-packages (from quandl) (2.23.0)\n",
            "Requirement already satisfied: more-itertools in /usr/local/lib/python3.6/dist-packages (from quandl) (8.6.0)\n",
            "Requirement already satisfied: pytz>=2017.2 in /usr/local/lib/python3.6/dist-packages (from pandas>=0.14->quandl) (2018.9)\n",
            "Requirement already satisfied: certifi>=2017.4.17 in /usr/local/lib/python3.6/dist-packages (from requests>=2.7.0->quandl) (2020.12.5)\n",
            "Requirement already satisfied: chardet<4,>=3.0.2 in /usr/local/lib/python3.6/dist-packages (from requests>=2.7.0->quandl) (3.0.4)\n",
            "Requirement already satisfied: idna<3,>=2.5 in /usr/local/lib/python3.6/dist-packages (from requests>=2.7.0->quandl) (2.10)\n",
            "Requirement already satisfied: urllib3!=1.25.0,!=1.25.1,<1.26,>=1.21.1 in /usr/local/lib/python3.6/dist-packages (from requests>=2.7.0->quandl) (1.24.3)\n",
            "Installing collected packages: inflection, quandl\n",
            "Successfully installed inflection-0.5.1 quandl-3.6.0\n"
          ],
          "name": "stdout"
        }
      ]
    },
    {
      "cell_type": "code",
      "metadata": {
        "id": "S8R6cw9oKEOC"
      },
      "source": [
        "import pandas as pd\n",
        "import quandl as ql "
      ],
      "execution_count": 2,
      "outputs": []
    },
    {
      "cell_type": "code",
      "metadata": {
        "id": "K8HHuL1aLfwg"
      },
      "source": [
        "start = pd.to_datetime('2012-01-01')\n",
        "end = pd.to_datetime('2017-01-01')"
      ],
      "execution_count": 3,
      "outputs": []
    },
    {
      "cell_type": "code",
      "metadata": {
        "id": "jsgP7-lpLuC_"
      },
      "source": [
        "aapl = ql.get('WIKI/AAPL.11', start_date=start, end_date=end)\n",
        "cisco = ql.get('WIKI/CSCO.11', start_date=start, end_date=end)\n",
        "ibm = ql.get('WIKI/IBM.11', start_date=start, end_date=end)\n",
        "amzn = ql.get('WIKI/AMZN.11', start_date=start, end_date=end)"
      ],
      "execution_count": 5,
      "outputs": []
    },
    {
      "cell_type": "code",
      "metadata": {
        "colab": {
          "base_uri": "https://localhost:8080/",
          "height": 432
        },
        "id": "wo4CoNY6L-yv",
        "outputId": "ce9bb101-45ed-4caa-d4f9-f83d29e9722c"
      },
      "source": [
        "aapl"
      ],
      "execution_count": 6,
      "outputs": [
        {
          "output_type": "execute_result",
          "data": {
            "text/html": [
              "<div>\n",
              "<style scoped>\n",
              "    .dataframe tbody tr th:only-of-type {\n",
              "        vertical-align: middle;\n",
              "    }\n",
              "\n",
              "    .dataframe tbody tr th {\n",
              "        vertical-align: top;\n",
              "    }\n",
              "\n",
              "    .dataframe thead th {\n",
              "        text-align: right;\n",
              "    }\n",
              "</style>\n",
              "<table border=\"1\" class=\"dataframe\">\n",
              "  <thead>\n",
              "    <tr style=\"text-align: right;\">\n",
              "      <th></th>\n",
              "      <th>Adj. Close</th>\n",
              "    </tr>\n",
              "    <tr>\n",
              "      <th>Date</th>\n",
              "      <th></th>\n",
              "    </tr>\n",
              "  </thead>\n",
              "  <tbody>\n",
              "    <tr>\n",
              "      <th>2012-01-03</th>\n",
              "      <td>52.848787</td>\n",
              "    </tr>\n",
              "    <tr>\n",
              "      <th>2012-01-04</th>\n",
              "      <td>53.132802</td>\n",
              "    </tr>\n",
              "    <tr>\n",
              "      <th>2012-01-05</th>\n",
              "      <td>53.722681</td>\n",
              "    </tr>\n",
              "    <tr>\n",
              "      <th>2012-01-06</th>\n",
              "      <td>54.284287</td>\n",
              "    </tr>\n",
              "    <tr>\n",
              "      <th>2012-01-09</th>\n",
              "      <td>54.198183</td>\n",
              "    </tr>\n",
              "    <tr>\n",
              "      <th>...</th>\n",
              "      <td>...</td>\n",
              "    </tr>\n",
              "    <tr>\n",
              "      <th>2016-12-23</th>\n",
              "      <td>115.080808</td>\n",
              "    </tr>\n",
              "    <tr>\n",
              "      <th>2016-12-27</th>\n",
              "      <td>115.811668</td>\n",
              "    </tr>\n",
              "    <tr>\n",
              "      <th>2016-12-28</th>\n",
              "      <td>115.317843</td>\n",
              "    </tr>\n",
              "    <tr>\n",
              "      <th>2016-12-29</th>\n",
              "      <td>115.288214</td>\n",
              "    </tr>\n",
              "    <tr>\n",
              "      <th>2016-12-30</th>\n",
              "      <td>114.389454</td>\n",
              "    </tr>\n",
              "  </tbody>\n",
              "</table>\n",
              "<p>1258 rows × 1 columns</p>\n",
              "</div>"
            ],
            "text/plain": [
              "            Adj. Close\n",
              "Date                  \n",
              "2012-01-03   52.848787\n",
              "2012-01-04   53.132802\n",
              "2012-01-05   53.722681\n",
              "2012-01-06   54.284287\n",
              "2012-01-09   54.198183\n",
              "...                ...\n",
              "2016-12-23  115.080808\n",
              "2016-12-27  115.811668\n",
              "2016-12-28  115.317843\n",
              "2016-12-29  115.288214\n",
              "2016-12-30  114.389454\n",
              "\n",
              "[1258 rows x 1 columns]"
            ]
          },
          "metadata": {
            "tags": []
          },
          "execution_count": 6
        }
      ]
    },
    {
      "cell_type": "code",
      "metadata": {
        "colab": {
          "base_uri": "https://localhost:8080/"
        },
        "id": "LgRH-se0MU_1",
        "outputId": "96c604bd-0153-4159-c125-c223715efacb"
      },
      "source": [
        "aapl.iloc[0]"
      ],
      "execution_count": 7,
      "outputs": [
        {
          "output_type": "execute_result",
          "data": {
            "text/plain": [
              "Adj. Close    52.848787\n",
              "Name: 2012-01-03 00:00:00, dtype: float64"
            ]
          },
          "metadata": {
            "tags": []
          },
          "execution_count": 7
        }
      ]
    },
    {
      "cell_type": "code",
      "metadata": {
        "id": "0QtFwPVtMciJ"
      },
      "source": [
        "for stock_df in (aapl, cisco, ibm, amzn):\n",
        "    stock_df['Normed Return'] = stock_df['Adj. Close'] / stock_df.iloc[0]['Adj. Close']"
      ],
      "execution_count": 8,
      "outputs": []
    },
    {
      "cell_type": "code",
      "metadata": {
        "colab": {
          "base_uri": "https://localhost:8080/",
          "height": 225
        },
        "id": "SYOCb-xqM9cP",
        "outputId": "1d164bc6-191d-4358-99b2-57f118d6653a"
      },
      "source": [
        "aapl.head()"
      ],
      "execution_count": 9,
      "outputs": [
        {
          "output_type": "execute_result",
          "data": {
            "text/html": [
              "<div>\n",
              "<style scoped>\n",
              "    .dataframe tbody tr th:only-of-type {\n",
              "        vertical-align: middle;\n",
              "    }\n",
              "\n",
              "    .dataframe tbody tr th {\n",
              "        vertical-align: top;\n",
              "    }\n",
              "\n",
              "    .dataframe thead th {\n",
              "        text-align: right;\n",
              "    }\n",
              "</style>\n",
              "<table border=\"1\" class=\"dataframe\">\n",
              "  <thead>\n",
              "    <tr style=\"text-align: right;\">\n",
              "      <th></th>\n",
              "      <th>Adj. Close</th>\n",
              "      <th>Normed Return</th>\n",
              "    </tr>\n",
              "    <tr>\n",
              "      <th>Date</th>\n",
              "      <th></th>\n",
              "      <th></th>\n",
              "    </tr>\n",
              "  </thead>\n",
              "  <tbody>\n",
              "    <tr>\n",
              "      <th>2012-01-03</th>\n",
              "      <td>52.848787</td>\n",
              "      <td>1.000000</td>\n",
              "    </tr>\n",
              "    <tr>\n",
              "      <th>2012-01-04</th>\n",
              "      <td>53.132802</td>\n",
              "      <td>1.005374</td>\n",
              "    </tr>\n",
              "    <tr>\n",
              "      <th>2012-01-05</th>\n",
              "      <td>53.722681</td>\n",
              "      <td>1.016536</td>\n",
              "    </tr>\n",
              "    <tr>\n",
              "      <th>2012-01-06</th>\n",
              "      <td>54.284287</td>\n",
              "      <td>1.027162</td>\n",
              "    </tr>\n",
              "    <tr>\n",
              "      <th>2012-01-09</th>\n",
              "      <td>54.198183</td>\n",
              "      <td>1.025533</td>\n",
              "    </tr>\n",
              "  </tbody>\n",
              "</table>\n",
              "</div>"
            ],
            "text/plain": [
              "            Adj. Close  Normed Return\n",
              "Date                                 \n",
              "2012-01-03   52.848787       1.000000\n",
              "2012-01-04   53.132802       1.005374\n",
              "2012-01-05   53.722681       1.016536\n",
              "2012-01-06   54.284287       1.027162\n",
              "2012-01-09   54.198183       1.025533"
            ]
          },
          "metadata": {
            "tags": []
          },
          "execution_count": 9
        }
      ]
    },
    {
      "cell_type": "code",
      "metadata": {
        "colab": {
          "base_uri": "https://localhost:8080/",
          "height": 225
        },
        "id": "4rp0dOvZNGa_",
        "outputId": "056f9ee6-ce41-4c3c-e744-142208daa7e4"
      },
      "source": [
        "aapl.tail()"
      ],
      "execution_count": 10,
      "outputs": [
        {
          "output_type": "execute_result",
          "data": {
            "text/html": [
              "<div>\n",
              "<style scoped>\n",
              "    .dataframe tbody tr th:only-of-type {\n",
              "        vertical-align: middle;\n",
              "    }\n",
              "\n",
              "    .dataframe tbody tr th {\n",
              "        vertical-align: top;\n",
              "    }\n",
              "\n",
              "    .dataframe thead th {\n",
              "        text-align: right;\n",
              "    }\n",
              "</style>\n",
              "<table border=\"1\" class=\"dataframe\">\n",
              "  <thead>\n",
              "    <tr style=\"text-align: right;\">\n",
              "      <th></th>\n",
              "      <th>Adj. Close</th>\n",
              "      <th>Normed Return</th>\n",
              "    </tr>\n",
              "    <tr>\n",
              "      <th>Date</th>\n",
              "      <th></th>\n",
              "      <th></th>\n",
              "    </tr>\n",
              "  </thead>\n",
              "  <tbody>\n",
              "    <tr>\n",
              "      <th>2016-12-23</th>\n",
              "      <td>115.080808</td>\n",
              "      <td>2.177549</td>\n",
              "    </tr>\n",
              "    <tr>\n",
              "      <th>2016-12-27</th>\n",
              "      <td>115.811668</td>\n",
              "      <td>2.191378</td>\n",
              "    </tr>\n",
              "    <tr>\n",
              "      <th>2016-12-28</th>\n",
              "      <td>115.317843</td>\n",
              "      <td>2.182034</td>\n",
              "    </tr>\n",
              "    <tr>\n",
              "      <th>2016-12-29</th>\n",
              "      <td>115.288214</td>\n",
              "      <td>2.181473</td>\n",
              "    </tr>\n",
              "    <tr>\n",
              "      <th>2016-12-30</th>\n",
              "      <td>114.389454</td>\n",
              "      <td>2.164467</td>\n",
              "    </tr>\n",
              "  </tbody>\n",
              "</table>\n",
              "</div>"
            ],
            "text/plain": [
              "            Adj. Close  Normed Return\n",
              "Date                                 \n",
              "2016-12-23  115.080808       2.177549\n",
              "2016-12-27  115.811668       2.191378\n",
              "2016-12-28  115.317843       2.182034\n",
              "2016-12-29  115.288214       2.181473\n",
              "2016-12-30  114.389454       2.164467"
            ]
          },
          "metadata": {
            "tags": []
          },
          "execution_count": 10
        }
      ]
    },
    {
      "cell_type": "code",
      "metadata": {
        "id": "kymxAH16NIgj"
      },
      "source": [
        "# 30% of our money is going into apple\n",
        "# 20% in cisco\n",
        "# 40% in amazon\n",
        "# 10% in ibm"
      ],
      "execution_count": 11,
      "outputs": []
    },
    {
      "cell_type": "code",
      "metadata": {
        "colab": {
          "base_uri": "https://localhost:8080/"
        },
        "id": "PThhfEMzNuv-",
        "outputId": "f5a93b67-aae0-461d-9fb5-70309b9352a5"
      },
      "source": [
        "list(zip((aapl, cisco, ibm, amzn),[.3,.2,.4,.1]))"
      ],
      "execution_count": 13,
      "outputs": [
        {
          "output_type": "execute_result",
          "data": {
            "text/plain": [
              "[(            Adj. Close  Normed Return\n",
              "  Date                                 \n",
              "  2012-01-03   52.848787       1.000000\n",
              "  2012-01-04   53.132802       1.005374\n",
              "  2012-01-05   53.722681       1.016536\n",
              "  2012-01-06   54.284287       1.027162\n",
              "  2012-01-09   54.198183       1.025533\n",
              "  ...                ...            ...\n",
              "  2016-12-23  115.080808       2.177549\n",
              "  2016-12-27  115.811668       2.191378\n",
              "  2016-12-28  115.317843       2.182034\n",
              "  2016-12-29  115.288214       2.181473\n",
              "  2016-12-30  114.389454       2.164467\n",
              "  \n",
              "  [1258 rows x 2 columns], 0.3), (            Adj. Close  Normed Return\n",
              "  Date                                 \n",
              "  2012-01-03   15.617341       1.000000\n",
              "  2012-01-04   15.919125       1.019324\n",
              "  2012-01-05   15.860445       1.015566\n",
              "  2012-01-06   15.801764       1.011809\n",
              "  2012-01-09   15.902359       1.018250\n",
              "  ...                ...            ...\n",
              "  2016-12-23   29.475311       1.887345\n",
              "  2016-12-27   29.620129       1.896618\n",
              "  2016-12-28   29.369111       1.880545\n",
              "  2016-12-29   29.407729       1.883018\n",
              "  2016-12-30   29.176020       1.868181\n",
              "  \n",
              "  [1258 rows x 2 columns], 0.2), (            Adj. Close  Normed Return\n",
              "  Date                                 \n",
              "  2012-01-03  157.578371       1.000000\n",
              "  2012-01-04  156.935540       0.995921\n",
              "  2012-01-05  156.191208       0.991197\n",
              "  2012-01-06  154.398046       0.979817\n",
              "  2012-01-09  153.594506       0.974718\n",
              "  ...                ...            ...\n",
              "  2016-12-23  160.477796       1.018400\n",
              "  2016-12-27  160.891721       1.021027\n",
              "  2016-12-28  159.977235       1.015223\n",
              "  2016-12-29  160.371908       1.017728\n",
              "  2016-12-30  159.784712       1.014002\n",
              "  \n",
              "  [1258 rows x 2 columns], 0.4), (            Adj. Close  Normed Return\n",
              "  Date                                 \n",
              "  2012-01-03      179.03       1.000000\n",
              "  2012-01-04      177.51       0.991510\n",
              "  2012-01-05      177.61       0.992068\n",
              "  2012-01-06      182.61       1.019997\n",
              "  2012-01-09      178.56       0.997375\n",
              "  ...                ...            ...\n",
              "  2016-12-23      760.59       4.248394\n",
              "  2016-12-27      771.40       4.308775\n",
              "  2016-12-28      772.13       4.312853\n",
              "  2016-12-29      765.15       4.273865\n",
              "  2016-12-30      749.87       4.188516\n",
              "  \n",
              "  [1258 rows x 2 columns], 0.1)]"
            ]
          },
          "metadata": {
            "tags": []
          },
          "execution_count": 13
        }
      ]
    },
    {
      "cell_type": "code",
      "metadata": {
        "id": "W45tcDkQNYuu"
      },
      "source": [
        "for stock_df, allo in zip((aapl, cisco, ibm, amzn),[.3,.2,.4,.1]):\n",
        "    stock_df['Allocation'] = stock_df['Normed Return']*allo"
      ],
      "execution_count": 14,
      "outputs": []
    },
    {
      "cell_type": "code",
      "metadata": {
        "colab": {
          "base_uri": "https://localhost:8080/",
          "height": 225
        },
        "id": "M6S1Ty2COE-t",
        "outputId": "8e11f69e-eb39-48d5-c6d8-8230ab9fabb5"
      },
      "source": [
        "aapl.head()"
      ],
      "execution_count": 15,
      "outputs": [
        {
          "output_type": "execute_result",
          "data": {
            "text/html": [
              "<div>\n",
              "<style scoped>\n",
              "    .dataframe tbody tr th:only-of-type {\n",
              "        vertical-align: middle;\n",
              "    }\n",
              "\n",
              "    .dataframe tbody tr th {\n",
              "        vertical-align: top;\n",
              "    }\n",
              "\n",
              "    .dataframe thead th {\n",
              "        text-align: right;\n",
              "    }\n",
              "</style>\n",
              "<table border=\"1\" class=\"dataframe\">\n",
              "  <thead>\n",
              "    <tr style=\"text-align: right;\">\n",
              "      <th></th>\n",
              "      <th>Adj. Close</th>\n",
              "      <th>Normed Return</th>\n",
              "      <th>Allocation</th>\n",
              "    </tr>\n",
              "    <tr>\n",
              "      <th>Date</th>\n",
              "      <th></th>\n",
              "      <th></th>\n",
              "      <th></th>\n",
              "    </tr>\n",
              "  </thead>\n",
              "  <tbody>\n",
              "    <tr>\n",
              "      <th>2012-01-03</th>\n",
              "      <td>52.848787</td>\n",
              "      <td>1.000000</td>\n",
              "      <td>0.300000</td>\n",
              "    </tr>\n",
              "    <tr>\n",
              "      <th>2012-01-04</th>\n",
              "      <td>53.132802</td>\n",
              "      <td>1.005374</td>\n",
              "      <td>0.301612</td>\n",
              "    </tr>\n",
              "    <tr>\n",
              "      <th>2012-01-05</th>\n",
              "      <td>53.722681</td>\n",
              "      <td>1.016536</td>\n",
              "      <td>0.304961</td>\n",
              "    </tr>\n",
              "    <tr>\n",
              "      <th>2012-01-06</th>\n",
              "      <td>54.284287</td>\n",
              "      <td>1.027162</td>\n",
              "      <td>0.308149</td>\n",
              "    </tr>\n",
              "    <tr>\n",
              "      <th>2012-01-09</th>\n",
              "      <td>54.198183</td>\n",
              "      <td>1.025533</td>\n",
              "      <td>0.307660</td>\n",
              "    </tr>\n",
              "  </tbody>\n",
              "</table>\n",
              "</div>"
            ],
            "text/plain": [
              "            Adj. Close  Normed Return  Allocation\n",
              "Date                                             \n",
              "2012-01-03   52.848787       1.000000    0.300000\n",
              "2012-01-04   53.132802       1.005374    0.301612\n",
              "2012-01-05   53.722681       1.016536    0.304961\n",
              "2012-01-06   54.284287       1.027162    0.308149\n",
              "2012-01-09   54.198183       1.025533    0.307660"
            ]
          },
          "metadata": {
            "tags": []
          },
          "execution_count": 15
        }
      ]
    },
    {
      "cell_type": "code",
      "metadata": {
        "colab": {
          "base_uri": "https://localhost:8080/",
          "height": 225
        },
        "id": "rBurFsOoOKJq",
        "outputId": "a00f155c-1192-44fb-fddf-41b1cccca745"
      },
      "source": [
        "aapl.tail()"
      ],
      "execution_count": 16,
      "outputs": [
        {
          "output_type": "execute_result",
          "data": {
            "text/html": [
              "<div>\n",
              "<style scoped>\n",
              "    .dataframe tbody tr th:only-of-type {\n",
              "        vertical-align: middle;\n",
              "    }\n",
              "\n",
              "    .dataframe tbody tr th {\n",
              "        vertical-align: top;\n",
              "    }\n",
              "\n",
              "    .dataframe thead th {\n",
              "        text-align: right;\n",
              "    }\n",
              "</style>\n",
              "<table border=\"1\" class=\"dataframe\">\n",
              "  <thead>\n",
              "    <tr style=\"text-align: right;\">\n",
              "      <th></th>\n",
              "      <th>Adj. Close</th>\n",
              "      <th>Normed Return</th>\n",
              "      <th>Allocation</th>\n",
              "    </tr>\n",
              "    <tr>\n",
              "      <th>Date</th>\n",
              "      <th></th>\n",
              "      <th></th>\n",
              "      <th></th>\n",
              "    </tr>\n",
              "  </thead>\n",
              "  <tbody>\n",
              "    <tr>\n",
              "      <th>2016-12-23</th>\n",
              "      <td>115.080808</td>\n",
              "      <td>2.177549</td>\n",
              "      <td>0.653265</td>\n",
              "    </tr>\n",
              "    <tr>\n",
              "      <th>2016-12-27</th>\n",
              "      <td>115.811668</td>\n",
              "      <td>2.191378</td>\n",
              "      <td>0.657413</td>\n",
              "    </tr>\n",
              "    <tr>\n",
              "      <th>2016-12-28</th>\n",
              "      <td>115.317843</td>\n",
              "      <td>2.182034</td>\n",
              "      <td>0.654610</td>\n",
              "    </tr>\n",
              "    <tr>\n",
              "      <th>2016-12-29</th>\n",
              "      <td>115.288214</td>\n",
              "      <td>2.181473</td>\n",
              "      <td>0.654442</td>\n",
              "    </tr>\n",
              "    <tr>\n",
              "      <th>2016-12-30</th>\n",
              "      <td>114.389454</td>\n",
              "      <td>2.164467</td>\n",
              "      <td>0.649340</td>\n",
              "    </tr>\n",
              "  </tbody>\n",
              "</table>\n",
              "</div>"
            ],
            "text/plain": [
              "            Adj. Close  Normed Return  Allocation\n",
              "Date                                             \n",
              "2016-12-23  115.080808       2.177549    0.653265\n",
              "2016-12-27  115.811668       2.191378    0.657413\n",
              "2016-12-28  115.317843       2.182034    0.654610\n",
              "2016-12-29  115.288214       2.181473    0.654442\n",
              "2016-12-30  114.389454       2.164467    0.649340"
            ]
          },
          "metadata": {
            "tags": []
          },
          "execution_count": 16
        }
      ]
    },
    {
      "cell_type": "code",
      "metadata": {
        "id": "ECr00Sq0OM6W"
      },
      "source": [
        "for stock_df in (aapl, cisco, ibm, amzn):\n",
        "    stock_df['Position Values'] = stock_df['Allocation']*1000000"
      ],
      "execution_count": 17,
      "outputs": []
    },
    {
      "cell_type": "code",
      "metadata": {
        "colab": {
          "base_uri": "https://localhost:8080/",
          "height": 225
        },
        "id": "8y4oRV7APEkx",
        "outputId": "d35ce4f7-156a-4668-fb4e-389f17994a92"
      },
      "source": [
        "aapl.head()"
      ],
      "execution_count": 18,
      "outputs": [
        {
          "output_type": "execute_result",
          "data": {
            "text/html": [
              "<div>\n",
              "<style scoped>\n",
              "    .dataframe tbody tr th:only-of-type {\n",
              "        vertical-align: middle;\n",
              "    }\n",
              "\n",
              "    .dataframe tbody tr th {\n",
              "        vertical-align: top;\n",
              "    }\n",
              "\n",
              "    .dataframe thead th {\n",
              "        text-align: right;\n",
              "    }\n",
              "</style>\n",
              "<table border=\"1\" class=\"dataframe\">\n",
              "  <thead>\n",
              "    <tr style=\"text-align: right;\">\n",
              "      <th></th>\n",
              "      <th>Adj. Close</th>\n",
              "      <th>Normed Return</th>\n",
              "      <th>Allocation</th>\n",
              "      <th>Position Values</th>\n",
              "    </tr>\n",
              "    <tr>\n",
              "      <th>Date</th>\n",
              "      <th></th>\n",
              "      <th></th>\n",
              "      <th></th>\n",
              "      <th></th>\n",
              "    </tr>\n",
              "  </thead>\n",
              "  <tbody>\n",
              "    <tr>\n",
              "      <th>2012-01-03</th>\n",
              "      <td>52.848787</td>\n",
              "      <td>1.000000</td>\n",
              "      <td>0.300000</td>\n",
              "      <td>300000.000000</td>\n",
              "    </tr>\n",
              "    <tr>\n",
              "      <th>2012-01-04</th>\n",
              "      <td>53.132802</td>\n",
              "      <td>1.005374</td>\n",
              "      <td>0.301612</td>\n",
              "      <td>301612.236461</td>\n",
              "    </tr>\n",
              "    <tr>\n",
              "      <th>2012-01-05</th>\n",
              "      <td>53.722681</td>\n",
              "      <td>1.016536</td>\n",
              "      <td>0.304961</td>\n",
              "      <td>304960.727573</td>\n",
              "    </tr>\n",
              "    <tr>\n",
              "      <th>2012-01-06</th>\n",
              "      <td>54.284287</td>\n",
              "      <td>1.027162</td>\n",
              "      <td>0.308149</td>\n",
              "      <td>308148.724558</td>\n",
              "    </tr>\n",
              "    <tr>\n",
              "      <th>2012-01-09</th>\n",
              "      <td>54.198183</td>\n",
              "      <td>1.025533</td>\n",
              "      <td>0.307660</td>\n",
              "      <td>307659.946988</td>\n",
              "    </tr>\n",
              "  </tbody>\n",
              "</table>\n",
              "</div>"
            ],
            "text/plain": [
              "            Adj. Close  Normed Return  Allocation  Position Values\n",
              "Date                                                              \n",
              "2012-01-03   52.848787       1.000000    0.300000    300000.000000\n",
              "2012-01-04   53.132802       1.005374    0.301612    301612.236461\n",
              "2012-01-05   53.722681       1.016536    0.304961    304960.727573\n",
              "2012-01-06   54.284287       1.027162    0.308149    308148.724558\n",
              "2012-01-09   54.198183       1.025533    0.307660    307659.946988"
            ]
          },
          "metadata": {
            "tags": []
          },
          "execution_count": 18
        }
      ]
    },
    {
      "cell_type": "code",
      "metadata": {
        "id": "_F1w1cAgPI0r"
      },
      "source": [
        "all_pos_vals = [aapl['Position Values'], cisco['Position Values'],\n",
        "                ibm['Position Values'], amzn['Position Values']]\n",
        "\n",
        "portfolio_val = pd.concat(all_pos_vals, axis=1)"
      ],
      "execution_count": 19,
      "outputs": []
    },
    {
      "cell_type": "code",
      "metadata": {
        "colab": {
          "base_uri": "https://localhost:8080/",
          "height": 225
        },
        "id": "kxFZ9BnaP1f0",
        "outputId": "f70e8e8a-3f5b-4565-ca74-28710c98e5e0"
      },
      "source": [
        "portfolio_val.head()"
      ],
      "execution_count": 20,
      "outputs": [
        {
          "output_type": "execute_result",
          "data": {
            "text/html": [
              "<div>\n",
              "<style scoped>\n",
              "    .dataframe tbody tr th:only-of-type {\n",
              "        vertical-align: middle;\n",
              "    }\n",
              "\n",
              "    .dataframe tbody tr th {\n",
              "        vertical-align: top;\n",
              "    }\n",
              "\n",
              "    .dataframe thead th {\n",
              "        text-align: right;\n",
              "    }\n",
              "</style>\n",
              "<table border=\"1\" class=\"dataframe\">\n",
              "  <thead>\n",
              "    <tr style=\"text-align: right;\">\n",
              "      <th></th>\n",
              "      <th>Position Values</th>\n",
              "      <th>Position Values</th>\n",
              "      <th>Position Values</th>\n",
              "      <th>Position Values</th>\n",
              "    </tr>\n",
              "    <tr>\n",
              "      <th>Date</th>\n",
              "      <th></th>\n",
              "      <th></th>\n",
              "      <th></th>\n",
              "      <th></th>\n",
              "    </tr>\n",
              "  </thead>\n",
              "  <tbody>\n",
              "    <tr>\n",
              "      <th>2012-01-03</th>\n",
              "      <td>300000.000000</td>\n",
              "      <td>200000.000000</td>\n",
              "      <td>400000.000000</td>\n",
              "      <td>100000.000000</td>\n",
              "    </tr>\n",
              "    <tr>\n",
              "      <th>2012-01-04</th>\n",
              "      <td>301612.236461</td>\n",
              "      <td>203864.734300</td>\n",
              "      <td>398368.223296</td>\n",
              "      <td>99150.980283</td>\n",
              "    </tr>\n",
              "    <tr>\n",
              "      <th>2012-01-05</th>\n",
              "      <td>304960.727573</td>\n",
              "      <td>203113.258186</td>\n",
              "      <td>396478.797638</td>\n",
              "      <td>99206.836843</td>\n",
              "    </tr>\n",
              "    <tr>\n",
              "      <th>2012-01-06</th>\n",
              "      <td>308148.724558</td>\n",
              "      <td>202361.782072</td>\n",
              "      <td>391926.999463</td>\n",
              "      <td>101999.664861</td>\n",
              "    </tr>\n",
              "    <tr>\n",
              "      <th>2012-01-09</th>\n",
              "      <td>307659.946988</td>\n",
              "      <td>203650.026838</td>\n",
              "      <td>389887.278583</td>\n",
              "      <td>99737.474166</td>\n",
              "    </tr>\n",
              "  </tbody>\n",
              "</table>\n",
              "</div>"
            ],
            "text/plain": [
              "            Position Values  Position Values  Position Values  Position Values\n",
              "Date                                                                          \n",
              "2012-01-03    300000.000000    200000.000000    400000.000000    100000.000000\n",
              "2012-01-04    301612.236461    203864.734300    398368.223296     99150.980283\n",
              "2012-01-05    304960.727573    203113.258186    396478.797638     99206.836843\n",
              "2012-01-06    308148.724558    202361.782072    391926.999463    101999.664861\n",
              "2012-01-09    307659.946988    203650.026838    389887.278583     99737.474166"
            ]
          },
          "metadata": {
            "tags": []
          },
          "execution_count": 20
        }
      ]
    },
    {
      "cell_type": "code",
      "metadata": {
        "id": "frbGNwX8P4NS"
      },
      "source": [
        "portfolio_val.columns = ['AAPL Pos', 'CISCO Pos', 'IBM Pos', 'AMZN Pos']"
      ],
      "execution_count": 21,
      "outputs": []
    },
    {
      "cell_type": "code",
      "metadata": {
        "id": "rk3oM_GkQNXM"
      },
      "source": [
        "portfolio_val['Total Pos'] = portfolio_val.sum(axis=1)"
      ],
      "execution_count": 23,
      "outputs": []
    },
    {
      "cell_type": "code",
      "metadata": {
        "colab": {
          "base_uri": "https://localhost:8080/",
          "height": 225
        },
        "id": "XbltfXGNQPbp",
        "outputId": "81f5bb8a-8fc5-4a7b-83dc-66858e2da38a"
      },
      "source": [
        "portfolio_val.head()"
      ],
      "execution_count": 24,
      "outputs": [
        {
          "output_type": "execute_result",
          "data": {
            "text/html": [
              "<div>\n",
              "<style scoped>\n",
              "    .dataframe tbody tr th:only-of-type {\n",
              "        vertical-align: middle;\n",
              "    }\n",
              "\n",
              "    .dataframe tbody tr th {\n",
              "        vertical-align: top;\n",
              "    }\n",
              "\n",
              "    .dataframe thead th {\n",
              "        text-align: right;\n",
              "    }\n",
              "</style>\n",
              "<table border=\"1\" class=\"dataframe\">\n",
              "  <thead>\n",
              "    <tr style=\"text-align: right;\">\n",
              "      <th></th>\n",
              "      <th>AAPL Pos</th>\n",
              "      <th>CISCO Pos</th>\n",
              "      <th>IBM Pos</th>\n",
              "      <th>AMZN Pos</th>\n",
              "      <th>Total Pos</th>\n",
              "    </tr>\n",
              "    <tr>\n",
              "      <th>Date</th>\n",
              "      <th></th>\n",
              "      <th></th>\n",
              "      <th></th>\n",
              "      <th></th>\n",
              "      <th></th>\n",
              "    </tr>\n",
              "  </thead>\n",
              "  <tbody>\n",
              "    <tr>\n",
              "      <th>2012-01-03</th>\n",
              "      <td>300000.000000</td>\n",
              "      <td>200000.000000</td>\n",
              "      <td>400000.000000</td>\n",
              "      <td>100000.000000</td>\n",
              "      <td>1.000000e+06</td>\n",
              "    </tr>\n",
              "    <tr>\n",
              "      <th>2012-01-04</th>\n",
              "      <td>301612.236461</td>\n",
              "      <td>203864.734300</td>\n",
              "      <td>398368.223296</td>\n",
              "      <td>99150.980283</td>\n",
              "      <td>1.002996e+06</td>\n",
              "    </tr>\n",
              "    <tr>\n",
              "      <th>2012-01-05</th>\n",
              "      <td>304960.727573</td>\n",
              "      <td>203113.258186</td>\n",
              "      <td>396478.797638</td>\n",
              "      <td>99206.836843</td>\n",
              "      <td>1.003760e+06</td>\n",
              "    </tr>\n",
              "    <tr>\n",
              "      <th>2012-01-06</th>\n",
              "      <td>308148.724558</td>\n",
              "      <td>202361.782072</td>\n",
              "      <td>391926.999463</td>\n",
              "      <td>101999.664861</td>\n",
              "      <td>1.004437e+06</td>\n",
              "    </tr>\n",
              "    <tr>\n",
              "      <th>2012-01-09</th>\n",
              "      <td>307659.946988</td>\n",
              "      <td>203650.026838</td>\n",
              "      <td>389887.278583</td>\n",
              "      <td>99737.474166</td>\n",
              "      <td>1.000935e+06</td>\n",
              "    </tr>\n",
              "  </tbody>\n",
              "</table>\n",
              "</div>"
            ],
            "text/plain": [
              "                 AAPL Pos      CISCO Pos  ...       AMZN Pos     Total Pos\n",
              "Date                                      ...                             \n",
              "2012-01-03  300000.000000  200000.000000  ...  100000.000000  1.000000e+06\n",
              "2012-01-04  301612.236461  203864.734300  ...   99150.980283  1.002996e+06\n",
              "2012-01-05  304960.727573  203113.258186  ...   99206.836843  1.003760e+06\n",
              "2012-01-06  308148.724558  202361.782072  ...  101999.664861  1.004437e+06\n",
              "2012-01-09  307659.946988  203650.026838  ...   99737.474166  1.000935e+06\n",
              "\n",
              "[5 rows x 5 columns]"
            ]
          },
          "metadata": {
            "tags": []
          },
          "execution_count": 24
        }
      ]
    },
    {
      "cell_type": "code",
      "metadata": {
        "id": "E-AlHSrHQecI"
      },
      "source": [
        "import matplotlib.pyplot as plt\n",
        "%matplotlib inline\n",
        "plt.style.use('ggplot')"
      ],
      "execution_count": 25,
      "outputs": []
    },
    {
      "cell_type": "code",
      "metadata": {
        "colab": {
          "base_uri": "https://localhost:8080/",
          "height": 487
        },
        "id": "XxAt4cp1QnNB",
        "outputId": "0bcd18a9-7385-4efc-83c9-3cd3c94d367a"
      },
      "source": [
        "portfolio_val['Total Pos'].plot(figsize=(12,8))\n",
        "plt.title('Total Portfolio Value')"
      ],
      "execution_count": 27,
      "outputs": [
        {
          "output_type": "execute_result",
          "data": {
            "text/plain": [
              "Text(0.5, 1.0, 'Total Portfolio Value')"
            ]
          },
          "metadata": {
            "tags": []
          },
          "execution_count": 27
        },
        {
          "output_type": "display_data",
          "data": {
            "image/png": "[encoded data removed]",
            "text/plain": [
              "<Figure size 864x576 with 1 Axes>"
            ]
          },
          "metadata": {
            "tags": []
          }
        }
      ]
    },
    {
      "cell_type": "code",
      "metadata": {
        "colab": {
          "base_uri": "https://localhost:8080/",
          "height": 458
        },
        "id": "pH07Q4ugQ0c0",
        "outputId": "4677f1b6-fcaf-4855-ada7-6178f12212b7"
      },
      "source": [
        "portfolio_val.drop('Total Pos', axis=1).plot(figsize=(12,8))"
      ],
      "execution_count": 28,
      "outputs": [
        {
          "output_type": "execute_result",
          "data": {
            "text/plain": [
              "<matplotlib.axes._subplots.AxesSubplot at 0x7f59ca8e8be0>"
            ]
          },
          "metadata": {
            "tags": []
          },
          "execution_count": 28
        },
        {
          "output_type": "display_data",
          "data": {
            "image/png": "[encoded data removed]",
            "text/plain": [
              "<Figure size 864x576 with 1 Axes>"
            ]
          },
          "metadata": {
            "tags": []
          }
        }
      ]
    },
    {
      "cell_type": "markdown",
      "metadata": {
        "id": "y90DkAHpRb9f"
      },
      "source": [
        "So how do we actually get to know how much we should invest in each stock \n",
        "\n",
        "This is where we shall use some portfolio statistics to help us determine the amount we shall invest for each"
      ]
    },
    {
      "cell_type": "markdown",
      "metadata": {
        "id": "1nyHemdZSJcE"
      },
      "source": [
        "# Portfolio Stats"
      ]
    },
    {
      "cell_type": "code",
      "metadata": {
        "colab": {
          "base_uri": "https://localhost:8080/",
          "height": 225
        },
        "id": "Cv-14jGoRQOz",
        "outputId": "97e6661e-8300-493a-ff31-6b8bfe1257af"
      },
      "source": [
        "portfolio_val.tail()"
      ],
      "execution_count": 30,
      "outputs": [
        {
          "output_type": "execute_result",
          "data": {
            "text/html": [
              "<div>\n",
              "<style scoped>\n",
              "    .dataframe tbody tr th:only-of-type {\n",
              "        vertical-align: middle;\n",
              "    }\n",
              "\n",
              "    .dataframe tbody tr th {\n",
              "        vertical-align: top;\n",
              "    }\n",
              "\n",
              "    .dataframe thead th {\n",
              "        text-align: right;\n",
              "    }\n",
              "</style>\n",
              "<table border=\"1\" class=\"dataframe\">\n",
              "  <thead>\n",
              "    <tr style=\"text-align: right;\">\n",
              "      <th></th>\n",
              "      <th>AAPL Pos</th>\n",
              "      <th>CISCO Pos</th>\n",
              "      <th>IBM Pos</th>\n",
              "      <th>AMZN Pos</th>\n",
              "      <th>Total Pos</th>\n",
              "    </tr>\n",
              "    <tr>\n",
              "      <th>Date</th>\n",
              "      <th></th>\n",
              "      <th></th>\n",
              "      <th></th>\n",
              "      <th></th>\n",
              "      <th></th>\n",
              "    </tr>\n",
              "  </thead>\n",
              "  <tbody>\n",
              "    <tr>\n",
              "      <th>2016-12-23</th>\n",
              "      <td>653264.617079</td>\n",
              "      <td>377469.015679</td>\n",
              "      <td>407359.955612</td>\n",
              "      <td>424839.412389</td>\n",
              "      <td>1.862933e+06</td>\n",
              "    </tr>\n",
              "    <tr>\n",
              "      <th>2016-12-27</th>\n",
              "      <td>657413.396830</td>\n",
              "      <td>379323.596496</td>\n",
              "      <td>408410.671112</td>\n",
              "      <td>430877.506563</td>\n",
              "      <td>1.876025e+06</td>\n",
              "    </tr>\n",
              "    <tr>\n",
              "      <th>2016-12-28</th>\n",
              "      <td>654610.167268</td>\n",
              "      <td>376108.989746</td>\n",
              "      <td>406089.322915</td>\n",
              "      <td>431285.259454</td>\n",
              "      <td>1.868094e+06</td>\n",
              "    </tr>\n",
              "    <tr>\n",
              "      <th>2016-12-29</th>\n",
              "      <td>654441.973495</td>\n",
              "      <td>376603.544631</td>\n",
              "      <td>407091.167926</td>\n",
              "      <td>427386.471541</td>\n",
              "      <td>1.865523e+06</td>\n",
              "    </tr>\n",
              "    <tr>\n",
              "      <th>2016-12-30</th>\n",
              "      <td>649340.095692</td>\n",
              "      <td>373636.215323</td>\n",
              "      <td>405600.618032</td>\n",
              "      <td>418851.589119</td>\n",
              "      <td>1.847429e+06</td>\n",
              "    </tr>\n",
              "  </tbody>\n",
              "</table>\n",
              "</div>"
            ],
            "text/plain": [
              "                 AAPL Pos      CISCO Pos  ...       AMZN Pos     Total Pos\n",
              "Date                                      ...                             \n",
              "2016-12-23  653264.617079  377469.015679  ...  424839.412389  1.862933e+06\n",
              "2016-12-27  657413.396830  379323.596496  ...  430877.506563  1.876025e+06\n",
              "2016-12-28  654610.167268  376108.989746  ...  431285.259454  1.868094e+06\n",
              "2016-12-29  654441.973495  376603.544631  ...  427386.471541  1.865523e+06\n",
              "2016-12-30  649340.095692  373636.215323  ...  418851.589119  1.847429e+06\n",
              "\n",
              "[5 rows x 5 columns]"
            ]
          },
          "metadata": {
            "tags": []
          },
          "execution_count": 30
        }
      ]
    },
    {
      "cell_type": "code",
      "metadata": {
        "id": "Sxj9q1b5URf0"
      },
      "source": [
        "portfolio_val['Daily Return'] = portfolio_val['Total Pos'].pct_change(1)"
      ],
      "execution_count": 31,
      "outputs": []
    },
    {
      "cell_type": "code",
      "metadata": {
        "colab": {
          "base_uri": "https://localhost:8080/",
          "height": 329
        },
        "id": "ft3THDXpUhS8",
        "outputId": "241edfd4-8ca1-4a2f-88b8-f35e594fcb72"
      },
      "source": [
        "portfolio_val.head()"
      ],
      "execution_count": 32,
      "outputs": [
        {
          "output_type": "execute_result",
          "data": {
            "text/html": [
              "<div>\n",
              "<style scoped>\n",
              "    .dataframe tbody tr th:only-of-type {\n",
              "        vertical-align: middle;\n",
              "    }\n",
              "\n",
              "    .dataframe tbody tr th {\n",
              "        vertical-align: top;\n",
              "    }\n",
              "\n",
              "    .dataframe thead th {\n",
              "        text-align: right;\n",
              "    }\n",
              "</style>\n",
              "<table border=\"1\" class=\"dataframe\">\n",
              "  <thead>\n",
              "    <tr style=\"text-align: right;\">\n",
              "      <th></th>\n",
              "      <th>AAPL Pos</th>\n",
              "      <th>CISCO Pos</th>\n",
              "      <th>IBM Pos</th>\n",
              "      <th>AMZN Pos</th>\n",
              "      <th>Total Pos</th>\n",
              "      <th>Daily Return</th>\n",
              "    </tr>\n",
              "    <tr>\n",
              "      <th>Date</th>\n",
              "      <th></th>\n",
              "      <th></th>\n",
              "      <th></th>\n",
              "      <th></th>\n",
              "      <th></th>\n",
              "      <th></th>\n",
              "    </tr>\n",
              "  </thead>\n",
              "  <tbody>\n",
              "    <tr>\n",
              "      <th>2012-01-03</th>\n",
              "      <td>300000.000000</td>\n",
              "      <td>200000.000000</td>\n",
              "      <td>400000.000000</td>\n",
              "      <td>100000.000000</td>\n",
              "      <td>1.000000e+06</td>\n",
              "      <td>NaN</td>\n",
              "    </tr>\n",
              "    <tr>\n",
              "      <th>2012-01-04</th>\n",
              "      <td>301612.236461</td>\n",
              "      <td>203864.734300</td>\n",
              "      <td>398368.223296</td>\n",
              "      <td>99150.980283</td>\n",
              "      <td>1.002996e+06</td>\n",
              "      <td>0.002996</td>\n",
              "    </tr>\n",
              "    <tr>\n",
              "      <th>2012-01-05</th>\n",
              "      <td>304960.727573</td>\n",
              "      <td>203113.258186</td>\n",
              "      <td>396478.797638</td>\n",
              "      <td>99206.836843</td>\n",
              "      <td>1.003760e+06</td>\n",
              "      <td>0.000761</td>\n",
              "    </tr>\n",
              "    <tr>\n",
              "      <th>2012-01-06</th>\n",
              "      <td>308148.724558</td>\n",
              "      <td>202361.782072</td>\n",
              "      <td>391926.999463</td>\n",
              "      <td>101999.664861</td>\n",
              "      <td>1.004437e+06</td>\n",
              "      <td>0.000675</td>\n",
              "    </tr>\n",
              "    <tr>\n",
              "      <th>2012-01-09</th>\n",
              "      <td>307659.946988</td>\n",
              "      <td>203650.026838</td>\n",
              "      <td>389887.278583</td>\n",
              "      <td>99737.474166</td>\n",
              "      <td>1.000935e+06</td>\n",
              "      <td>-0.003487</td>\n",
              "    </tr>\n",
              "  </tbody>\n",
              "</table>\n",
              "</div>"
            ],
            "text/plain": [
              "                 AAPL Pos      CISCO Pos  ...     Total Pos  Daily Return\n",
              "Date                                      ...                            \n",
              "2012-01-03  300000.000000  200000.000000  ...  1.000000e+06           NaN\n",
              "2012-01-04  301612.236461  203864.734300  ...  1.002996e+06      0.002996\n",
              "2012-01-05  304960.727573  203113.258186  ...  1.003760e+06      0.000761\n",
              "2012-01-06  308148.724558  202361.782072  ...  1.004437e+06      0.000675\n",
              "2012-01-09  307659.946988  203650.026838  ...  1.000935e+06     -0.003487\n",
              "\n",
              "[5 rows x 6 columns]"
            ]
          },
          "metadata": {
            "tags": []
          },
          "execution_count": 32
        }
      ]
    },
    {
      "cell_type": "code",
      "metadata": {
        "colab": {
          "base_uri": "https://localhost:8080/"
        },
        "id": "YC0xgG75UjUL",
        "outputId": "189d2cb2-45b3-4d7d-fcdc-d4349ffdc460"
      },
      "source": [
        "portfolio_val['Daily Return'].mean()"
      ],
      "execution_count": 33,
      "outputs": [
        {
          "output_type": "execute_result",
          "data": {
            "text/plain": [
              "0.0005442330716215244"
            ]
          },
          "metadata": {
            "tags": []
          },
          "execution_count": 33
        }
      ]
    },
    {
      "cell_type": "code",
      "metadata": {
        "colab": {
          "base_uri": "https://localhost:8080/"
        },
        "id": "kpDuHGfKUomD",
        "outputId": "5630cc9f-9fd7-4c70-fde0-11ee60148185"
      },
      "source": [
        "portfolio_val['Daily Return'].std()"
      ],
      "execution_count": 34,
      "outputs": [
        {
          "output_type": "execute_result",
          "data": {
            "text/plain": [
              "0.010568287769161718"
            ]
          },
          "metadata": {
            "tags": []
          },
          "execution_count": 34
        }
      ]
    },
    {
      "cell_type": "code",
      "metadata": {
        "colab": {
          "base_uri": "https://localhost:8080/",
          "height": 476
        },
        "id": "Ke6guI4mUsc9",
        "outputId": "490bfc46-bfd0-4762-ae61-159d42af3a2b"
      },
      "source": [
        "portfolio_val['Daily Return'].plot(kind='hist', bins=100, figsize=(12,8))"
      ],
      "execution_count": 35,
      "outputs": [
        {
          "output_type": "execute_result",
          "data": {
            "text/plain": [
              "<matplotlib.axes._subplots.AxesSubplot at 0x7f59ca3c98d0>"
            ]
          },
          "metadata": {
            "tags": []
          },
          "execution_count": 35
        },
        {
          "output_type": "display_data",
          "data": {
            "image/png": "[encoded data removed]",
            "text/plain": [
              "<Figure size 864x576 with 1 Axes>"
            ]
          },
          "metadata": {
            "tags": []
          }
        }
      ]
    },
    {
      "cell_type": "code",
      "metadata": {
        "colab": {
          "base_uri": "https://localhost:8080/",
          "height": 476
        },
        "id": "YzMA8PvLU3hp",
        "outputId": "301f3733-578a-476a-8e51-0e39f7e1bea2"
      },
      "source": [
        "portfolio_val['Daily Return'].plot(kind='kde', figsize=(12,8))"
      ],
      "execution_count": 37,
      "outputs": [
        {
          "output_type": "execute_result",
          "data": {
            "text/plain": [
              "<matplotlib.axes._subplots.AxesSubplot at 0x7f59b893bac8>"
            ]
          },
          "metadata": {
            "tags": []
          },
          "execution_count": 37
        },
        {
          "output_type": "display_data",
          "data": {
            "image/png": "[encoded data removed]",
            "text/plain": [
              "<Figure size 864x576 with 1 Axes>"
            ]
          },
          "metadata": {
            "tags": []
          }
        }
      ]
    },
    {
      "cell_type": "code",
      "metadata": {
        "id": "D3GkiEFWVA9J"
      },
      "source": [
        "cumulative_return = 100* (portfolio_val['Total Pos'][-1]/ portfolio_val['Total Pos'][0] - 1)"
      ],
      "execution_count": 38,
      "outputs": []
    },
    {
      "cell_type": "code",
      "metadata": {
        "colab": {
          "base_uri": "https://localhost:8080/"
        },
        "id": "2qyG2w37VeGD",
        "outputId": "f20af3c8-5abf-4035-bcee-616a9b77ea83"
      },
      "source": [
        "cumulative_return"
      ],
      "execution_count": 39,
      "outputs": [
        {
          "output_type": "execute_result",
          "data": {
            "text/plain": [
              "84.74285181665545"
            ]
          },
          "metadata": {
            "tags": []
          },
          "execution_count": 39
        }
      ]
    },
    {
      "cell_type": "code",
      "metadata": {
        "colab": {
          "base_uri": "https://localhost:8080/"
        },
        "id": "FkQ8jH36VgLX",
        "outputId": "fd9f413f-95e6-472a-c879-2c2a39b0d257"
      },
      "source": [
        "portfolio_val['Total Pos'][-1]"
      ],
      "execution_count": 40,
      "outputs": [
        {
          "output_type": "execute_result",
          "data": {
            "text/plain": [
              "1847428.5181665544"
            ]
          },
          "metadata": {
            "tags": []
          },
          "execution_count": 40
        }
      ]
    },
    {
      "cell_type": "code",
      "metadata": {
        "id": "Y78F3a45VoZX"
      },
      "source": [
        "SR = portfolio_val['Daily Return'].mean() / portfolio_val['Daily Return'].std()"
      ],
      "execution_count": 41,
      "outputs": []
    },
    {
      "cell_type": "code",
      "metadata": {
        "colab": {
          "base_uri": "https://localhost:8080/"
        },
        "id": "1Alw8nFUV6-o",
        "outputId": "f1407ce7-29f8-4e3e-f261-6ee680bea721"
      },
      "source": [
        "SR"
      ],
      "execution_count": 42,
      "outputs": [
        {
          "output_type": "execute_result",
          "data": {
            "text/plain": [
              "0.05149680662648092"
            ]
          },
          "metadata": {
            "tags": []
          },
          "execution_count": 42
        }
      ]
    },
    {
      "cell_type": "code",
      "metadata": {
        "colab": {
          "base_uri": "https://localhost:8080/"
        },
        "id": "0HE-zDNOV8V2",
        "outputId": "727c8632-359b-4410-a8e2-77c9cdd03960"
      },
      "source": [
        "ARS= (252**0.5) * SR\n",
        "ARS "
      ],
      "execution_count": 43,
      "outputs": [
        {
          "output_type": "execute_result",
          "data": {
            "text/plain": [
              "0.8174864618859096"
            ]
          },
          "metadata": {
            "tags": []
          },
          "execution_count": 43
        }
      ]
    },
    {
      "cell_type": "markdown",
      "metadata": {
        "id": "6NxPb9W-WLXU"
      },
      "source": [
        "Generally a Sharpe ratio greater than 1 is considered good and acceptable to investors"
      ]
    },
    {
      "cell_type": "markdown",
      "metadata": {
        "id": "lPMD4QVqWY4l"
      },
      "source": [
        "A ratio greater than 2 is very good "
      ]
    },
    {
      "cell_type": "markdown",
      "metadata": {
        "id": "JDS3xqG1WcnV"
      },
      "source": [
        "3 or higher is quite excellent"
      ]
    },
    {
      "cell_type": "code",
      "metadata": {
        "id": "gLtwBCFwWIUQ"
      },
      "source": [
        ""
      ],
      "execution_count": null,
      "outputs": []
    }
  ]
}